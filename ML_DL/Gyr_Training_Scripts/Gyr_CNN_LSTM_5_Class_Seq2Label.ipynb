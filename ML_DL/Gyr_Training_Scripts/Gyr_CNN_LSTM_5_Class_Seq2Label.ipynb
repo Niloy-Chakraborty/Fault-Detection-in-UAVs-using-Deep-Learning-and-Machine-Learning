{
  "nbformat": 4,
  "nbformat_minor": 0,
  "metadata": {
    "accelerator": "GPU",
    "colab": {
      "name": "Gyr_CNN_LSTM_5_Class_Seq2Label_V2.ipynb",
      "provenance": [],
      "collapsed_sections": [],
      "machine_shape": "hm"
    },
    "kernelspec": {
      "display_name": "Python 3",
      "language": "python",
      "name": "python3"
    },
    "language_info": {
      "codemirror_mode": {
        "name": "ipython",
        "version": 3
      },
      "file_extension": ".py",
      "mimetype": "text/x-python",
      "name": "python",
      "nbconvert_exporter": "python",
      "pygments_lexer": "ipython3",
      "version": "3.7.6"
    }
  },
  "cells": [
    {
      "cell_type": "markdown",
      "metadata": {
        "id": "Qzb1cp78-lji"
      },
      "source": [
        "### Training Script for Gyroscope Dataset using Hybrid CNN-LSTM Architecture \n",
        "\n",
        "@ Author : Niloy Chakraborty\n",
        "\n",
        "@ Author Contact: chakrabortyniloy2018@gmail.com"
      ]
    },
    {
      "cell_type": "code",
      "metadata": {
        "colab": {
          "base_uri": "https://localhost:8080/"
        },
        "id": "EGsE8YI5-usc",
        "outputId": "bb3602eb-9ac5-4b38-c66f-066ed9a143b9"
      },
      "source": [
        "# Connect to Google Colab.  If using Jupyter, then comment this part\n",
        "from google.colab import drive\n",
        "drive.mount('/gdrive')\n",
        "%cd /gdrive/MyDrive/THESIS/"
      ],
      "execution_count": null,
      "outputs": [
        {
          "output_type": "stream",
          "text": [
            "Drive already mounted at /gdrive; to attempt to forcibly remount, call drive.mount(\"/gdrive\", force_remount=True).\n",
            "/gdrive/MyDrive/THESIS\n"
          ],
          "name": "stdout"
        }
      ]
    },
    {
      "cell_type": "markdown",
      "metadata": {
        "id": "tX2BRGy61Ooj"
      },
      "source": [
        "#### Load the Libraries"
      ]
    },
    {
      "cell_type": "code",
      "metadata": {
        "id": "wdHJiHE7-ljl"
      },
      "source": [
        "import h5py\n",
        "import numpy as np\n",
        "import pandas as pd\n",
        "import matplotlib.pyplot as plt\n",
        "from os import listdir\n",
        "from os.path import isfile, join\n",
        "# import tensorflow_addons as tfa\n"
      ],
      "execution_count": null,
      "outputs": []
    },
    {
      "cell_type": "code",
      "metadata": {
        "id": "9Jmy2PiCc7jX"
      },
      "source": [
        "import os\n",
        "import yaml\n",
        "\n",
        "import tensorflow as tf\n",
        "\n",
        "from tensorflow.keras.models import Model,Sequential\n",
        "from tensorflow.keras.layers import LSTM, Dropout,Dense,RepeatVector,TimeDistributed,Input,BatchNormalization\n",
        "from tensorflow.keras.layers import Conv1D\n",
        "from tensorflow.keras.layers import MaxPooling1D\n",
        "from tensorflow.keras.layers import Flatten\n",
        "\n",
        "from tensorflow.keras.callbacks import TensorBoard\n",
        "from tensorflow.keras.callbacks import ModelCheckpoint\n",
        "from tensorflow.keras.callbacks import LearningRateScheduler\n",
        "from tensorflow.keras.optimizers import Adam as adam\n",
        "\n",
        "from sklearn.model_selection import train_test_split\n",
        "from sklearn.metrics import classification_report\n",
        "\n",
        "from tensorflow.keras.models import load_model"
      ],
      "execution_count": null,
      "outputs": []
    },
    {
      "cell_type": "markdown",
      "metadata": {
        "id": "jzVsN6F-1S7V"
      },
      "source": [
        "#### Load Training Dataset & Explore"
      ]
    },
    {
      "cell_type": "code",
      "metadata": {
        "id": "0Vzjw_qNPF2r"
      },
      "source": [
        "Category = \"Gyr_CNN_LSTM_5_Class\""
      ],
      "execution_count": null,
      "outputs": []
    },
    {
      "cell_type": "code",
      "metadata": {
        "id": "TzetVnbSiKjb"
      },
      "source": [
        "# Change File path here\n",
        "filepath = 'Gyr_25_secs_final_combined_faulty_data_train.csv'"
      ],
      "execution_count": null,
      "outputs": []
    },
    {
      "cell_type": "code",
      "metadata": {
        "id": "julalftVgSAm"
      },
      "source": [
        "header = ['AccX','AccY','AccZ','GyrX','GyrY','GyrZ','Altitude','Cmd1','Cmd2','Cmd3','Cmd4','Roll','Pitch','Yaw','ThurstRefOut1','ThurstRefOut2','ThurstRefOut3','ThurstRefOut4','Label']"
      ],
      "execution_count": null,
      "outputs": []
    },
    {
      "cell_type": "code",
      "metadata": {
        "colab": {
          "base_uri": "https://localhost:8080/",
          "height": 348
        },
        "id": "3tDfdbhDgCgl",
        "outputId": "f03776dc-6bc7-4009-8824-a493ac700676"
      },
      "source": [
        "df = pd.read_csv(filepath, header = None)\n",
        "df = df.rename(columns=df.iloc[0]).drop(df.index[0])\n",
        "df = df.iloc[:, 1:]\n",
        "df[\"Label\"] = pd.to_numeric(df[\"Label\"])\n",
        "df.head()"
      ],
      "execution_count": null,
      "outputs": [
        {
          "output_type": "stream",
          "text": [
            "/usr/local/lib/python3.7/dist-packages/IPython/core/interactiveshell.py:2718: DtypeWarning: Columns (1,2,3,4,5,6,7,8,9,10,11,12,13,14,15,16,17,18,19) have mixed types.Specify dtype option on import or set low_memory=False.\n",
            "  interactivity=interactivity, compiler=compiler, result=result)\n"
          ],
          "name": "stderr"
        },
        {
          "output_type": "execute_result",
          "data": {
            "text/html": [
              "<div>\n",
              "<style scoped>\n",
              "    .dataframe tbody tr th:only-of-type {\n",
              "        vertical-align: middle;\n",
              "    }\n",
              "\n",
              "    .dataframe tbody tr th {\n",
              "        vertical-align: top;\n",
              "    }\n",
              "\n",
              "    .dataframe thead th {\n",
              "        text-align: right;\n",
              "    }\n",
              "</style>\n",
              "<table border=\"1\" class=\"dataframe\">\n",
              "  <thead>\n",
              "    <tr style=\"text-align: right;\">\n",
              "      <th></th>\n",
              "      <th>AccX</th>\n",
              "      <th>AccY</th>\n",
              "      <th>AccZ</th>\n",
              "      <th>GyrX</th>\n",
              "      <th>GyrY</th>\n",
              "      <th>GyrZ</th>\n",
              "      <th>Altitude</th>\n",
              "      <th>Cmd1</th>\n",
              "      <th>Cmd2</th>\n",
              "      <th>Cmd3</th>\n",
              "      <th>Cmd4</th>\n",
              "      <th>Roll</th>\n",
              "      <th>Pitch</th>\n",
              "      <th>Yaw</th>\n",
              "      <th>ThurstRefOut1</th>\n",
              "      <th>ThurstRefOut2</th>\n",
              "      <th>ThurstRefOut3</th>\n",
              "      <th>ThurstRefOut4</th>\n",
              "      <th>Label</th>\n",
              "    </tr>\n",
              "  </thead>\n",
              "  <tbody>\n",
              "    <tr>\n",
              "      <th>1</th>\n",
              "      <td>0.03380774</td>\n",
              "      <td>-0.11192460000000001</td>\n",
              "      <td>-9.492839</td>\n",
              "      <td>-0.0098925</td>\n",
              "      <td>-0.007933972</td>\n",
              "      <td>0.00108462</td>\n",
              "      <td>0.44</td>\n",
              "      <td>342.9332</td>\n",
              "      <td>-342.9577</td>\n",
              "      <td>342.8969</td>\n",
              "      <td>-342.9631</td>\n",
              "      <td>-1.965233e-06</td>\n",
              "      <td>-2.155978e-06</td>\n",
              "      <td>-5.859605e-07</td>\n",
              "      <td>-0.22403289999999998</td>\n",
              "      <td>-0.2240489</td>\n",
              "      <td>-0.22400920000000002</td>\n",
              "      <td>-0.22405239999999998</td>\n",
              "      <td>0</td>\n",
              "    </tr>\n",
              "    <tr>\n",
              "      <th>2</th>\n",
              "      <td>-0.116923</td>\n",
              "      <td>-0.2512355</td>\n",
              "      <td>-14.08014</td>\n",
              "      <td>-0.01084344</td>\n",
              "      <td>-0.009036063</td>\n",
              "      <td>-2.253169e-05</td>\n",
              "      <td>0.44</td>\n",
              "      <td>343.0175</td>\n",
              "      <td>-342.912</td>\n",
              "      <td>342.8928</td>\n",
              "      <td>-342.9287</td>\n",
              "      <td>-4.02452e-06</td>\n",
              "      <td>-4.6669999999999995e-06</td>\n",
              "      <td>-7.215308e-08</td>\n",
              "      <td>-0.224088</td>\n",
              "      <td>-0.224019</td>\n",
              "      <td>-0.2240065</td>\n",
              "      <td>-0.22403</td>\n",
              "      <td>0</td>\n",
              "    </tr>\n",
              "    <tr>\n",
              "      <th>3</th>\n",
              "      <td>0.22785189999999997</td>\n",
              "      <td>0.06732436</td>\n",
              "      <td>-13.62979</td>\n",
              "      <td>-0.008328836</td>\n",
              "      <td>-0.006301623</td>\n",
              "      <td>0.0025199379999999998</td>\n",
              "      <td>0.44</td>\n",
              "      <td>342.9608</td>\n",
              "      <td>-342.8717</td>\n",
              "      <td>343.0659</td>\n",
              "      <td>-342.8525</td>\n",
              "      <td>6.818334e-06</td>\n",
              "      <td>7.100436999999999e-06</td>\n",
              "      <td>5.960543e-07</td>\n",
              "      <td>-0.2240509</td>\n",
              "      <td>-0.2239928</td>\n",
              "      <td>-0.2241196</td>\n",
              "      <td>-0.22398020000000002</td>\n",
              "      <td>0</td>\n",
              "    </tr>\n",
              "    <tr>\n",
              "      <th>4</th>\n",
              "      <td>-0.01241245</td>\n",
              "      <td>-0.1545401</td>\n",
              "      <td>-13.94356</td>\n",
              "      <td>-0.01056849</td>\n",
              "      <td>-0.008493732</td>\n",
              "      <td>0.0007364108</td>\n",
              "      <td>0.44</td>\n",
              "      <td>342.8445</td>\n",
              "      <td>-343.066</td>\n",
              "      <td>342.7531</td>\n",
              "      <td>-343.0873</td>\n",
              "      <td>-3.975494e-06</td>\n",
              "      <td>-3.691068e-06</td>\n",
              "      <td>1.940148e-06</td>\n",
              "      <td>-0.223975</td>\n",
              "      <td>-0.2241197</td>\n",
              "      <td>-0.22391529999999998</td>\n",
              "      <td>-0.22413360000000002</td>\n",
              "      <td>0</td>\n",
              "    </tr>\n",
              "    <tr>\n",
              "      <th>5</th>\n",
              "      <td>0.21535289999999999</td>\n",
              "      <td>0.05578018</td>\n",
              "      <td>-13.64611</td>\n",
              "      <td>-0.008419157</td>\n",
              "      <td>-0.006429253</td>\n",
              "      <td>0.00240215</td>\n",
              "      <td>0.44</td>\n",
              "      <td>343.4182</td>\n",
              "      <td>-342.416</td>\n",
              "      <td>343.5187</td>\n",
              "      <td>-342.3979</td>\n",
              "      <td>1.696333e-05</td>\n",
              "      <td>1.88649e-05</td>\n",
              "      <td>1.3310810000000002e-05</td>\n",
              "      <td>-0.22434980000000002</td>\n",
              "      <td>-0.2236951</td>\n",
              "      <td>-0.2244154</td>\n",
              "      <td>-0.2236833</td>\n",
              "      <td>0</td>\n",
              "    </tr>\n",
              "  </tbody>\n",
              "</table>\n",
              "</div>"
            ],
            "text/plain": [
              "                  AccX                  AccY  ...         ThurstRefOut4 Label\n",
              "1           0.03380774  -0.11192460000000001  ...  -0.22405239999999998     0\n",
              "2            -0.116923            -0.2512355  ...              -0.22403     0\n",
              "3  0.22785189999999997            0.06732436  ...  -0.22398020000000002     0\n",
              "4          -0.01241245            -0.1545401  ...  -0.22413360000000002     0\n",
              "5  0.21535289999999999            0.05578018  ...            -0.2236833     0\n",
              "\n",
              "[5 rows x 19 columns]"
            ]
          },
          "metadata": {
            "tags": []
          },
          "execution_count": 90
        }
      ]
    },
    {
      "cell_type": "code",
      "metadata": {
        "id": "HO-yptsebTNW"
      },
      "source": [
        ""
      ],
      "execution_count": null,
      "outputs": []
    },
    {
      "cell_type": "code",
      "metadata": {
        "colab": {
          "base_uri": "https://localhost:8080/"
        },
        "id": "lkQnPhOnvdOP",
        "outputId": "4856bbf9-7246-4945-d0e7-36d0cd88bf7f"
      },
      "source": [
        "df.columns"
      ],
      "execution_count": null,
      "outputs": [
        {
          "output_type": "execute_result",
          "data": {
            "text/plain": [
              "Index(['AccX', 'AccY', 'AccZ', 'GyrX', 'GyrY', 'GyrZ', 'Altitude', 'Cmd1',\n",
              "       'Cmd2', 'Cmd3', 'Cmd4', 'Roll', 'Pitch', 'Yaw', 'ThurstRefOut1',\n",
              "       'ThurstRefOut2', 'ThurstRefOut3', 'ThurstRefOut4', 'Label'],\n",
              "      dtype='object')"
            ]
          },
          "metadata": {
            "tags": []
          },
          "execution_count": 91
        }
      ]
    },
    {
      "cell_type": "code",
      "metadata": {
        "colab": {
          "base_uri": "https://localhost:8080/"
        },
        "id": "UwNzFwPqlV9J",
        "outputId": "d7027dc6-699b-4276-8d5e-e4c0eb4ca064"
      },
      "source": [
        "df.shape"
      ],
      "execution_count": null,
      "outputs": [
        {
          "output_type": "execute_result",
          "data": {
            "text/plain": [
              "(3075000, 19)"
            ]
          },
          "metadata": {
            "tags": []
          },
          "execution_count": 92
        }
      ]
    },
    {
      "cell_type": "code",
      "metadata": {
        "colab": {
          "base_uri": "https://localhost:8080/"
        },
        "id": "PObIjejqdlPq",
        "outputId": "9b6f3895-a478-448c-93de-a3845ac52bd3"
      },
      "source": [
        "df.info()"
      ],
      "execution_count": null,
      "outputs": [
        {
          "output_type": "stream",
          "text": [
            "<class 'pandas.core.frame.DataFrame'>\n",
            "Int64Index: 3075000 entries, 1 to 3075000\n",
            "Data columns (total 19 columns):\n",
            " #   Column         Dtype \n",
            "---  ------         ----- \n",
            " 0   AccX           object\n",
            " 1   AccY           object\n",
            " 2   AccZ           object\n",
            " 3   GyrX           object\n",
            " 4   GyrY           object\n",
            " 5   GyrZ           object\n",
            " 6   Altitude       object\n",
            " 7   Cmd1           object\n",
            " 8   Cmd2           object\n",
            " 9   Cmd3           object\n",
            " 10  Cmd4           object\n",
            " 11  Roll           object\n",
            " 12  Pitch          object\n",
            " 13  Yaw            object\n",
            " 14  ThurstRefOut1  object\n",
            " 15  ThurstRefOut2  object\n",
            " 16  ThurstRefOut3  object\n",
            " 17  ThurstRefOut4  object\n",
            " 18  Label          int64 \n",
            "dtypes: int64(1), object(18)\n",
            "memory usage: 469.2+ MB\n"
          ],
          "name": "stdout"
        }
      ]
    },
    {
      "cell_type": "code",
      "metadata": {
        "colab": {
          "base_uri": "https://localhost:8080/"
        },
        "id": "AJ5hCnQScwzT",
        "outputId": "a43396ba-db18-4e1e-a1b6-bf62c6601d83"
      },
      "source": [
        "df[\"Label\"].unique()"
      ],
      "execution_count": null,
      "outputs": [
        {
          "output_type": "execute_result",
          "data": {
            "text/plain": [
              "array([0, 1, 2, 3, 4])"
            ]
          },
          "metadata": {
            "tags": []
          },
          "execution_count": 94
        }
      ]
    },
    {
      "cell_type": "code",
      "metadata": {
        "id": "_KQ3fpfMdqtZ"
      },
      "source": [
        "df = df.apply(pd.to_numeric)\n"
      ],
      "execution_count": null,
      "outputs": []
    },
    {
      "cell_type": "code",
      "metadata": {
        "colab": {
          "base_uri": "https://localhost:8080/"
        },
        "id": "JDjFCktue1rR",
        "outputId": "be87a0e7-fa3e-49cf-f837-83e481cd0481"
      },
      "source": [
        "df.info()"
      ],
      "execution_count": null,
      "outputs": [
        {
          "output_type": "stream",
          "text": [
            "<class 'pandas.core.frame.DataFrame'>\n",
            "Int64Index: 3075000 entries, 1 to 3075000\n",
            "Data columns (total 19 columns):\n",
            " #   Column         Dtype  \n",
            "---  ------         -----  \n",
            " 0   AccX           float64\n",
            " 1   AccY           float64\n",
            " 2   AccZ           float64\n",
            " 3   GyrX           float64\n",
            " 4   GyrY           float64\n",
            " 5   GyrZ           float64\n",
            " 6   Altitude       float64\n",
            " 7   Cmd1           float64\n",
            " 8   Cmd2           float64\n",
            " 9   Cmd3           float64\n",
            " 10  Cmd4           float64\n",
            " 11  Roll           float64\n",
            " 12  Pitch          float64\n",
            " 13  Yaw            float64\n",
            " 14  ThurstRefOut1  float64\n",
            " 15  ThurstRefOut2  float64\n",
            " 16  ThurstRefOut3  float64\n",
            " 17  ThurstRefOut4  float64\n",
            " 18  Label          int64  \n",
            "dtypes: float64(18), int64(1)\n",
            "memory usage: 469.2 MB\n"
          ],
          "name": "stdout"
        }
      ]
    },
    {
      "cell_type": "code",
      "metadata": {
        "colab": {
          "base_uri": "https://localhost:8080/"
        },
        "id": "aDnXapJ9rKs6",
        "outputId": "bbad8e8f-0e00-4e4e-8fd7-5aacdfb4d0d6"
      },
      "source": [
        "df[\"Label\"].unique()"
      ],
      "execution_count": null,
      "outputs": [
        {
          "output_type": "execute_result",
          "data": {
            "text/plain": [
              "array([0, 1, 2, 3, 4])"
            ]
          },
          "metadata": {
            "tags": []
          },
          "execution_count": 97
        }
      ]
    },
    {
      "cell_type": "markdown",
      "metadata": {
        "id": "2-kLe6vr1dQe"
      },
      "source": [
        "### Data Pre-processing"
      ]
    },
    {
      "cell_type": "markdown",
      "metadata": {
        "id": "FKIlphUD1hNO"
      },
      "source": [
        "#### Feature Engineering"
      ]
    },
    {
      "cell_type": "code",
      "metadata": {
        "colab": {
          "base_uri": "https://localhost:8080/",
          "height": 332
        },
        "id": "ilA4S4u1gDWn",
        "outputId": "cbbe4da3-4c68-4985-b11d-8cefa0bd02da"
      },
      "source": [
        "import seaborn as sns\n",
        "\n",
        "sns.heatmap(df.corr())\n",
        "plt.show()"
      ],
      "execution_count": null,
      "outputs": [
        {
          "output_type": "display_data",
          "data": {
            "image/png": "[encoded data removed]",
            "text/plain": [
              "<Figure size 432x288 with 2 Axes>"
            ]
          },
          "metadata": {
            "tags": [],
            "needs_background": "light"
          }
        }
      ]
    },
    {
      "cell_type": "code",
      "metadata": {
        "id": "SBKcAWizgySy"
      },
      "source": [
        "new_cols = [\"AccX\",\"AccY\",\"AccZ\",\"GyrX\",\"GyrY\",\"GyrZ\",\"Cmd4\",\"Cmd3\",\"Label\"]"
      ],
      "execution_count": null,
      "outputs": []
    },
    {
      "cell_type": "code",
      "metadata": {
        "id": "gkYzlpvpgvnW"
      },
      "source": [
        "df = df[new_cols]"
      ],
      "execution_count": null,
      "outputs": []
    },
    {
      "cell_type": "code",
      "metadata": {
        "colab": {
          "base_uri": "https://localhost:8080/"
        },
        "id": "egMpq0VChLaP",
        "outputId": "4a43c463-2936-4f09-8d6e-1a6f15fede6d"
      },
      "source": [
        "df.shape"
      ],
      "execution_count": null,
      "outputs": [
        {
          "output_type": "execute_result",
          "data": {
            "text/plain": [
              "(3075000, 9)"
            ]
          },
          "metadata": {
            "tags": []
          },
          "execution_count": 101
        }
      ]
    },
    {
      "cell_type": "code",
      "metadata": {
        "colab": {
          "base_uri": "https://localhost:8080/"
        },
        "id": "VUqmAc3PXqBL",
        "outputId": "b7cb3221-669c-4ad0-fa65-e7aba63ef0a4"
      },
      "source": [
        "df[\"Label\"].value_counts()"
      ],
      "execution_count": null,
      "outputs": [
        {
          "output_type": "execute_result",
          "data": {
            "text/plain": [
              "0    1885107\n",
              "3     306630\n",
              "4     300858\n",
              "1     297929\n",
              "2     284476\n",
              "Name: Label, dtype: int64"
            ]
          },
          "metadata": {
            "tags": []
          },
          "execution_count": 102
        }
      ]
    },
    {
      "cell_type": "code",
      "metadata": {
        "colab": {
          "base_uri": "https://localhost:8080/"
        },
        "id": "wp7m7ypqypXB",
        "outputId": "834f4332-b43e-446e-ae94-6e8c02e23e5e"
      },
      "source": [
        "df[\"Label\"].unique()"
      ],
      "execution_count": null,
      "outputs": [
        {
          "output_type": "execute_result",
          "data": {
            "text/plain": [
              "array([0, 1, 2, 3, 4])"
            ]
          },
          "metadata": {
            "tags": []
          },
          "execution_count": 103
        }
      ]
    },
    {
      "cell_type": "markdown",
      "metadata": {
        "id": "yPxvHSQccs14"
      },
      "source": [
        "#### Data Normalization"
      ]
    },
    {
      "cell_type": "code",
      "metadata": {
        "id": "-xnbcj-5n9DZ"
      },
      "source": [
        "y = df[\"Label\"]\n",
        "X = df.drop(\"Label\",axis= 1)"
      ],
      "execution_count": null,
      "outputs": []
    },
    {
      "cell_type": "code",
      "metadata": {
        "id": "7-MZBImicKTl"
      },
      "source": [
        "\n",
        "from sklearn.preprocessing import RobustScaler\n",
        "new_cols = [\"AccX\",\"AccY\",\"AccZ\",\"GyrX\",\"GyrY\",\"GyrZ\",\"Cmd4\",\"Cmd3\"]\n",
        "scale_columns = new_cols\n",
        "\n",
        "scaler = RobustScaler()\n",
        "\n",
        "scaler = scaler.fit(X[scale_columns])\n",
        "\n",
        "X.loc[:, scale_columns] = scaler.transform(X[scale_columns].to_numpy())\n"
      ],
      "execution_count": null,
      "outputs": []
    },
    {
      "cell_type": "code",
      "metadata": {
        "id": "-XbjS5BrzRz8"
      },
      "source": [
        "n_features = len(new_cols)"
      ],
      "execution_count": null,
      "outputs": []
    },
    {
      "cell_type": "markdown",
      "metadata": {
        "id": "NxUthBNj1u0c"
      },
      "source": [
        "#### Creating Sliding Windows"
      ]
    },
    {
      "cell_type": "code",
      "metadata": {
        "id": "Grt-YCYmpDpb",
        "colab": {
          "base_uri": "https://localhost:8080/"
        },
        "outputId": "b8ea8cca-c5e7-4268-8f59-683626688258"
      },
      "source": [
        "from scipy import stats\n",
        "\n",
        "def create_dataset(X, y, time_steps=1, step=1):\n",
        "    Xs, ys = [], []\n",
        "    for i in range(0, len(X) - time_steps, step):\n",
        "        v = X.iloc[i:(i + time_steps)].values\n",
        "        # print(v.shape)\n",
        "        labels = y.iloc[i: i + time_steps]\n",
        "        Xs.append(v)        \n",
        "        ys.append(stats.mode(labels)[0][0])\n",
        "    return np.array(Xs), np.array(ys).reshape(-1, 1)\n",
        "\n",
        "TIME_STEPS = 64\n",
        "STEP = 40\n",
        "\n",
        "print(X.shape)\n",
        "X_train, y_train = create_dataset(\n",
        "    X[new_cols], \n",
        "    y, \n",
        "    TIME_STEPS, \n",
        "    STEP\n",
        ")\n",
        "print(X_train.shape)\n"
      ],
      "execution_count": null,
      "outputs": [
        {
          "output_type": "stream",
          "text": [
            "(3075000, 8)\n",
            "(76874, 64, 8)\n"
          ],
          "name": "stdout"
        }
      ]
    },
    {
      "cell_type": "code",
      "metadata": {
        "id": "hma4603MXZJ0"
      },
      "source": [
        "# Reshape data to feed into the Network\n",
        "X_train = X_train.reshape(X_train.shape[0],4,int(TIME_STEPS/4),n_features)"
      ],
      "execution_count": null,
      "outputs": []
    },
    {
      "cell_type": "code",
      "metadata": {
        "colab": {
          "base_uri": "https://localhost:8080/"
        },
        "id": "FThHScpGp5q5",
        "outputId": "ff92ad45-706a-4d12-d13b-1bd51d0e7494"
      },
      "source": [
        "print(X_train.shape, y_train.shape)\n"
      ],
      "execution_count": null,
      "outputs": [
        {
          "output_type": "stream",
          "text": [
            "(76874, 4, 16, 8) (76874, 1)\n"
          ],
          "name": "stdout"
        }
      ]
    },
    {
      "cell_type": "code",
      "metadata": {
        "colab": {
          "base_uri": "https://localhost:8080/"
        },
        "id": "YSSfyXXEqiad",
        "outputId": "53def94c-3e6b-4840-d20f-b64003afec7d"
      },
      "source": [
        "type(y_train)"
      ],
      "execution_count": null,
      "outputs": [
        {
          "output_type": "execute_result",
          "data": {
            "text/plain": [
              "numpy.ndarray"
            ]
          },
          "metadata": {
            "tags": []
          },
          "execution_count": 111
        }
      ]
    },
    {
      "cell_type": "code",
      "metadata": {
        "colab": {
          "base_uri": "https://localhost:8080/"
        },
        "id": "pzDwDD3Er-zV",
        "outputId": "6aec6aac-3754-4ebf-de32-9e940b9146b4"
      },
      "source": [
        "unique, counts = np.unique(y_train, return_counts=True)\n",
        "\n",
        "print(np.asarray((unique, counts)).T)"
      ],
      "execution_count": null,
      "outputs": [
        {
          "output_type": "stream",
          "text": [
            "[[    0 47410]\n",
            " [    1  7363]\n",
            " [    2  7045]\n",
            " [    3  7603]\n",
            " [    4  7453]]\n"
          ],
          "name": "stdout"
        }
      ]
    },
    {
      "cell_type": "markdown",
      "metadata": {
        "id": "KI9lb_Kz14gd"
      },
      "source": [
        "#### Label encoding "
      ]
    },
    {
      "cell_type": "code",
      "metadata": {
        "id": "JsEFUUKJp8un"
      },
      "source": [
        "from sklearn.preprocessing import OneHotEncoder\n",
        "\n",
        "enc = OneHotEncoder(handle_unknown='ignore', sparse=False)\n",
        "\n",
        "enc = enc.fit(y_train)\n",
        "\n",
        "y_train = enc.transform(y_train)\n",
        "# y_test = enc.transform(y_test)"
      ],
      "execution_count": null,
      "outputs": []
    },
    {
      "cell_type": "code",
      "metadata": {
        "colab": {
          "base_uri": "https://localhost:8080/"
        },
        "id": "sIIpTsZHqMS4",
        "outputId": "cfdb33dd-3b81-472d-fd23-5910f87b3a1b"
      },
      "source": [
        "print(X_train.shape, y_train.shape)\n"
      ],
      "execution_count": null,
      "outputs": [
        {
          "output_type": "stream",
          "text": [
            "(76874, 4, 16, 8) (76874, 5)\n"
          ],
          "name": "stdout"
        }
      ]
    },
    {
      "cell_type": "code",
      "metadata": {
        "id": "vAdJ3QSuPeYV"
      },
      "source": [
        ""
      ],
      "execution_count": null,
      "outputs": []
    },
    {
      "cell_type": "markdown",
      "metadata": {
        "id": "Uoh1-23WgAPy"
      },
      "source": [
        "### Create the Hybrid CNN-LSTM Architecture"
      ]
    },
    {
      "cell_type": "code",
      "metadata": {
        "id": "PcYj9Zzmb9B3"
      },
      "source": [
        "model = Sequential()\n",
        "# Add 3 CNN models with 32 filters and window size of 4\n",
        "model.add(TimeDistributed(Conv1D(filters=128, kernel_size=4, activation='relu'), input_shape=(4,int(TIME_STEPS/4), n_features)))\n",
        "model.add(TimeDistributed(Conv1D(filters=64, kernel_size=4, activation='relu')))\n",
        "# model.add(Dropout(0.2))\n",
        "\n",
        "model.add(TimeDistributed(Conv1D(filters=32, kernel_size=4, activation='relu')))\n",
        "model.add(TimeDistributed(Dropout(0.4)))\n",
        "# Add max-pooling layer\n",
        "model.add(TimeDistributed(MaxPooling1D(pool_size=2)))\n",
        "# The extracted features are then flattened and provided to the LSTM model to read\n",
        "model.add(TimeDistributed(Flatten()))\n",
        "# Add LSTM Model\n",
        "model.add(LSTM(150))\n",
        "# Use Dropout layer to reduce overfitting of the model to the training data\n",
        "model.add(Dropout(0.3))\n",
        "# Add one hidden layer with 100 default nodes with relu activation function\n",
        "model.add(Dense(50, activation='relu'))\n",
        "# Add output layer with 6 (Total number of classes) nodes with softmax activation function\n",
        "model.add(Dense(5, activation='softmax'))"
      ],
      "execution_count": null,
      "outputs": []
    },
    {
      "cell_type": "code",
      "metadata": {
        "colab": {
          "base_uri": "https://localhost:8080/"
        },
        "id": "xOuGEbcyv2Ot",
        "outputId": "19204e59-74e7-49fd-fcfc-dd1b7eff335c"
      },
      "source": [
        "model.summary()"
      ],
      "execution_count": null,
      "outputs": [
        {
          "output_type": "stream",
          "text": [
            "Model: \"sequential_2\"\n",
            "_________________________________________________________________\n",
            "Layer (type)                 Output Shape              Param #   \n",
            "=================================================================\n",
            "time_distributed_12 (TimeDis (None, 4, 13, 32)         1056      \n",
            "_________________________________________________________________\n",
            "time_distributed_13 (TimeDis (None, 4, 10, 32)         4128      \n",
            "_________________________________________________________________\n",
            "time_distributed_14 (TimeDis (None, 4, 7, 32)          4128      \n",
            "_________________________________________________________________\n",
            "time_distributed_15 (TimeDis (None, 4, 7, 32)          0         \n",
            "_________________________________________________________________\n",
            "time_distributed_16 (TimeDis (None, 4, 3, 32)          0         \n",
            "_________________________________________________________________\n",
            "time_distributed_17 (TimeDis (None, 4, 96)             0         \n",
            "_________________________________________________________________\n",
            "lstm_2 (LSTM)                (None, 150)               148200    \n",
            "_________________________________________________________________\n",
            "dropout_5 (Dropout)          (None, 150)               0         \n",
            "_________________________________________________________________\n",
            "dense_4 (Dense)              (None, 50)                7550      \n",
            "_________________________________________________________________\n",
            "dense_5 (Dense)              (None, 5)                 255       \n",
            "=================================================================\n",
            "Total params: 165,317\n",
            "Trainable params: 165,317\n",
            "Non-trainable params: 0\n",
            "_________________________________________________________________\n"
          ],
          "name": "stdout"
        }
      ]
    },
    {
      "cell_type": "markdown",
      "metadata": {
        "id": "7MRR0hAbgOOv"
      },
      "source": [
        "### Train the Model"
      ]
    },
    {
      "cell_type": "code",
      "metadata": {
        "id": "9k7B8VL-Z7zb"
      },
      "source": [
        "# Function for plotting Acuracy and Loss\n",
        "def plot_training(history):\n",
        "    print(history.history.keys())\n",
        "\n",
        "    #  \"Accuracy\"\n",
        "    plt.plot(history.history['accuracy'])\n",
        "    plt.plot(history.history['val_accuracy'])\n",
        "    plt.title('model accuracy')\n",
        "    plt.ylabel('accuracy')\n",
        "    plt.xlabel('epoch')\n",
        "    plt.legend(['train', 'validation'], loc='upper left')\n",
        "    plt.show()\n",
        "    \n",
        "    # \"Loss\"\n",
        "    plt.plot(history.history['loss'])\n",
        "    plt.plot(history.history['val_loss'])\n",
        "    plt.title('model loss')\n",
        "    plt.ylabel('loss')\n",
        "    plt.xlabel('epoch')\n",
        "    plt.legend(['train', 'validation'], loc='upper left')\n",
        "    plt.show()"
      ],
      "execution_count": null,
      "outputs": []
    },
    {
      "cell_type": "code",
      "metadata": {
        "colab": {
          "base_uri": "https://localhost:8080/",
          "height": 1000
        },
        "id": "WMg7mXZmgJuG",
        "outputId": "c02283cb-1c34-41e8-a737-7145b7ca6c73"
      },
      "source": [
        "def training(model, X_train, y_train):\n",
        "    # Another control put in place to handle overfitting\n",
        "    # early_stopping = tf.keras.callbacks.EarlyStopping(monitor='val_loss',verbose=1,patience=20,mode='min',restore_best_weights=True)\n",
        "\n",
        "    initial_learning_rate = 0.00001\n",
        "    lr_schedule = tf.keras.optimizers.schedules.ExponentialDecay(\n",
        "    initial_learning_rate,\n",
        "    decay_steps = 100000,\n",
        "    decay_rate = 0.96,\n",
        "    staircase = True)\n",
        "\n",
        "   \n",
        "    opt = tf.keras.optimizers.Adam(learning_rate = 0.001)\n",
        "    # opt = tfa.optimizers.SWA(tf.keras.optimizers.SGD(), 100, 10)\n",
        "    # compile the model and Start training\n",
        "    model.compile(optimizer = opt, loss = 'categorical_crossentropy', metrics = ['accuracy']) \n",
        "\n",
        "    history = model.fit(X_train, y_train,epochs=100,batch_size=64,validation_split=0.2,shuffle=True)\n",
        "    #callbacks=[early_stopping]\n",
        "    print(history.history.keys())\n",
        "    # plot training performance over the epochs\n",
        "    plot_training(history)\n",
        "    return history\n",
        "\n",
        "history= training(model, X_train, y_train)"
      ],
      "execution_count": null,
      "outputs": [
        {
          "output_type": "stream",
          "text": [
            "Epoch 1/100\n",
            "961/961 [==============================] - 9s 8ms/step - loss: 0.6769 - accuracy: 0.7085 - val_loss: 0.3411 - val_accuracy: 0.9117\n",
            "Epoch 2/100\n",
            "961/961 [==============================] - 7s 7ms/step - loss: 0.4788 - accuracy: 0.7831 - val_loss: 0.2660 - val_accuracy: 0.9251\n",
            "Epoch 3/100\n",
            "961/961 [==============================] - 7s 7ms/step - loss: 0.4117 - accuracy: 0.8179 - val_loss: 0.1017 - val_accuracy: 0.9800\n",
            "Epoch 4/100\n",
            "961/961 [==============================] - 7s 7ms/step - loss: 0.3734 - accuracy: 0.8368 - val_loss: 0.0958 - val_accuracy: 0.9740\n",
            "Epoch 5/100\n",
            "961/961 [==============================] - 7s 7ms/step - loss: 0.3462 - accuracy: 0.8501 - val_loss: 0.1494 - val_accuracy: 0.9602\n",
            "Epoch 6/100\n",
            "961/961 [==============================] - 7s 7ms/step - loss: 0.3282 - accuracy: 0.8610 - val_loss: 0.4709 - val_accuracy: 0.6693\n",
            "Epoch 7/100\n",
            "961/961 [==============================] - 7s 7ms/step - loss: 0.3135 - accuracy: 0.8678 - val_loss: 0.2354 - val_accuracy: 0.9436\n",
            "Epoch 8/100\n",
            "961/961 [==============================] - 7s 7ms/step - loss: 0.3020 - accuracy: 0.8721 - val_loss: 0.2885 - val_accuracy: 0.9230\n",
            "Epoch 9/100\n",
            "961/961 [==============================] - 7s 7ms/step - loss: 0.2950 - accuracy: 0.8748 - val_loss: 0.9723 - val_accuracy: 0.6483\n",
            "Epoch 10/100\n",
            "961/961 [==============================] - 6s 7ms/step - loss: 0.2881 - accuracy: 0.8762 - val_loss: 0.3732 - val_accuracy: 0.9060\n",
            "Epoch 11/100\n",
            "961/961 [==============================] - 7s 7ms/step - loss: 0.2789 - accuracy: 0.8815 - val_loss: 0.5628 - val_accuracy: 0.6656\n",
            "Epoch 12/100\n",
            "961/961 [==============================] - 7s 7ms/step - loss: 0.2766 - accuracy: 0.8817 - val_loss: 0.4759 - val_accuracy: 0.8710\n",
            "Epoch 13/100\n",
            "961/961 [==============================] - 7s 7ms/step - loss: 0.2728 - accuracy: 0.8842 - val_loss: 0.0827 - val_accuracy: 0.9757\n",
            "Epoch 14/100\n",
            "961/961 [==============================] - 7s 7ms/step - loss: 0.2607 - accuracy: 0.8907 - val_loss: 0.4602 - val_accuracy: 0.8706\n",
            "Epoch 15/100\n",
            "961/961 [==============================] - 7s 7ms/step - loss: 0.2386 - accuracy: 0.9050 - val_loss: 0.1225 - val_accuracy: 0.9610\n",
            "Epoch 16/100\n",
            "961/961 [==============================] - 7s 7ms/step - loss: 0.1908 - accuracy: 0.9262 - val_loss: 0.4277 - val_accuracy: 0.8978\n",
            "Epoch 17/100\n",
            "961/961 [==============================] - 7s 7ms/step - loss: 0.1452 - accuracy: 0.9455 - val_loss: 0.2203 - val_accuracy: 0.9413\n",
            "Epoch 18/100\n",
            "961/961 [==============================] - 7s 7ms/step - loss: 0.1302 - accuracy: 0.9524 - val_loss: 0.1031 - val_accuracy: 0.9658\n",
            "Epoch 19/100\n",
            "961/961 [==============================] - 7s 7ms/step - loss: 0.1223 - accuracy: 0.9550 - val_loss: 0.0884 - val_accuracy: 0.9713\n",
            "Epoch 20/100\n",
            "961/961 [==============================] - 7s 7ms/step - loss: 0.1181 - accuracy: 0.9564 - val_loss: 0.2489 - val_accuracy: 0.9316\n",
            "Epoch 21/100\n",
            "961/961 [==============================] - 7s 7ms/step - loss: 0.1133 - accuracy: 0.9580 - val_loss: 0.1144 - val_accuracy: 0.9642\n",
            "Epoch 22/100\n",
            "961/961 [==============================] - 7s 7ms/step - loss: 0.1078 - accuracy: 0.9596 - val_loss: 0.3768 - val_accuracy: 0.9167\n",
            "Epoch 23/100\n",
            "961/961 [==============================] - 7s 7ms/step - loss: 0.1061 - accuracy: 0.9601 - val_loss: 0.1119 - val_accuracy: 0.9652\n",
            "Epoch 24/100\n",
            "961/961 [==============================] - 7s 7ms/step - loss: 0.1086 - accuracy: 0.9593 - val_loss: 0.3116 - val_accuracy: 0.9179\n",
            "Epoch 25/100\n",
            "961/961 [==============================] - 7s 7ms/step - loss: 0.1031 - accuracy: 0.9623 - val_loss: 0.3319 - val_accuracy: 0.9183\n",
            "Epoch 26/100\n",
            "961/961 [==============================] - 7s 7ms/step - loss: 0.1019 - accuracy: 0.9612 - val_loss: 0.0890 - val_accuracy: 0.9748\n",
            "Epoch 27/100\n",
            "961/961 [==============================] - 7s 7ms/step - loss: 0.0976 - accuracy: 0.9638 - val_loss: 0.4365 - val_accuracy: 0.9087\n",
            "Epoch 28/100\n",
            "961/961 [==============================] - 7s 7ms/step - loss: 0.0978 - accuracy: 0.9627 - val_loss: 0.5711 - val_accuracy: 0.6641\n",
            "Epoch 29/100\n",
            "961/961 [==============================] - 7s 7ms/step - loss: 0.0952 - accuracy: 0.9640 - val_loss: 0.1054 - val_accuracy: 0.9699\n",
            "Epoch 30/100\n",
            "961/961 [==============================] - 7s 7ms/step - loss: 0.0971 - accuracy: 0.9634 - val_loss: 0.0444 - val_accuracy: 0.9871\n",
            "Epoch 31/100\n",
            "961/961 [==============================] - 7s 7ms/step - loss: 0.0944 - accuracy: 0.9644 - val_loss: 0.2186 - val_accuracy: 0.9357\n",
            "Epoch 32/100\n",
            "961/961 [==============================] - 7s 7ms/step - loss: 0.0891 - accuracy: 0.9665 - val_loss: 0.1935 - val_accuracy: 0.9424\n",
            "Epoch 33/100\n",
            "961/961 [==============================] - 7s 7ms/step - loss: 0.0933 - accuracy: 0.9648 - val_loss: 0.1262 - val_accuracy: 0.9603\n",
            "Epoch 34/100\n",
            "961/961 [==============================] - 7s 7ms/step - loss: 0.0924 - accuracy: 0.9659 - val_loss: 0.1654 - val_accuracy: 0.9584\n",
            "Epoch 35/100\n",
            "961/961 [==============================] - 7s 7ms/step - loss: 0.0915 - accuracy: 0.9662 - val_loss: 0.1662 - val_accuracy: 0.9566\n",
            "Epoch 36/100\n",
            "961/961 [==============================] - 7s 7ms/step - loss: 0.0926 - accuracy: 0.9657 - val_loss: 0.0973 - val_accuracy: 0.9690\n",
            "Epoch 37/100\n",
            "961/961 [==============================] - 7s 7ms/step - loss: 0.0877 - accuracy: 0.9667 - val_loss: 0.0641 - val_accuracy: 0.9807\n",
            "Epoch 38/100\n",
            "961/961 [==============================] - 7s 7ms/step - loss: 0.0897 - accuracy: 0.9666 - val_loss: 0.1613 - val_accuracy: 0.9628\n",
            "Epoch 39/100\n",
            "961/961 [==============================] - 7s 7ms/step - loss: 0.0879 - accuracy: 0.9666 - val_loss: 0.1234 - val_accuracy: 0.9642\n",
            "Epoch 40/100\n",
            "961/961 [==============================] - 7s 7ms/step - loss: 0.0872 - accuracy: 0.9671 - val_loss: 0.1349 - val_accuracy: 0.9623\n",
            "Epoch 41/100\n",
            "961/961 [==============================] - 7s 7ms/step - loss: 0.0832 - accuracy: 0.9680 - val_loss: 0.0840 - val_accuracy: 0.9785\n",
            "Epoch 42/100\n",
            "961/961 [==============================] - 7s 7ms/step - loss: 0.0852 - accuracy: 0.9672 - val_loss: 0.1327 - val_accuracy: 0.9562\n",
            "Epoch 43/100\n",
            "961/961 [==============================] - 7s 7ms/step - loss: 0.0897 - accuracy: 0.9664 - val_loss: 0.2256 - val_accuracy: 0.9566\n",
            "Epoch 44/100\n",
            "961/961 [==============================] - 7s 7ms/step - loss: 0.0819 - accuracy: 0.9689 - val_loss: 0.2264 - val_accuracy: 0.9471\n",
            "Epoch 45/100\n",
            "961/961 [==============================] - 7s 7ms/step - loss: 0.0852 - accuracy: 0.9675 - val_loss: 0.0910 - val_accuracy: 0.9729\n",
            "Epoch 46/100\n",
            "961/961 [==============================] - 7s 7ms/step - loss: 0.0867 - accuracy: 0.9672 - val_loss: 0.1105 - val_accuracy: 0.9637\n",
            "Epoch 47/100\n",
            "961/961 [==============================] - 7s 7ms/step - loss: 0.0826 - accuracy: 0.9677 - val_loss: 0.0514 - val_accuracy: 0.9832\n",
            "Epoch 48/100\n",
            "961/961 [==============================] - 7s 7ms/step - loss: 0.0862 - accuracy: 0.9670 - val_loss: 0.4246 - val_accuracy: 0.9010\n",
            "Epoch 49/100\n",
            "961/961 [==============================] - 7s 7ms/step - loss: 0.0780 - accuracy: 0.9691 - val_loss: 0.3626 - val_accuracy: 0.9197\n",
            "Epoch 50/100\n",
            "961/961 [==============================] - 7s 7ms/step - loss: 0.0847 - accuracy: 0.9671 - val_loss: 0.1073 - val_accuracy: 0.9673\n",
            "Epoch 51/100\n",
            "961/961 [==============================] - 6s 7ms/step - loss: 0.0830 - accuracy: 0.9680 - val_loss: 0.5654 - val_accuracy: 0.7009\n",
            "Epoch 52/100\n",
            "961/961 [==============================] - 7s 7ms/step - loss: 0.0857 - accuracy: 0.9683 - val_loss: 0.0925 - val_accuracy: 0.9672\n",
            "Epoch 53/100\n",
            "961/961 [==============================] - 7s 7ms/step - loss: 0.0851 - accuracy: 0.9679 - val_loss: 0.1035 - val_accuracy: 0.9687\n",
            "Epoch 54/100\n",
            "961/961 [==============================] - 7s 7ms/step - loss: 0.0864 - accuracy: 0.9676 - val_loss: 0.5355 - val_accuracy: 0.6495\n",
            "Epoch 55/100\n",
            "961/961 [==============================] - 7s 7ms/step - loss: 0.0844 - accuracy: 0.9686 - val_loss: 0.1106 - val_accuracy: 0.9651\n",
            "Epoch 56/100\n",
            "961/961 [==============================] - 7s 7ms/step - loss: 0.0846 - accuracy: 0.9683 - val_loss: 0.1727 - val_accuracy: 0.9521\n",
            "Epoch 57/100\n",
            "961/961 [==============================] - 7s 7ms/step - loss: 0.0842 - accuracy: 0.9678 - val_loss: 0.1899 - val_accuracy: 0.9567\n",
            "Epoch 58/100\n",
            "961/961 [==============================] - 7s 7ms/step - loss: 0.0767 - accuracy: 0.9708 - val_loss: 0.0815 - val_accuracy: 0.9775\n",
            "Epoch 59/100\n",
            "961/961 [==============================] - 7s 7ms/step - loss: 0.0812 - accuracy: 0.9688 - val_loss: 0.1312 - val_accuracy: 0.9606\n",
            "Epoch 60/100\n",
            "961/961 [==============================] - 7s 7ms/step - loss: 0.0839 - accuracy: 0.9683 - val_loss: 0.1106 - val_accuracy: 0.9725\n",
            "Epoch 61/100\n",
            "961/961 [==============================] - 7s 7ms/step - loss: 0.0770 - accuracy: 0.9715 - val_loss: 0.3257 - val_accuracy: 0.8118\n",
            "Epoch 62/100\n",
            "961/961 [==============================] - 7s 7ms/step - loss: 0.0814 - accuracy: 0.9690 - val_loss: 0.0764 - val_accuracy: 0.9768\n",
            "Epoch 63/100\n",
            "961/961 [==============================] - 7s 7ms/step - loss: 0.0798 - accuracy: 0.9698 - val_loss: 0.0761 - val_accuracy: 0.9813\n",
            "Epoch 64/100\n",
            "961/961 [==============================] - 7s 7ms/step - loss: 0.0827 - accuracy: 0.9686 - val_loss: 0.0506 - val_accuracy: 0.9819\n",
            "Epoch 65/100\n",
            "961/961 [==============================] - 7s 7ms/step - loss: 0.0797 - accuracy: 0.9698 - val_loss: 0.1752 - val_accuracy: 0.9420\n",
            "Epoch 66/100\n",
            "961/961 [==============================] - 7s 7ms/step - loss: 0.0787 - accuracy: 0.9697 - val_loss: 0.1699 - val_accuracy: 0.9433\n",
            "Epoch 67/100\n",
            "961/961 [==============================] - 7s 7ms/step - loss: 0.0879 - accuracy: 0.9663 - val_loss: 0.1070 - val_accuracy: 0.9679\n",
            "Epoch 68/100\n",
            "961/961 [==============================] - 7s 7ms/step - loss: 0.0787 - accuracy: 0.9696 - val_loss: 0.0978 - val_accuracy: 0.9711\n",
            "Epoch 69/100\n",
            "961/961 [==============================] - 7s 7ms/step - loss: 0.0793 - accuracy: 0.9700 - val_loss: 0.1153 - val_accuracy: 0.9664\n",
            "Epoch 70/100\n",
            "961/961 [==============================] - 7s 7ms/step - loss: 0.0845 - accuracy: 0.9671 - val_loss: 0.0890 - val_accuracy: 0.9696\n",
            "Epoch 71/100\n",
            "961/961 [==============================] - 7s 7ms/step - loss: 0.0802 - accuracy: 0.9693 - val_loss: 0.0329 - val_accuracy: 0.9906\n",
            "Epoch 72/100\n",
            "961/961 [==============================] - 7s 7ms/step - loss: 0.0792 - accuracy: 0.9699 - val_loss: 0.0593 - val_accuracy: 0.9835\n",
            "Epoch 73/100\n",
            "961/961 [==============================] - 7s 7ms/step - loss: 0.0799 - accuracy: 0.9694 - val_loss: 0.0749 - val_accuracy: 0.9701\n",
            "Epoch 74/100\n",
            "961/961 [==============================] - 7s 7ms/step - loss: 0.0801 - accuracy: 0.9690 - val_loss: 0.1450 - val_accuracy: 0.9565\n",
            "Epoch 75/100\n",
            "961/961 [==============================] - 7s 7ms/step - loss: 0.0820 - accuracy: 0.9687 - val_loss: 0.0782 - val_accuracy: 0.9787\n",
            "Epoch 76/100\n",
            "961/961 [==============================] - 7s 7ms/step - loss: 0.0854 - accuracy: 0.9677 - val_loss: 0.3552 - val_accuracy: 0.9025\n",
            "Epoch 77/100\n",
            "961/961 [==============================] - 7s 7ms/step - loss: 0.0796 - accuracy: 0.9698 - val_loss: 0.0451 - val_accuracy: 0.9864\n",
            "Epoch 78/100\n",
            "961/961 [==============================] - 7s 8ms/step - loss: 0.0769 - accuracy: 0.9703 - val_loss: 0.0880 - val_accuracy: 0.9751\n",
            "Epoch 79/100\n",
            "961/961 [==============================] - 7s 7ms/step - loss: 0.0795 - accuracy: 0.9696 - val_loss: 0.0890 - val_accuracy: 0.9761\n",
            "Epoch 80/100\n",
            "961/961 [==============================] - 7s 7ms/step - loss: 0.0779 - accuracy: 0.9702 - val_loss: 0.1381 - val_accuracy: 0.9509\n",
            "Epoch 81/100\n",
            "961/961 [==============================] - 7s 7ms/step - loss: 0.0795 - accuracy: 0.9702 - val_loss: 0.0881 - val_accuracy: 0.9763\n",
            "Epoch 82/100\n",
            "961/961 [==============================] - 7s 7ms/step - loss: 0.0769 - accuracy: 0.9700 - val_loss: 0.1141 - val_accuracy: 0.9649\n",
            "Epoch 83/100\n",
            "961/961 [==============================] - 7s 7ms/step - loss: 0.0842 - accuracy: 0.9678 - val_loss: 0.1757 - val_accuracy: 0.9681\n",
            "Epoch 84/100\n",
            "961/961 [==============================] - 7s 7ms/step - loss: 0.0810 - accuracy: 0.9683 - val_loss: 0.0725 - val_accuracy: 0.9794\n",
            "Epoch 85/100\n",
            "961/961 [==============================] - 7s 8ms/step - loss: 0.0796 - accuracy: 0.9698 - val_loss: 0.0575 - val_accuracy: 0.9819\n",
            "Epoch 86/100\n",
            "961/961 [==============================] - 7s 7ms/step - loss: 0.0767 - accuracy: 0.9710 - val_loss: 0.2163 - val_accuracy: 0.9586\n",
            "Epoch 87/100\n",
            "961/961 [==============================] - 7s 7ms/step - loss: 0.0765 - accuracy: 0.9708 - val_loss: 0.1357 - val_accuracy: 0.9589\n",
            "Epoch 88/100\n",
            "961/961 [==============================] - 7s 7ms/step - loss: 0.0785 - accuracy: 0.9706 - val_loss: 0.1687 - val_accuracy: 0.9390\n",
            "Epoch 89/100\n",
            "961/961 [==============================] - 7s 7ms/step - loss: 0.0795 - accuracy: 0.9692 - val_loss: 0.0730 - val_accuracy: 0.9768\n",
            "Epoch 90/100\n",
            "961/961 [==============================] - 7s 7ms/step - loss: 0.0802 - accuracy: 0.9702 - val_loss: 0.0934 - val_accuracy: 0.9678\n",
            "Epoch 91/100\n",
            "961/961 [==============================] - 7s 7ms/step - loss: 0.0774 - accuracy: 0.9707 - val_loss: 0.1916 - val_accuracy: 0.9506\n",
            "Epoch 92/100\n",
            "961/961 [==============================] - 7s 7ms/step - loss: 0.0831 - accuracy: 0.9686 - val_loss: 0.0580 - val_accuracy: 0.9817\n",
            "Epoch 93/100\n",
            "961/961 [==============================] - 7s 7ms/step - loss: 0.0792 - accuracy: 0.9698 - val_loss: 0.1296 - val_accuracy: 0.9637\n",
            "Epoch 94/100\n",
            "961/961 [==============================] - 7s 7ms/step - loss: 0.0763 - accuracy: 0.9708 - val_loss: 0.0773 - val_accuracy: 0.9744\n",
            "Epoch 95/100\n",
            "961/961 [==============================] - 7s 7ms/step - loss: 0.0770 - accuracy: 0.9704 - val_loss: 0.0944 - val_accuracy: 0.9695\n",
            "Epoch 96/100\n",
            "961/961 [==============================] - 7s 7ms/step - loss: 0.0765 - accuracy: 0.9711 - val_loss: 0.1091 - val_accuracy: 0.9685\n",
            "Epoch 97/100\n",
            "961/961 [==============================] - 7s 7ms/step - loss: 0.0767 - accuracy: 0.9708 - val_loss: 0.1085 - val_accuracy: 0.9529\n",
            "Epoch 98/100\n",
            "961/961 [==============================] - 7s 7ms/step - loss: 0.0816 - accuracy: 0.9691 - val_loss: 0.0389 - val_accuracy: 0.9900\n",
            "Epoch 99/100\n",
            "961/961 [==============================] - 7s 7ms/step - loss: 0.0775 - accuracy: 0.9697 - val_loss: 0.1635 - val_accuracy: 0.9560\n",
            "Epoch 100/100\n",
            "961/961 [==============================] - 7s 7ms/step - loss: 0.0784 - accuracy: 0.9700 - val_loss: 0.0435 - val_accuracy: 0.9874\n",
            "dict_keys(['loss', 'accuracy', 'val_loss', 'val_accuracy'])\n",
            "dict_keys(['loss', 'accuracy', 'val_loss', 'val_accuracy'])\n"
          ],
          "name": "stdout"
        },
        {
          "output_type": "display_data",
          "data": {
            "image/png": "[encoded data removed]",
            "text/plain": [
              "<Figure size 432x288 with 1 Axes>"
            ]
          },
          "metadata": {
            "tags": [],
            "needs_background": "light"
          }
        },
        {
          "output_type": "display_data",
          "data": {
            "image/png": "[encoded data removed]",
            "text/plain": [
              "<Figure size 432x288 with 1 Axes>"
            ]
          },
          "metadata": {
            "tags": [],
            "needs_background": "light"
          }
        }
      ]
    },
    {
      "cell_type": "markdown",
      "metadata": {
        "id": "GB2_52XeUXyL"
      },
      "source": [
        "### Save the Model"
      ]
    },
    {
      "cell_type": "code",
      "metadata": {
        "id": "orBzCwqUUSzs"
      },
      "source": [
        "import datetime\n",
        "model.save(\"Gyr_Models/\"+Category+\"_\"+str(TIME_STEPS)+\"_\"+f'{datetime.datetime.today().strftime(\"%d-%m-%Y\")}.h5')"
      ],
      "execution_count": null,
      "outputs": []
    }
  ]
}