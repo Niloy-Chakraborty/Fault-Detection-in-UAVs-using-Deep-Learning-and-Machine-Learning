{
  "nbformat": 4,
  "nbformat_minor": 0,
  "metadata": {
    "colab": {
      "name": "AATest_5Class_Acc_CNN_LSTM_Seq2Label_V1.ipynb",
      "provenance": [],
      "collapsed_sections": [],
      "machine_shape": "hm"
    },
    "kernelspec": {
      "display_name": "Python 3",
      "language": "python",
      "name": "python3"
    },
    "language_info": {
      "codemirror_mode": {
        "name": "ipython",
        "version": 3
      },
      "file_extension": ".py",
      "mimetype": "text/x-python",
      "name": "python",
      "nbconvert_exporter": "python",
      "pygments_lexer": "ipython3",
      "version": "3.7.6"
    },
    "accelerator": "GPU"
  },
  "cells": [
    {
      "cell_type": "markdown",
      "metadata": {
        "id": "O-crlmI4-ljf"
      },
      "source": [
        "### Test Script for DL Evaluation for Accelerometer (CNN-LSTM and BILSTM)\n",
        "\n",
        "@ Author: Niloy Chakraborty\n",
        "\n",
        "@ Author EMail: chakrabortyniloy2018@gmail.com\n"
      ]
    },
    {
      "cell_type": "code",
      "metadata": {
        "id": "EGsE8YI5-usc",
        "colab": {
          "base_uri": "https://localhost:8080/"
        },
        "outputId": "6d397441-e340-4e7c-9cfb-45f47464374b"
      },
      "source": [
        "# Connect to Google Drive. If using Jupyter, then comment this cell.\n",
        "from google.colab import drive\n",
        "drive.mount('/gdrive')\n",
        "%cd /gdrive/MyDrive/THESIS/"
      ],
      "execution_count": null,
      "outputs": [
        {
          "output_type": "stream",
          "text": [
            "Mounted at /gdrive\n",
            "/gdrive/MyDrive/THESIS\n"
          ],
          "name": "stdout"
        }
      ]
    },
    {
      "cell_type": "markdown",
      "metadata": {
        "id": "Qzb1cp78-lji"
      },
      "source": [
        "#### Load the libraries"
      ]
    },
    {
      "cell_type": "code",
      "metadata": {
        "id": "wdHJiHE7-ljl"
      },
      "source": [
        "import h5py\n",
        "import numpy as np\n",
        "import pandas as pd\n",
        "import matplotlib.pyplot as plt\n",
        "from os import listdir\n",
        "from os.path import isfile, join\n",
        "# import tensorflow_addons as tfa\n"
      ],
      "execution_count": null,
      "outputs": []
    },
    {
      "cell_type": "code",
      "metadata": {
        "id": "9Jmy2PiCc7jX"
      },
      "source": [
        "import os\n",
        "import yaml\n",
        "\n",
        "import tensorflow as tf\n",
        "\n",
        "from tensorflow.keras.models import Model,Sequential\n",
        "from tensorflow.keras.layers import LSTM, Dropout,Dense,RepeatVector,TimeDistributed,Input,BatchNormalization\n",
        "from tensorflow.keras.layers import Conv1D\n",
        "from tensorflow.keras.layers import MaxPooling1D\n",
        "from tensorflow.keras.layers import Flatten\n",
        "\n",
        "from tensorflow.keras.callbacks import TensorBoard\n",
        "from tensorflow.keras.callbacks import ModelCheckpoint\n",
        "from tensorflow.keras.callbacks import LearningRateScheduler\n",
        "from tensorflow.keras.optimizers import Adam as adam\n",
        "\n",
        "from sklearn.model_selection import train_test_split\n",
        "from sklearn.metrics import classification_report\n",
        "from sklearn.metrics import confusion_matrix\n",
        "from tensorflow.keras.models import load_model"
      ],
      "execution_count": null,
      "outputs": []
    },
    {
      "cell_type": "code",
      "metadata": {
        "colab": {
          "base_uri": "https://localhost:8080/",
          "height": 35
        },
        "id": "GZP4MKEpOkg7",
        "outputId": "fc89a7b3-6974-46ad-941c-ae390443a877"
      },
      "source": [
        "import tensorflow as tf\n",
        "tf.version.VERSION"
      ],
      "execution_count": null,
      "outputs": [
        {
          "output_type": "execute_result",
          "data": {
            "application/vnd.google.colaboratory.intrinsic+json": {
              "type": "string"
            },
            "text/plain": [
              "'2.6.0'"
            ]
          },
          "metadata": {},
          "execution_count": 5
        }
      ]
    },
    {
      "cell_type": "markdown",
      "metadata": {
        "id": "lGwPWQa_t19D"
      },
      "source": [
        "#### Load Test Data"
      ]
    },
    {
      "cell_type": "code",
      "metadata": {
        "id": "0Vzjw_qNPF2r"
      },
      "source": [
        "Category = \"Acc_with_noise\""
      ],
      "execution_count": null,
      "outputs": []
    },
    {
      "cell_type": "code",
      "metadata": {
        "id": "TzetVnbSiKjb"
      },
      "source": [
        "filepath = 'Acc_25_secs_final_combined_faulty_data_test.csv'"
      ],
      "execution_count": null,
      "outputs": []
    },
    {
      "cell_type": "code",
      "metadata": {
        "id": "julalftVgSAm"
      },
      "source": [
        "header = ['AccX','AccY','AccZ','GyrX','GyrY','GyrZ','Altitude','Cmd1','Cmd2','Cmd3','Cmd4','Roll','Pitch','Yaw','ThurstRefOut1','ThurstRefOut2','ThurstRefOut3','ThurstRefOut4','Label']"
      ],
      "execution_count": null,
      "outputs": []
    },
    {
      "cell_type": "code",
      "metadata": {
        "id": "3tDfdbhDgCgl",
        "colab": {
          "base_uri": "https://localhost:8080/",
          "height": 348
        },
        "outputId": "bcac8a23-60ff-44d0-c5d3-20be6fb3c7b7"
      },
      "source": [
        "df = pd.read_csv(filepath, header = None)\n",
        "df = df.rename(columns=df.iloc[0]).drop(df.index[0])\n",
        "df = df.iloc[:, 1:]\n",
        "df[\"Label\"] = pd.to_numeric(df[\"Label\"])\n",
        "df.head()"
      ],
      "execution_count": null,
      "outputs": [
        {
          "output_type": "stream",
          "text": [
            "/usr/local/lib/python3.7/dist-packages/IPython/core/interactiveshell.py:2718: DtypeWarning: Columns (1,2,3,4,5,6,7,8,9,10,11,12,13,14,15,16,17,18,19) have mixed types.Specify dtype option on import or set low_memory=False.\n",
            "  interactivity=interactivity, compiler=compiler, result=result)\n"
          ],
          "name": "stderr"
        },
        {
          "output_type": "execute_result",
          "data": {
            "text/html": [
              "<div>\n",
              "<style scoped>\n",
              "    .dataframe tbody tr th:only-of-type {\n",
              "        vertical-align: middle;\n",
              "    }\n",
              "\n",
              "    .dataframe tbody tr th {\n",
              "        vertical-align: top;\n",
              "    }\n",
              "\n",
              "    .dataframe thead th {\n",
              "        text-align: right;\n",
              "    }\n",
              "</style>\n",
              "<table border=\"1\" class=\"dataframe\">\n",
              "  <thead>\n",
              "    <tr style=\"text-align: right;\">\n",
              "      <th></th>\n",
              "      <th>AccX</th>\n",
              "      <th>AccY</th>\n",
              "      <th>AccZ</th>\n",
              "      <th>GyrX</th>\n",
              "      <th>GyrY</th>\n",
              "      <th>GyrZ</th>\n",
              "      <th>Altitude</th>\n",
              "      <th>Cmd1</th>\n",
              "      <th>Cmd2</th>\n",
              "      <th>Cmd3</th>\n",
              "      <th>Cmd4</th>\n",
              "      <th>Roll</th>\n",
              "      <th>Pitch</th>\n",
              "      <th>Yaw</th>\n",
              "      <th>ThurstRefOut1</th>\n",
              "      <th>ThurstRefOut2</th>\n",
              "      <th>ThurstRefOut3</th>\n",
              "      <th>ThurstRefOut4</th>\n",
              "      <th>Label</th>\n",
              "    </tr>\n",
              "  </thead>\n",
              "  <tbody>\n",
              "    <tr>\n",
              "      <th>1</th>\n",
              "      <td>0.03380774</td>\n",
              "      <td>-0.11192460000000001</td>\n",
              "      <td>-9.492839</td>\n",
              "      <td>-0.0098925</td>\n",
              "      <td>-0.007933972</td>\n",
              "      <td>0.00108462</td>\n",
              "      <td>0.44</td>\n",
              "      <td>342.9332</td>\n",
              "      <td>-342.9577</td>\n",
              "      <td>342.8969</td>\n",
              "      <td>-342.9631</td>\n",
              "      <td>-1.965233e-06</td>\n",
              "      <td>-2.155978e-06</td>\n",
              "      <td>-5.859605e-07</td>\n",
              "      <td>-0.22403289999999998</td>\n",
              "      <td>-0.2240489</td>\n",
              "      <td>-0.22400920000000002</td>\n",
              "      <td>-0.22405239999999998</td>\n",
              "      <td>0</td>\n",
              "    </tr>\n",
              "    <tr>\n",
              "      <th>2</th>\n",
              "      <td>-0.116923</td>\n",
              "      <td>-0.2512355</td>\n",
              "      <td>-14.08014</td>\n",
              "      <td>-0.01084344</td>\n",
              "      <td>-0.009036063</td>\n",
              "      <td>-2.253169e-05</td>\n",
              "      <td>0.44</td>\n",
              "      <td>343.0175</td>\n",
              "      <td>-342.912</td>\n",
              "      <td>342.8928</td>\n",
              "      <td>-342.9287</td>\n",
              "      <td>-4.02452e-06</td>\n",
              "      <td>-4.6669999999999995e-06</td>\n",
              "      <td>-7.215308e-08</td>\n",
              "      <td>-0.224088</td>\n",
              "      <td>-0.224019</td>\n",
              "      <td>-0.2240065</td>\n",
              "      <td>-0.22403</td>\n",
              "      <td>0</td>\n",
              "    </tr>\n",
              "    <tr>\n",
              "      <th>3</th>\n",
              "      <td>0.22785189999999997</td>\n",
              "      <td>0.06732436</td>\n",
              "      <td>-13.62979</td>\n",
              "      <td>-0.008328836</td>\n",
              "      <td>-0.006301623</td>\n",
              "      <td>0.0025199379999999998</td>\n",
              "      <td>0.44</td>\n",
              "      <td>342.9608</td>\n",
              "      <td>-342.8717</td>\n",
              "      <td>343.0659</td>\n",
              "      <td>-342.8525</td>\n",
              "      <td>6.818334e-06</td>\n",
              "      <td>7.100436999999999e-06</td>\n",
              "      <td>5.960543e-07</td>\n",
              "      <td>-0.2240509</td>\n",
              "      <td>-0.2239928</td>\n",
              "      <td>-0.2241196</td>\n",
              "      <td>-0.22398020000000002</td>\n",
              "      <td>0</td>\n",
              "    </tr>\n",
              "    <tr>\n",
              "      <th>4</th>\n",
              "      <td>-0.01241245</td>\n",
              "      <td>-0.1545401</td>\n",
              "      <td>-13.94356</td>\n",
              "      <td>-0.01056849</td>\n",
              "      <td>-0.008493732</td>\n",
              "      <td>0.0007364108</td>\n",
              "      <td>0.44</td>\n",
              "      <td>342.8445</td>\n",
              "      <td>-343.066</td>\n",
              "      <td>342.7531</td>\n",
              "      <td>-343.0873</td>\n",
              "      <td>-3.975494e-06</td>\n",
              "      <td>-3.691068e-06</td>\n",
              "      <td>1.940148e-06</td>\n",
              "      <td>-0.223975</td>\n",
              "      <td>-0.2241197</td>\n",
              "      <td>-0.22391529999999998</td>\n",
              "      <td>-0.22413360000000002</td>\n",
              "      <td>0</td>\n",
              "    </tr>\n",
              "    <tr>\n",
              "      <th>5</th>\n",
              "      <td>0.21535289999999999</td>\n",
              "      <td>0.05578018</td>\n",
              "      <td>-13.64611</td>\n",
              "      <td>-0.008419157</td>\n",
              "      <td>-0.006429253</td>\n",
              "      <td>0.00240215</td>\n",
              "      <td>0.44</td>\n",
              "      <td>343.4182</td>\n",
              "      <td>-342.416</td>\n",
              "      <td>343.5187</td>\n",
              "      <td>-342.3979</td>\n",
              "      <td>1.696333e-05</td>\n",
              "      <td>1.88649e-05</td>\n",
              "      <td>1.3310810000000002e-05</td>\n",
              "      <td>-0.22434980000000002</td>\n",
              "      <td>-0.2236951</td>\n",
              "      <td>-0.2244154</td>\n",
              "      <td>-0.2236833</td>\n",
              "      <td>0</td>\n",
              "    </tr>\n",
              "  </tbody>\n",
              "</table>\n",
              "</div>"
            ],
            "text/plain": [
              "                  AccX                  AccY  ...         ThurstRefOut4 Label\n",
              "1           0.03380774  -0.11192460000000001  ...  -0.22405239999999998     0\n",
              "2            -0.116923            -0.2512355  ...              -0.22403     0\n",
              "3  0.22785189999999997            0.06732436  ...  -0.22398020000000002     0\n",
              "4          -0.01241245            -0.1545401  ...  -0.22413360000000002     0\n",
              "5  0.21535289999999999            0.05578018  ...            -0.2236833     0\n",
              "\n",
              "[5 rows x 19 columns]"
            ]
          },
          "metadata": {},
          "execution_count": 9
        }
      ]
    },
    {
      "cell_type": "code",
      "metadata": {
        "id": "HO-yptsebTNW"
      },
      "source": [
        ""
      ],
      "execution_count": null,
      "outputs": []
    },
    {
      "cell_type": "code",
      "metadata": {
        "id": "-0xL4nwv6BqU"
      },
      "source": [
        "# df = df[df[\"Label\"] != 3]"
      ],
      "execution_count": null,
      "outputs": []
    },
    {
      "cell_type": "code",
      "metadata": {
        "colab": {
          "base_uri": "https://localhost:8080/"
        },
        "id": "AJ5hCnQScwzT",
        "outputId": "6d4325db-a42e-4927-f20a-68d805f6046d"
      },
      "source": [
        "df[\"Label\"].unique()"
      ],
      "execution_count": null,
      "outputs": [
        {
          "output_type": "execute_result",
          "data": {
            "text/plain": [
              "array([0, 1, 2, 3, 4])"
            ]
          },
          "metadata": {},
          "execution_count": 11
        }
      ]
    },
    {
      "cell_type": "code",
      "metadata": {
        "id": "_KQ3fpfMdqtZ"
      },
      "source": [
        "df = df.apply(pd.to_numeric)\n"
      ],
      "execution_count": null,
      "outputs": []
    },
    {
      "cell_type": "code",
      "metadata": {
        "colab": {
          "base_uri": "https://localhost:8080/"
        },
        "id": "JDjFCktue1rR",
        "outputId": "a0800131-298d-4d27-9643-64b7a7f9481c"
      },
      "source": [
        "df.info()"
      ],
      "execution_count": null,
      "outputs": [
        {
          "output_type": "stream",
          "text": [
            "<class 'pandas.core.frame.DataFrame'>\n",
            "Int64Index: 462500 entries, 1 to 462500\n",
            "Data columns (total 19 columns):\n",
            " #   Column         Non-Null Count   Dtype  \n",
            "---  ------         --------------   -----  \n",
            " 0   AccX           462500 non-null  float64\n",
            " 1   AccY           462500 non-null  float64\n",
            " 2   AccZ           462500 non-null  float64\n",
            " 3   GyrX           462500 non-null  float64\n",
            " 4   GyrY           462500 non-null  float64\n",
            " 5   GyrZ           462500 non-null  float64\n",
            " 6   Altitude       462500 non-null  float64\n",
            " 7   Cmd1           462500 non-null  float64\n",
            " 8   Cmd2           462500 non-null  float64\n",
            " 9   Cmd3           462500 non-null  float64\n",
            " 10  Cmd4           462500 non-null  float64\n",
            " 11  Roll           462500 non-null  float64\n",
            " 12  Pitch          462500 non-null  float64\n",
            " 13  Yaw            462500 non-null  float64\n",
            " 14  ThurstRefOut1  462500 non-null  float64\n",
            " 15  ThurstRefOut2  462500 non-null  float64\n",
            " 16  ThurstRefOut3  462500 non-null  float64\n",
            " 17  ThurstRefOut4  462500 non-null  float64\n",
            " 18  Label          462500 non-null  int64  \n",
            "dtypes: float64(18), int64(1)\n",
            "memory usage: 70.6 MB\n"
          ],
          "name": "stdout"
        }
      ]
    },
    {
      "cell_type": "code",
      "metadata": {
        "colab": {
          "base_uri": "https://localhost:8080/"
        },
        "id": "aDnXapJ9rKs6",
        "outputId": "b01d155d-de0f-4c3f-ecc9-553e58e53e44"
      },
      "source": [
        "df[\"Label\"].unique()"
      ],
      "execution_count": null,
      "outputs": [
        {
          "output_type": "execute_result",
          "data": {
            "text/plain": [
              "array([0, 1, 2, 3, 4])"
            ]
          },
          "metadata": {},
          "execution_count": 14
        }
      ]
    },
    {
      "cell_type": "code",
      "metadata": {
        "id": "SBKcAWizgySy"
      },
      "source": [
        "new_cols = [\"AccX\",\"AccY\",\"AccZ\",\"GyrX\",\"GyrY\",\"GyrZ\",\"Cmd1\",\"Cmd3\",\"Roll\",\"Pitch\",\"Yaw\",\"Label\"]"
      ],
      "execution_count": null,
      "outputs": []
    },
    {
      "cell_type": "code",
      "metadata": {
        "id": "gkYzlpvpgvnW"
      },
      "source": [
        "df = df[new_cols]"
      ],
      "execution_count": null,
      "outputs": []
    },
    {
      "cell_type": "code",
      "metadata": {
        "colab": {
          "base_uri": "https://localhost:8080/"
        },
        "id": "egMpq0VChLaP",
        "outputId": "32e96f3f-b602-4e6f-d10b-f527ff748d85"
      },
      "source": [
        "df.shape"
      ],
      "execution_count": null,
      "outputs": [
        {
          "output_type": "execute_result",
          "data": {
            "text/plain": [
              "(462500, 12)"
            ]
          },
          "metadata": {},
          "execution_count": 17
        }
      ]
    },
    {
      "cell_type": "code",
      "metadata": {
        "colab": {
          "base_uri": "https://localhost:8080/"
        },
        "id": "VUqmAc3PXqBL",
        "outputId": "ac56bd90-be25-41d9-da36-15bdd4277390"
      },
      "source": [
        "df[\"Label\"].value_counts()"
      ],
      "execution_count": null,
      "outputs": [
        {
          "output_type": "execute_result",
          "data": {
            "text/plain": [
              "0    280443\n",
              "1     47150\n",
              "4     46445\n",
              "3     46156\n",
              "2     42306\n",
              "Name: Label, dtype: int64"
            ]
          },
          "metadata": {},
          "execution_count": 18
        }
      ]
    },
    {
      "cell_type": "code",
      "metadata": {
        "colab": {
          "base_uri": "https://localhost:8080/"
        },
        "id": "wp7m7ypqypXB",
        "outputId": "f1e3f577-f5a0-4c60-9657-4d6bf9fe44df"
      },
      "source": [
        "df[\"Label\"].unique()"
      ],
      "execution_count": null,
      "outputs": [
        {
          "output_type": "execute_result",
          "data": {
            "text/plain": [
              "array([0, 1, 2, 3, 4])"
            ]
          },
          "metadata": {},
          "execution_count": 19
        }
      ]
    },
    {
      "cell_type": "markdown",
      "metadata": {
        "id": "yPxvHSQccs14"
      },
      "source": [
        "### Data Pre-processing"
      ]
    },
    {
      "cell_type": "code",
      "metadata": {
        "id": "-xnbcj-5n9DZ"
      },
      "source": [
        "y = df[\"Label\"]\n",
        "X = df.drop(\"Label\",axis= 1)"
      ],
      "execution_count": null,
      "outputs": []
    },
    {
      "cell_type": "code",
      "metadata": {
        "id": "7-MZBImicKTl"
      },
      "source": [
        "# Scaling\n",
        "from sklearn.preprocessing import RobustScaler\n",
        "new_cols = [\"AccX\",\"AccY\",\"AccZ\",\"GyrX\",\"GyrY\",\"GyrZ\",\"Cmd1\",\"Cmd3\",\"Roll\",\"Pitch\",\"Yaw\"]\n",
        "\n",
        "scale_columns = new_cols\n",
        "\n",
        "scaler = RobustScaler()\n",
        "\n",
        "scaler = scaler.fit(X[scale_columns])\n",
        "\n",
        "X.loc[:, scale_columns] = scaler.transform(X[scale_columns].to_numpy())\n"
      ],
      "execution_count": null,
      "outputs": []
    },
    {
      "cell_type": "code",
      "metadata": {
        "id": "gU6fKMmp1Y1J"
      },
      "source": [
        "n_features = len(new_cols)"
      ],
      "execution_count": null,
      "outputs": []
    },
    {
      "cell_type": "code",
      "metadata": {
        "id": "Grt-YCYmpDpb"
      },
      "source": [
        "# Windowing\n",
        "from scipy import stats\n",
        "\n",
        "def create_dataset(X, y, time_steps=1, step=1):\n",
        "    Xs, ys = [], []\n",
        "    for i in range(0, len(X) - time_steps, step):\n",
        "        v = X.iloc[i:(i + time_steps)].values\n",
        "        labels = y.iloc[i: i + time_steps]\n",
        "        Xs.append(v)        \n",
        "        ys.append(stats.mode(labels)[0][0])\n",
        "    return np.array(Xs), np.array(ys).reshape(-1, 1)\n",
        "\n",
        "TIME_STEPS = 64\n",
        "STEP = 40\n",
        "\n",
        "X_test, y_test = create_dataset(\n",
        "    X[new_cols], \n",
        "    y, \n",
        "    TIME_STEPS, \n",
        "    STEP\n",
        ")"
      ],
      "execution_count": null,
      "outputs": []
    },
    {
      "cell_type": "code",
      "metadata": {
        "colab": {
          "base_uri": "https://localhost:8080/"
        },
        "id": "dW9aMqFhNZwX",
        "outputId": "1f11a500-5157-4161-e393-d1aec68c2023"
      },
      "source": [
        "X_test.shape"
      ],
      "execution_count": null,
      "outputs": [
        {
          "output_type": "execute_result",
          "data": {
            "text/plain": [
              "(11561, 64, 11)"
            ]
          },
          "metadata": {},
          "execution_count": 24
        }
      ]
    },
    {
      "cell_type": "code",
      "metadata": {
        "id": "9NQSozPPM0BM"
      },
      "source": [
        "# Data Reshaping\n",
        "X_test = X_test.reshape(X_test.shape[0],4,int(TIME_STEPS/4),n_features)"
      ],
      "execution_count": null,
      "outputs": []
    },
    {
      "cell_type": "code",
      "metadata": {
        "colab": {
          "base_uri": "https://localhost:8080/"
        },
        "id": "FThHScpGp5q5",
        "outputId": "43f93102-9a0e-4f93-fbd7-a1ac7ac27570"
      },
      "source": [
        "print(X_test.shape, y_test.shape)\n"
      ],
      "execution_count": null,
      "outputs": [
        {
          "output_type": "stream",
          "text": [
            "(11561, 4, 16, 11) (11561, 1)\n"
          ],
          "name": "stdout"
        }
      ]
    },
    {
      "cell_type": "code",
      "metadata": {
        "colab": {
          "base_uri": "https://localhost:8080/"
        },
        "id": "pzDwDD3Er-zV",
        "outputId": "01fb50f0-c64a-4ee1-e385-de4b9d33dc70"
      },
      "source": [
        "unique, counts = np.unique(y_test, return_counts=True)\n",
        "\n",
        "print(np.asarray((unique, counts)).T)"
      ],
      "execution_count": null,
      "outputs": [
        {
          "output_type": "stream",
          "text": [
            "[[   0 7044]\n",
            " [   1 1171]\n",
            " [   2 1047]\n",
            " [   3 1146]\n",
            " [   4 1153]]\n"
          ],
          "name": "stdout"
        }
      ]
    },
    {
      "cell_type": "code",
      "metadata": {
        "id": "JsEFUUKJp8un"
      },
      "source": [
        "# Label Encoding\n",
        "from sklearn.preprocessing import OneHotEncoder\n",
        "\n",
        "enc = OneHotEncoder(handle_unknown='ignore', sparse=False)\n",
        "\n",
        "enc = enc.fit(y_test)\n",
        "\n",
        "y_test = enc.transform(y_test)\n",
        "# y_test = enc.transform(y_test)"
      ],
      "execution_count": null,
      "outputs": []
    },
    {
      "cell_type": "code",
      "metadata": {
        "colab": {
          "base_uri": "https://localhost:8080/"
        },
        "id": "sIIpTsZHqMS4",
        "outputId": "da361254-7e04-4c09-db27-b4766f065b59"
      },
      "source": [
        "print(X_test.shape, y_test.shape)\n"
      ],
      "execution_count": null,
      "outputs": [
        {
          "output_type": "stream",
          "text": [
            "(11561, 4, 16, 11) (11561, 5)\n"
          ],
          "name": "stdout"
        }
      ]
    },
    {
      "cell_type": "markdown",
      "metadata": {
        "id": "GB2_52XeUXyL"
      },
      "source": [
        "### Load the Model (CNN-LSTM SHOWN)"
      ]
    },
    {
      "cell_type": "code",
      "metadata": {
        "colab": {
          "base_uri": "https://localhost:8080/"
        },
        "id": "WhzifFhaD5lA",
        "outputId": "aac48749-8154-438f-8c96-9e944a7f5037"
      },
      "source": [
        "model = load_model('Acc_Models/Acc_CNN_LSTM_5_Class_64_28-07-2021.h5')\n",
        "model.summary()"
      ],
      "execution_count": null,
      "outputs": [
        {
          "output_type": "stream",
          "text": [
            "Model: \"sequential_4\"\n",
            "_________________________________________________________________\n",
            "Layer (type)                 Output Shape              Param #   \n",
            "=================================================================\n",
            "time_distributed_16 (TimeDis (None, 4, 13, 32)         1440      \n",
            "_________________________________________________________________\n",
            "time_distributed_17 (TimeDis (None, 4, 10, 32)         4128      \n",
            "_________________________________________________________________\n",
            "time_distributed_18 (TimeDis (None, 4, 10, 32)         0         \n",
            "_________________________________________________________________\n",
            "time_distributed_19 (TimeDis (None, 4, 320)            0         \n",
            "_________________________________________________________________\n",
            "lstm_4 (LSTM)                (None, 150)               282600    \n",
            "_________________________________________________________________\n",
            "dropout_9 (Dropout)          (None, 150)               0         \n",
            "_________________________________________________________________\n",
            "dense_8 (Dense)              (None, 50)                7550      \n",
            "_________________________________________________________________\n",
            "dense_9 (Dense)              (None, 5)                 255       \n",
            "=================================================================\n",
            "Total params: 295,973\n",
            "Trainable params: 295,973\n",
            "Non-trainable params: 0\n",
            "_________________________________________________________________\n"
          ],
          "name": "stdout"
        }
      ]
    },
    {
      "cell_type": "markdown",
      "metadata": {
        "id": "qIOXKMoAuTG7"
      },
      "source": [
        "#### Evaluate Test performance"
      ]
    },
    {
      "cell_type": "code",
      "metadata": {
        "id": "DyM1a0PcEBg-",
        "colab": {
          "base_uri": "https://localhost:8080/"
        },
        "outputId": "62ae2ec3-f9ac-4d9a-c674-4a47e03ead51"
      },
      "source": [
        "print(\"Evaluate on test data\")\n",
        "results = model.evaluate(X_test, y_test)\n",
        "print(\"Metrics are: \", results)"
      ],
      "execution_count": null,
      "outputs": [
        {
          "output_type": "stream",
          "text": [
            "Evaluate on test data\n",
            "362/362 [==============================] - 16s 2ms/step - loss: 0.0242 - accuracy: 0.9922\n",
            "Metrics are:  [0.024239560589194298, 0.9922152161598206]\n"
          ],
          "name": "stdout"
        }
      ]
    },
    {
      "cell_type": "code",
      "metadata": {
        "colab": {
          "base_uri": "https://localhost:8080/"
        },
        "id": "6Ap2ZIwdeiCc",
        "outputId": "f0e21283-c678-4548-ec38-4f478776bcdc"
      },
      "source": [
        "len(X_test)"
      ],
      "execution_count": null,
      "outputs": [
        {
          "output_type": "execute_result",
          "data": {
            "text/plain": [
              "11561"
            ]
          },
          "metadata": {},
          "execution_count": 32
        }
      ]
    },
    {
      "cell_type": "code",
      "metadata": {
        "id": "5iZCQKb0jRQq"
      },
      "source": [
        "  y_pred = model.predict(X_test,batch_size=11561)\n"
      ],
      "execution_count": null,
      "outputs": []
    },
    {
      "cell_type": "code",
      "metadata": {
        "id": "McJ_nh-spIrw",
        "colab": {
          "base_uri": "https://localhost:8080/"
        },
        "outputId": "ff8a2cc2-efe8-4a2f-dd23-50c5f26d9455"
      },
      "source": [
        "y_pred"
      ],
      "execution_count": null,
      "outputs": [
        {
          "output_type": "execute_result",
          "data": {
            "text/plain": [
              "array([[9.9965048e-01, 1.6654429e-06, 8.8081879e-07, 3.4692098e-04,\n",
              "        1.6630168e-09],\n",
              "       [8.0509774e-02, 3.2898304e-05, 1.2255181e-03, 9.1823184e-01,\n",
              "        5.0811057e-08],\n",
              "       [9.9992108e-01, 3.2457632e-07, 3.0211442e-08, 7.8471079e-05,\n",
              "        8.8101013e-11],\n",
              "       ...,\n",
              "       [2.5489995e-01, 8.5165276e-04, 7.4415755e-01, 9.0897207e-05,\n",
              "        8.4403916e-12],\n",
              "       [9.8078316e-01, 1.2658568e-03, 1.7934227e-02, 1.6689368e-05,\n",
              "        2.1047438e-11],\n",
              "       [8.6371219e-01, 1.5823189e-03, 1.3423324e-01, 4.7217676e-04,\n",
              "        4.8705739e-10]], dtype=float32)"
            ]
          },
          "metadata": {},
          "execution_count": 35
        }
      ]
    },
    {
      "cell_type": "code",
      "metadata": {
        "id": "X9XrnG5MZuIW"
      },
      "source": [
        ""
      ],
      "execution_count": null,
      "outputs": []
    },
    {
      "cell_type": "code",
      "metadata": {
        "id": "gBJpHT5XGY5L"
      },
      "source": [
        "y_test = enc.inverse_transform(y_test)\n",
        "y_pred = enc.inverse_transform(y_pred)\n"
      ],
      "execution_count": null,
      "outputs": []
    },
    {
      "cell_type": "code",
      "metadata": {
        "id": "t3kGW_8Qp65R",
        "colab": {
          "base_uri": "https://localhost:8080/"
        },
        "outputId": "5c6df7af-38d7-4fc2-b019-bfa800ef3b0e"
      },
      "source": [
        "y_pred\n"
      ],
      "execution_count": null,
      "outputs": [
        {
          "output_type": "execute_result",
          "data": {
            "text/plain": [
              "array([[0],\n",
              "       [3],\n",
              "       [0],\n",
              "       ...,\n",
              "       [2],\n",
              "       [0],\n",
              "       [0]])"
            ]
          },
          "metadata": {},
          "execution_count": 39
        }
      ]
    },
    {
      "cell_type": "code",
      "metadata": {
        "id": "2N0ZIoGFHKze",
        "colab": {
          "base_uri": "https://localhost:8080/"
        },
        "outputId": "65b3c7fe-7754-4dc3-bb83-57376ed6abfe"
      },
      "source": [
        "print(classification_report(y_test, y_pred))"
      ],
      "execution_count": null,
      "outputs": [
        {
          "output_type": "stream",
          "text": [
            "              precision    recall  f1-score   support\n",
            "\n",
            "           0       1.00      0.99      0.99      7044\n",
            "           1       1.00      1.00      1.00      1171\n",
            "           2       1.00      1.00      1.00      1047\n",
            "           3       0.93      1.00      0.96      1146\n",
            "           4       1.00      1.00      1.00      1153\n",
            "\n",
            "    accuracy                           0.99     11561\n",
            "   macro avg       0.99      1.00      0.99     11561\n",
            "weighted avg       0.99      0.99      0.99     11561\n",
            "\n"
          ],
          "name": "stdout"
        }
      ]
    },
    {
      "cell_type": "code",
      "metadata": {
        "id": "YRwHWiHbEn7-"
      },
      "source": [
        "cf_matrix= confusion_matrix(y_test, y_pred)"
      ],
      "execution_count": null,
      "outputs": []
    },
    {
      "cell_type": "code",
      "metadata": {
        "colab": {
          "base_uri": "https://localhost:8080/",
          "height": 330
        },
        "id": "STN_DVDnPOVU",
        "outputId": "76a95d96-61ae-4762-f97d-71fba5cc664d"
      },
      "source": [
        "import seaborn as sns\n",
        "import matplotlib.pyplot as plt     \n",
        "\n",
        "ax= plt.subplot()\n",
        "sns.heatmap(cf_matrix, annot=True, fmt='g', ax=ax,cmap=\"Blues\");  #annot=True to annotate cells, ftm='g' to disable scientific notation\n",
        "\n",
        "# labels, title and ticks\n",
        "ax.set_xlabel('Predicted labels');ax.set_ylabel('True labels'); \n",
        "ax.set_title('Confusion Matrix'); \n",
        "ax.xaxis.set_ticklabels(['Fault-free', 'Bias','Stuckat','Noise','Pack.Drop'],rotation=45); \n",
        "ax.yaxis.set_ticklabels(['Fault-free', 'Bias','Stuckat','Noise','Pack.Drop'],rotation=45);\n",
        "ax.xaxis.tick_top()\n"
      ],
      "execution_count": null,
      "outputs": [
        {
          "output_type": "display_data",
          "data": {
            "image/png": "[encoded data removed]",
            "text/plain": [
              "<Figure size 432x288 with 2 Axes>"
            ]
          },
          "metadata": {
            "needs_background": "light"
          }
        }
      ]
    }
  ]
}