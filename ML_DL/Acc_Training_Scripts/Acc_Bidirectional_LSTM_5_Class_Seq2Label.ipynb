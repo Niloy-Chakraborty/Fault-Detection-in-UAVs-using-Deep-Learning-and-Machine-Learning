{
  "nbformat": 4,
  "nbformat_minor": 0,
  "metadata": {
    "accelerator": "GPU",
    "colab": {
      "name": "Acc_V1_Bidirectional_LSTM_5_Class_Seq2Label.ipynb",
      "provenance": [],
      "collapsed_sections": [],
      "machine_shape": "hm"
    },
    "kernelspec": {
      "display_name": "Python 3",
      "language": "python",
      "name": "python3"
    },
    "language_info": {
      "codemirror_mode": {
        "name": "ipython",
        "version": 3
      },
      "file_extension": ".py",
      "mimetype": "text/x-python",
      "name": "python",
      "nbconvert_exporter": "python",
      "pygments_lexer": "ipython3",
      "version": "3.7.6"
    }
  },
  "cells": [
    {
      "cell_type": "markdown",
      "metadata": {
        "id": "Qzb1cp78-lji"
      },
      "source": [
        "### Training Script for Accelerometer Dataset using Bidirectional LSTM Architecture \n",
        "\n",
        "@ Author : Niloy Chakraborty\n",
        "\n",
        "@ Author Contact: chakrabortyniloy2018@gmail.com"
      ]
    },
    {
      "cell_type": "code",
      "metadata": {
        "colab": {
          "base_uri": "https://localhost:8080/"
        },
        "id": "EGsE8YI5-usc",
        "outputId": "4a6ee624-5a77-4df6-ed14-66ad6cb94b0c"
      },
      "source": [
        "# Connect to Google Colab.  If using Jupyter, then comment this part\n",
        "from google.colab import drive\n",
        "drive.mount('/gdrive')\n",
        "%cd /gdrive/MyDrive/THESIS/"
      ],
      "execution_count": null,
      "outputs": [
        {
          "output_type": "stream",
          "text": [
            "Drive already mounted at /gdrive; to attempt to forcibly remount, call drive.mount(\"/gdrive\", force_remount=True).\n",
            "/gdrive/MyDrive/THESIS\n"
          ],
          "name": "stdout"
        }
      ]
    },
    {
      "cell_type": "markdown",
      "metadata": {
        "id": "_PDfKCiaoDfM"
      },
      "source": [
        "#### Load the Libraries"
      ]
    },
    {
      "cell_type": "code",
      "metadata": {
        "id": "wdHJiHE7-ljl"
      },
      "source": [
        "import h5py\n",
        "import numpy as np\n",
        "import pandas as pd\n",
        "import matplotlib.pyplot as plt\n",
        "from os import listdir\n",
        "from os.path import isfile, join\n",
        "# import tensorflow_addons as tfa\n"
      ],
      "execution_count": null,
      "outputs": []
    },
    {
      "cell_type": "code",
      "metadata": {
        "id": "9Jmy2PiCc7jX"
      },
      "source": [
        "import os\n",
        "import yaml\n",
        "\n",
        "import tensorflow as tf\n",
        "\n",
        "from tensorflow.keras.models import Model,Sequential\n",
        "from tensorflow.keras.layers import LSTM, Dropout,Dense,RepeatVector,TimeDistributed,Input,BatchNormalization\n",
        "from tensorflow.keras.layers import Conv1D\n",
        "from tensorflow.keras.layers import MaxPooling1D\n",
        "from tensorflow.keras.layers import Flatten\n",
        "\n",
        "from tensorflow.keras.callbacks import TensorBoard\n",
        "from tensorflow.keras.callbacks import ModelCheckpoint\n",
        "from tensorflow.keras.callbacks import LearningRateScheduler\n",
        "from tensorflow.keras.optimizers import Adam as adam\n",
        "\n",
        "from sklearn.model_selection import train_test_split\n",
        "from sklearn.metrics import classification_report\n",
        "\n",
        "from tensorflow.keras.models import load_model"
      ],
      "execution_count": null,
      "outputs": []
    },
    {
      "cell_type": "markdown",
      "metadata": {
        "id": "0mTGjbyFoIbr"
      },
      "source": [
        "#### Load and Explore the training Dataset"
      ]
    },
    {
      "cell_type": "code",
      "metadata": {
        "id": "0Vzjw_qNPF2r"
      },
      "source": [
        "Category = \"Acc_5_Class_BiLSTM\""
      ],
      "execution_count": null,
      "outputs": []
    },
    {
      "cell_type": "code",
      "metadata": {
        "id": "TzetVnbSiKjb"
      },
      "source": [
        "filepath = 'Acc_25_secs_final_combined_faulty_data_train.csv'"
      ],
      "execution_count": null,
      "outputs": []
    },
    {
      "cell_type": "code",
      "metadata": {
        "id": "julalftVgSAm"
      },
      "source": [
        "import tensorflow as tf\n",
        "tf.version.VERSIONheader = ['AccX','AccY','AccZ','GyrX','GyrY','GyrZ','Altitude','Cmd1','Cmd2','Cmd3','Cmd4','Roll','Pitch','Yaw','ThurstRefOut1','ThurstRefOut2','ThurstRefOut3','ThurstRefOut4','Label']"
      ],
      "execution_count": null,
      "outputs": []
    },
    {
      "cell_type": "code",
      "metadata": {
        "colab": {
          "base_uri": "https://localhost:8080/",
          "height": 348
        },
        "id": "3tDfdbhDgCgl",
        "outputId": "1a6af4ce-c54a-47bb-9f7d-2c7518db604c"
      },
      "source": [
        "df = pd.read_csv(filepath, header = None)\n",
        "df = df.rename(columns=df.iloc[0]).drop(df.index[0])\n",
        "df = df.iloc[:, 1:]\n",
        "df[\"Label\"] = pd.to_numeric(df[\"Label\"])\n",
        "df.head()"
      ],
      "execution_count": null,
      "outputs": [
        {
          "output_type": "stream",
          "text": [
            "/usr/local/lib/python3.7/dist-packages/IPython/core/interactiveshell.py:2718: DtypeWarning: Columns (1,2,3,4,5,6,7,8,9,10,11,12,13,14,15,16,17,18,19) have mixed types.Specify dtype option on import or set low_memory=False.\n",
            "  interactivity=interactivity, compiler=compiler, result=result)\n"
          ],
          "name": "stderr"
        },
        {
          "output_type": "execute_result",
          "data": {
            "text/html": [
              "<div>\n",
              "<style scoped>\n",
              "    .dataframe tbody tr th:only-of-type {\n",
              "        vertical-align: middle;\n",
              "    }\n",
              "\n",
              "    .dataframe tbody tr th {\n",
              "        vertical-align: top;\n",
              "    }\n",
              "\n",
              "    .dataframe thead th {\n",
              "        text-align: right;\n",
              "    }\n",
              "</style>\n",
              "<table border=\"1\" class=\"dataframe\">\n",
              "  <thead>\n",
              "    <tr style=\"text-align: right;\">\n",
              "      <th></th>\n",
              "      <th>AccX</th>\n",
              "      <th>AccY</th>\n",
              "      <th>AccZ</th>\n",
              "      <th>GyrX</th>\n",
              "      <th>GyrY</th>\n",
              "      <th>GyrZ</th>\n",
              "      <th>Altitude</th>\n",
              "      <th>Cmd1</th>\n",
              "      <th>Cmd2</th>\n",
              "      <th>Cmd3</th>\n",
              "      <th>Cmd4</th>\n",
              "      <th>Roll</th>\n",
              "      <th>Pitch</th>\n",
              "      <th>Yaw</th>\n",
              "      <th>ThurstRefOut1</th>\n",
              "      <th>ThurstRefOut2</th>\n",
              "      <th>ThurstRefOut3</th>\n",
              "      <th>ThurstRefOut4</th>\n",
              "      <th>Label</th>\n",
              "    </tr>\n",
              "  </thead>\n",
              "  <tbody>\n",
              "    <tr>\n",
              "      <th>1</th>\n",
              "      <td>0.03380774</td>\n",
              "      <td>-0.11192460000000001</td>\n",
              "      <td>-9.492839</td>\n",
              "      <td>-0.0098925</td>\n",
              "      <td>-0.007933972</td>\n",
              "      <td>0.00108462</td>\n",
              "      <td>0.44</td>\n",
              "      <td>342.9332</td>\n",
              "      <td>-342.9577</td>\n",
              "      <td>342.8969</td>\n",
              "      <td>-342.9631</td>\n",
              "      <td>-1.965233e-06</td>\n",
              "      <td>-2.155978e-06</td>\n",
              "      <td>-5.859605e-07</td>\n",
              "      <td>-0.22403289999999998</td>\n",
              "      <td>-0.2240489</td>\n",
              "      <td>-0.22400920000000002</td>\n",
              "      <td>-0.22405239999999998</td>\n",
              "      <td>0</td>\n",
              "    </tr>\n",
              "    <tr>\n",
              "      <th>2</th>\n",
              "      <td>-0.116923</td>\n",
              "      <td>-0.2512355</td>\n",
              "      <td>-14.08014</td>\n",
              "      <td>-0.01084344</td>\n",
              "      <td>-0.009036063</td>\n",
              "      <td>-2.253169e-05</td>\n",
              "      <td>0.44</td>\n",
              "      <td>343.0175</td>\n",
              "      <td>-342.912</td>\n",
              "      <td>342.8928</td>\n",
              "      <td>-342.9287</td>\n",
              "      <td>-4.02452e-06</td>\n",
              "      <td>-4.6669999999999995e-06</td>\n",
              "      <td>-7.215308e-08</td>\n",
              "      <td>-0.224088</td>\n",
              "      <td>-0.224019</td>\n",
              "      <td>-0.2240065</td>\n",
              "      <td>-0.22403</td>\n",
              "      <td>0</td>\n",
              "    </tr>\n",
              "    <tr>\n",
              "      <th>3</th>\n",
              "      <td>0.22785189999999997</td>\n",
              "      <td>0.06732436</td>\n",
              "      <td>-13.62979</td>\n",
              "      <td>-0.008328836</td>\n",
              "      <td>-0.006301623</td>\n",
              "      <td>0.0025199379999999998</td>\n",
              "      <td>0.44</td>\n",
              "      <td>342.9608</td>\n",
              "      <td>-342.8717</td>\n",
              "      <td>343.0659</td>\n",
              "      <td>-342.8525</td>\n",
              "      <td>6.818334e-06</td>\n",
              "      <td>7.100436999999999e-06</td>\n",
              "      <td>5.960543e-07</td>\n",
              "      <td>-0.2240509</td>\n",
              "      <td>-0.2239928</td>\n",
              "      <td>-0.2241196</td>\n",
              "      <td>-0.22398020000000002</td>\n",
              "      <td>0</td>\n",
              "    </tr>\n",
              "    <tr>\n",
              "      <th>4</th>\n",
              "      <td>-0.01241245</td>\n",
              "      <td>-0.1545401</td>\n",
              "      <td>-13.94356</td>\n",
              "      <td>-0.01056849</td>\n",
              "      <td>-0.008493732</td>\n",
              "      <td>0.0007364108</td>\n",
              "      <td>0.44</td>\n",
              "      <td>342.8445</td>\n",
              "      <td>-343.066</td>\n",
              "      <td>342.7531</td>\n",
              "      <td>-343.0873</td>\n",
              "      <td>-3.975494e-06</td>\n",
              "      <td>-3.691068e-06</td>\n",
              "      <td>1.940148e-06</td>\n",
              "      <td>-0.223975</td>\n",
              "      <td>-0.2241197</td>\n",
              "      <td>-0.22391529999999998</td>\n",
              "      <td>-0.22413360000000002</td>\n",
              "      <td>0</td>\n",
              "    </tr>\n",
              "    <tr>\n",
              "      <th>5</th>\n",
              "      <td>0.21535289999999999</td>\n",
              "      <td>0.05578018</td>\n",
              "      <td>-13.64611</td>\n",
              "      <td>-0.008419157</td>\n",
              "      <td>-0.006429253</td>\n",
              "      <td>0.00240215</td>\n",
              "      <td>0.44</td>\n",
              "      <td>343.4182</td>\n",
              "      <td>-342.416</td>\n",
              "      <td>343.5187</td>\n",
              "      <td>-342.3979</td>\n",
              "      <td>1.696333e-05</td>\n",
              "      <td>1.88649e-05</td>\n",
              "      <td>1.3310810000000002e-05</td>\n",
              "      <td>-0.22434980000000002</td>\n",
              "      <td>-0.2236951</td>\n",
              "      <td>-0.2244154</td>\n",
              "      <td>-0.2236833</td>\n",
              "      <td>0</td>\n",
              "    </tr>\n",
              "  </tbody>\n",
              "</table>\n",
              "</div>"
            ],
            "text/plain": [
              "                  AccX                  AccY  ...         ThurstRefOut4 Label\n",
              "1           0.03380774  -0.11192460000000001  ...  -0.22405239999999998     0\n",
              "2            -0.116923            -0.2512355  ...              -0.22403     0\n",
              "3  0.22785189999999997            0.06732436  ...  -0.22398020000000002     0\n",
              "4          -0.01241245            -0.1545401  ...  -0.22413360000000002     0\n",
              "5  0.21535289999999999            0.05578018  ...            -0.2236833     0\n",
              "\n",
              "[5 rows x 19 columns]"
            ]
          },
          "metadata": {
            "tags": []
          },
          "execution_count": 43
        }
      ]
    },
    {
      "cell_type": "code",
      "metadata": {
        "id": "HO-yptsebTNW"
      },
      "source": [
        ""
      ],
      "execution_count": null,
      "outputs": []
    },
    {
      "cell_type": "code",
      "metadata": {
        "colab": {
          "base_uri": "https://localhost:8080/"
        },
        "id": "lkQnPhOnvdOP",
        "outputId": "ca0a96aa-0b57-48b7-e7e3-25bd8642b036"
      },
      "source": [
        "df.columns"
      ],
      "execution_count": null,
      "outputs": [
        {
          "output_type": "execute_result",
          "data": {
            "text/plain": [
              "Index(['AccX', 'AccY', 'AccZ', 'GyrX', 'GyrY', 'GyrZ', 'Altitude', 'Cmd1',\n",
              "       'Cmd2', 'Cmd3', 'Cmd4', 'Roll', 'Pitch', 'Yaw', 'ThurstRefOut1',\n",
              "       'ThurstRefOut2', 'ThurstRefOut3', 'ThurstRefOut4', 'Label'],\n",
              "      dtype='object')"
            ]
          },
          "metadata": {
            "tags": []
          },
          "execution_count": 44
        }
      ]
    },
    {
      "cell_type": "code",
      "metadata": {
        "colab": {
          "base_uri": "https://localhost:8080/"
        },
        "id": "UwNzFwPqlV9J",
        "outputId": "6a68a4e4-1d9b-4099-af94-e9588b6e5f59"
      },
      "source": [
        "df.shape"
      ],
      "execution_count": null,
      "outputs": [
        {
          "output_type": "execute_result",
          "data": {
            "text/plain": [
              "(3177500, 19)"
            ]
          },
          "metadata": {
            "tags": []
          },
          "execution_count": 45
        }
      ]
    },
    {
      "cell_type": "code",
      "metadata": {
        "colab": {
          "base_uri": "https://localhost:8080/"
        },
        "id": "PObIjejqdlPq",
        "outputId": "9ed14a93-0c82-4b76-c540-5bae89bbce48"
      },
      "source": [
        "df.info()"
      ],
      "execution_count": null,
      "outputs": [
        {
          "output_type": "stream",
          "text": [
            "<class 'pandas.core.frame.DataFrame'>\n",
            "Int64Index: 3177500 entries, 1 to 3177500\n",
            "Data columns (total 19 columns):\n",
            " #   Column         Dtype \n",
            "---  ------         ----- \n",
            " 0   AccX           object\n",
            " 1   AccY           object\n",
            " 2   AccZ           object\n",
            " 3   GyrX           object\n",
            " 4   GyrY           object\n",
            " 5   GyrZ           object\n",
            " 6   Altitude       object\n",
            " 7   Cmd1           object\n",
            " 8   Cmd2           object\n",
            " 9   Cmd3           object\n",
            " 10  Cmd4           object\n",
            " 11  Roll           object\n",
            " 12  Pitch          object\n",
            " 13  Yaw            object\n",
            " 14  ThurstRefOut1  object\n",
            " 15  ThurstRefOut2  object\n",
            " 16  ThurstRefOut3  object\n",
            " 17  ThurstRefOut4  object\n",
            " 18  Label          int64 \n",
            "dtypes: int64(1), object(18)\n",
            "memory usage: 484.8+ MB\n"
          ],
          "name": "stdout"
        }
      ]
    },
    {
      "cell_type": "code",
      "metadata": {
        "colab": {
          "base_uri": "https://localhost:8080/"
        },
        "id": "AJ5hCnQScwzT",
        "outputId": "20f8d1a3-332d-42df-800d-bf0b729cd454"
      },
      "source": [
        "df[\"Label\"].unique()"
      ],
      "execution_count": null,
      "outputs": [
        {
          "output_type": "execute_result",
          "data": {
            "text/plain": [
              "array([0, 1, 2, 3, 4])"
            ]
          },
          "metadata": {
            "tags": []
          },
          "execution_count": 48
        }
      ]
    },
    {
      "cell_type": "code",
      "metadata": {
        "id": "_KQ3fpfMdqtZ"
      },
      "source": [
        "# Convert data to numeric type\n",
        "df = df.apply(pd.to_numeric)\n"
      ],
      "execution_count": null,
      "outputs": []
    },
    {
      "cell_type": "code",
      "metadata": {
        "colab": {
          "base_uri": "https://localhost:8080/"
        },
        "id": "JDjFCktue1rR",
        "outputId": "72a7490d-42ef-422d-c699-e4cc230b58b9"
      },
      "source": [
        "df.info()"
      ],
      "execution_count": null,
      "outputs": [
        {
          "output_type": "stream",
          "text": [
            "<class 'pandas.core.frame.DataFrame'>\n",
            "Int64Index: 3177500 entries, 1 to 3177500\n",
            "Data columns (total 19 columns):\n",
            " #   Column         Dtype  \n",
            "---  ------         -----  \n",
            " 0   AccX           float64\n",
            " 1   AccY           float64\n",
            " 2   AccZ           float64\n",
            " 3   GyrX           float64\n",
            " 4   GyrY           float64\n",
            " 5   GyrZ           float64\n",
            " 6   Altitude       float64\n",
            " 7   Cmd1           float64\n",
            " 8   Cmd2           float64\n",
            " 9   Cmd3           float64\n",
            " 10  Cmd4           float64\n",
            " 11  Roll           float64\n",
            " 12  Pitch          float64\n",
            " 13  Yaw            float64\n",
            " 14  ThurstRefOut1  float64\n",
            " 15  ThurstRefOut2  float64\n",
            " 16  ThurstRefOut3  float64\n",
            " 17  ThurstRefOut4  float64\n",
            " 18  Label          int64  \n",
            "dtypes: float64(18), int64(1)\n",
            "memory usage: 484.8 MB\n"
          ],
          "name": "stdout"
        }
      ]
    },
    {
      "cell_type": "code",
      "metadata": {
        "colab": {
          "base_uri": "https://localhost:8080/"
        },
        "id": "aDnXapJ9rKs6",
        "outputId": "bb1a3210-78fe-44d8-b58d-8a47aaf72f76"
      },
      "source": [
        "df[\"Label\"].unique()"
      ],
      "execution_count": null,
      "outputs": [
        {
          "output_type": "execute_result",
          "data": {
            "text/plain": [
              "array([0, 1, 2, 3, 4])"
            ]
          },
          "metadata": {
            "tags": []
          },
          "execution_count": 51
        }
      ]
    },
    {
      "cell_type": "markdown",
      "metadata": {
        "id": "lFJqLMaGoWu-"
      },
      "source": [
        "### Data Preprocessing "
      ]
    },
    {
      "cell_type": "markdown",
      "metadata": {
        "id": "pUTIha1doadF"
      },
      "source": [
        "#### Feature Selection"
      ]
    },
    {
      "cell_type": "code",
      "metadata": {
        "colab": {
          "base_uri": "https://localhost:8080/",
          "height": 332
        },
        "id": "ilA4S4u1gDWn",
        "outputId": "8ccdc5b8-09a5-4905-acf1-f656339a6133"
      },
      "source": [
        "import seaborn as sns\n",
        "\n",
        "sns.heatmap(df.corr())\n",
        "plt.show()"
      ],
      "execution_count": null,
      "outputs": [
        {
          "output_type": "display_data",
          "data": {
            "image/png": "[encoded data removed]",
            "text/plain": [
              "<Figure size 432x288 with 2 Axes>"
            ]
          },
          "metadata": {
            "tags": [],
            "needs_background": "light"
          }
        }
      ]
    },
    {
      "cell_type": "code",
      "metadata": {
        "id": "SBKcAWizgySy"
      },
      "source": [
        "new_cols = [\"AccX\",\"AccY\",\"Cmd1\",\"Cmd3\",\"Label\"]"
      ],
      "execution_count": null,
      "outputs": []
    },
    {
      "cell_type": "code",
      "metadata": {
        "id": "gkYzlpvpgvnW"
      },
      "source": [
        "df = df[new_cols]"
      ],
      "execution_count": null,
      "outputs": []
    },
    {
      "cell_type": "code",
      "metadata": {
        "colab": {
          "base_uri": "https://localhost:8080/"
        },
        "id": "egMpq0VChLaP",
        "outputId": "9cca88d7-6bfa-4a1f-ffef-9c68f29725b7"
      },
      "source": [
        "df.shape"
      ],
      "execution_count": null,
      "outputs": [
        {
          "output_type": "execute_result",
          "data": {
            "text/plain": [
              "(3177500, 5)"
            ]
          },
          "metadata": {
            "tags": []
          },
          "execution_count": 55
        }
      ]
    },
    {
      "cell_type": "code",
      "metadata": {
        "colab": {
          "base_uri": "https://localhost:8080/"
        },
        "id": "VUqmAc3PXqBL",
        "outputId": "b9ab2b94-e013-48b3-ccd4-23907628fbc5"
      },
      "source": [
        "df[\"Label\"].value_counts()"
      ],
      "execution_count": null,
      "outputs": [
        {
          "output_type": "execute_result",
          "data": {
            "text/plain": [
              "0    1936680\n",
              "1     313100\n",
              "2     310928\n",
              "3     309983\n",
              "4     306809\n",
              "Name: Label, dtype: int64"
            ]
          },
          "metadata": {
            "tags": []
          },
          "execution_count": 56
        }
      ]
    },
    {
      "cell_type": "code",
      "metadata": {
        "colab": {
          "base_uri": "https://localhost:8080/"
        },
        "id": "wp7m7ypqypXB",
        "outputId": "827edcea-d965-46ed-cbd6-4e6e73a0d317"
      },
      "source": [
        "df[\"Label\"].unique()"
      ],
      "execution_count": null,
      "outputs": [
        {
          "output_type": "execute_result",
          "data": {
            "text/plain": [
              "array([0, 1, 2, 3, 4])"
            ]
          },
          "metadata": {
            "tags": []
          },
          "execution_count": 57
        }
      ]
    },
    {
      "cell_type": "code",
      "metadata": {
        "id": "-xnbcj-5n9DZ"
      },
      "source": [
        "y = df[\"Label\"]\n",
        "X = df.drop(\"Label\",axis= 1)"
      ],
      "execution_count": null,
      "outputs": []
    },
    {
      "cell_type": "markdown",
      "metadata": {
        "id": "OyxqO0GoojAK"
      },
      "source": [
        "#### Data Normalization"
      ]
    },
    {
      "cell_type": "code",
      "metadata": {
        "id": "7-MZBImicKTl"
      },
      "source": [
        "\n",
        "from sklearn.preprocessing import RobustScaler\n",
        "new_cols = [\"AccX\",\"AccY\",\"Cmd1\",\"Cmd3\"]\n",
        "scale_columns = new_cols\n",
        "\n",
        "scaler = RobustScaler()\n",
        "\n",
        "scaler = scaler.fit(X[scale_columns])\n",
        "\n",
        "X.loc[:, scale_columns] = scaler.transform(X[scale_columns].to_numpy())\n"
      ],
      "execution_count": null,
      "outputs": []
    },
    {
      "cell_type": "markdown",
      "metadata": {
        "id": "O8ScjeoIomDN"
      },
      "source": [
        "#### Creating Sliding Windows"
      ]
    },
    {
      "cell_type": "code",
      "metadata": {
        "id": "Grt-YCYmpDpb"
      },
      "source": [
        "from scipy import stats\n",
        "\n",
        "def create_dataset(X, y, time_steps=1, step=1):\n",
        "    Xs, ys = [], []\n",
        "    for i in range(0, len(X) - time_steps, step):\n",
        "        v = X.iloc[i:(i + time_steps)].values\n",
        "        labels = y.iloc[i: i + time_steps]\n",
        "        Xs.append(v)        \n",
        "        ys.append(stats.mode(labels)[0][0])\n",
        "    return np.array(Xs), np.array(ys).reshape(-1, 1)\n",
        "\n",
        "TIME_STEPS = 200\n",
        "STEP = 40\n",
        "\n",
        "X_train, y_train = create_dataset(\n",
        "    X[new_cols], \n",
        "    y, \n",
        "    TIME_STEPS, \n",
        "    STEP\n",
        ")"
      ],
      "execution_count": null,
      "outputs": []
    },
    {
      "cell_type": "code",
      "metadata": {
        "colab": {
          "base_uri": "https://localhost:8080/"
        },
        "id": "FThHScpGp5q5",
        "outputId": "c235acf9-d562-45a4-fb90-e6187d153705"
      },
      "source": [
        "print(X_train.shape, y_train.shape)\n"
      ],
      "execution_count": null,
      "outputs": [
        {
          "output_type": "stream",
          "text": [
            "(79433, 200, 4) (79433, 1)\n"
          ],
          "name": "stdout"
        }
      ]
    },
    {
      "cell_type": "code",
      "metadata": {
        "colab": {
          "base_uri": "https://localhost:8080/"
        },
        "id": "YSSfyXXEqiad",
        "outputId": "7f40af93-a9ad-45fb-a68c-e9b9638e5956"
      },
      "source": [
        "type(y_train)"
      ],
      "execution_count": null,
      "outputs": [
        {
          "output_type": "execute_result",
          "data": {
            "text/plain": [
              "numpy.ndarray"
            ]
          },
          "metadata": {
            "tags": []
          },
          "execution_count": 62
        }
      ]
    },
    {
      "cell_type": "code",
      "metadata": {
        "colab": {
          "base_uri": "https://localhost:8080/"
        },
        "id": "pzDwDD3Er-zV",
        "outputId": "ea33d0dd-c22b-4c22-f4a8-47940ef68f5a"
      },
      "source": [
        "unique, counts = np.unique(y_train, return_counts=True)\n",
        "\n",
        "print(np.asarray((unique, counts)).T)"
      ],
      "execution_count": null,
      "outputs": [
        {
          "output_type": "stream",
          "text": [
            "[[    0 49122]\n",
            " [    1  7654]\n",
            " [    2  7598]\n",
            " [    3  7573]\n",
            " [    4  7486]]\n"
          ],
          "name": "stdout"
        }
      ]
    },
    {
      "cell_type": "markdown",
      "metadata": {
        "id": "QyOqHOV-orDS"
      },
      "source": [
        "#### Label Encoding"
      ]
    },
    {
      "cell_type": "code",
      "metadata": {
        "id": "JsEFUUKJp8un"
      },
      "source": [
        "from sklearn.preprocessing import OneHotEncoder\n",
        "\n",
        "enc = OneHotEncoder(handle_unknown='ignore', sparse=False)\n",
        "\n",
        "enc = enc.fit(y_train)\n",
        "\n",
        "y_train = enc.transform(y_train)\n",
        "# y_test = enc.transform(y_test)"
      ],
      "execution_count": null,
      "outputs": []
    },
    {
      "cell_type": "code",
      "metadata": {
        "colab": {
          "base_uri": "https://localhost:8080/"
        },
        "id": "sIIpTsZHqMS4",
        "outputId": "856c906e-40b0-4166-a0a7-24b434ec4c2d"
      },
      "source": [
        "print(X_train.shape, y_train.shape)\n"
      ],
      "execution_count": null,
      "outputs": [
        {
          "output_type": "stream",
          "text": [
            "(79433, 200, 4) (79433, 5)\n"
          ],
          "name": "stdout"
        }
      ]
    },
    {
      "cell_type": "markdown",
      "metadata": {
        "id": "DkYScmBroufn"
      },
      "source": [
        "### Building BiLSTM Architecture"
      ]
    },
    {
      "cell_type": "code",
      "metadata": {
        "id": "qmRScZNdsNsJ"
      },
      "source": [
        "from tensorflow import keras\n",
        "\n",
        "model = keras.Sequential()\n",
        "model.add(\n",
        "    keras.layers.Bidirectional(\n",
        "      keras.layers.LSTM(\n",
        "          units=128, \n",
        "          input_shape=[X_train.shape[1], X_train.shape[2]]\n",
        "      )\n",
        "    )\n",
        ")\n",
        "model.add(keras.layers.Dropout(rate=0.5))\n",
        "model.add(keras.layers.Dense(units=128, activation='relu'))\n",
        "model.add(keras.layers.Dense(y_train.shape[1], activation='softmax'))\n",
        "# model.compile(loss='categorical_crossentropy', optimizer='adam', metrics=['acc'])"
      ],
      "execution_count": null,
      "outputs": []
    },
    {
      "cell_type": "code",
      "metadata": {
        "id": "9k7B8VL-Z7zb"
      },
      "source": [
        "def plot_training(history):\n",
        "    print(history.history.keys())\n",
        "\n",
        "    #  \"Accuracy\"\n",
        "    plt.plot(history.history['acc'])\n",
        "    plt.plot(history.history['val_acc'])\n",
        "    plt.title('model accuracy')\n",
        "    plt.ylabel('accuracy')\n",
        "    plt.xlabel('epoch')\n",
        "    plt.legend(['train', 'validation'], loc='upper left')\n",
        "    plt.show()\n",
        "    \n",
        "    # \"Loss\"\n",
        "    plt.plot(history.history['loss'])\n",
        "    plt.plot(history.history['val_loss'])\n",
        "    plt.title('model loss')\n",
        "    plt.ylabel('loss')\n",
        "    plt.xlabel('epoch')\n",
        "    plt.legend(['train', 'validation'], loc='upper left')\n",
        "    plt.show()"
      ],
      "execution_count": null,
      "outputs": []
    },
    {
      "cell_type": "markdown",
      "metadata": {
        "id": "phsH6Ikto0fX"
      },
      "source": [
        "### Training"
      ]
    },
    {
      "cell_type": "code",
      "metadata": {
        "id": "WMg7mXZmgJuG",
        "colab": {
          "base_uri": "https://localhost:8080/",
          "height": 1000
        },
        "outputId": "5b69c483-f316-451f-e5c3-95dc96db49ad"
      },
      "source": [
        "def training(model, X_train, y_train):\n",
        "    # Another control put in place to handle overfitting\n",
        "    early_stopping = tf.keras.callbacks.EarlyStopping(monitor='val_acc',verbose=1,patience=10,mode='max',restore_best_weights=True)\n",
        "\n",
        "    opt = tf.keras.optimizers.Adam(learning_rate = 0.0001)\n",
        "    \n",
        "    # compile the model\n",
        "    model.compile(optimizer = opt, loss = 'categorical_crossentropy', metrics = ['acc']) \n",
        "\n",
        "    # Training\n",
        "    history = model.fit(X_train, y_train,epochs=50,batch_size=64,validation_split=0.2,shuffle=True,callbacks=[early_stopping])\n",
        "\n",
        "    # plot training performance over the epochs\n",
        "    plot_training(history)\n",
        "\n",
        "training(model, X_train, y_train)"
      ],
      "execution_count": null,
      "outputs": [
        {
          "output_type": "stream",
          "text": [
            "Epoch 1/50\n",
            "993/993 [==============================] - 29s 26ms/step - loss: 0.7394 - acc: 0.7402 - val_loss: 0.5882 - val_acc: 0.8363\n",
            "Epoch 2/50\n",
            "993/993 [==============================] - 25s 26ms/step - loss: 0.4565 - acc: 0.8327 - val_loss: 0.5520 - val_acc: 0.8606\n",
            "Epoch 3/50\n",
            "993/993 [==============================] - 25s 25ms/step - loss: 0.4029 - acc: 0.8484 - val_loss: 0.5268 - val_acc: 0.8613\n",
            "Epoch 4/50\n",
            "993/993 [==============================] - 25s 25ms/step - loss: 0.3841 - acc: 0.8539 - val_loss: 0.5107 - val_acc: 0.8741\n",
            "Epoch 5/50\n",
            "993/993 [==============================] - 25s 25ms/step - loss: 0.3729 - acc: 0.8576 - val_loss: 0.4935 - val_acc: 0.8793\n",
            "Epoch 6/50\n",
            "993/993 [==============================] - 25s 26ms/step - loss: 0.3550 - acc: 0.8642 - val_loss: 0.6002 - val_acc: 0.8618\n",
            "Epoch 7/50\n",
            "993/993 [==============================] - 25s 26ms/step - loss: 0.3438 - acc: 0.8684 - val_loss: 0.4650 - val_acc: 0.8839\n",
            "Epoch 8/50\n",
            "993/993 [==============================] - 25s 25ms/step - loss: 0.3415 - acc: 0.8699 - val_loss: 0.4686 - val_acc: 0.8834\n",
            "Epoch 9/50\n",
            "993/993 [==============================] - 25s 25ms/step - loss: 0.3225 - acc: 0.8774 - val_loss: 0.5086 - val_acc: 0.8877\n",
            "Epoch 10/50\n",
            "993/993 [==============================] - 25s 25ms/step - loss: 0.3234 - acc: 0.8779 - val_loss: 0.4280 - val_acc: 0.8983\n",
            "Epoch 11/50\n",
            "993/993 [==============================] - 25s 25ms/step - loss: 0.3252 - acc: 0.8749 - val_loss: 0.4985 - val_acc: 0.8780\n",
            "Epoch 12/50\n",
            "993/993 [==============================] - 25s 25ms/step - loss: 0.3043 - acc: 0.8817 - val_loss: 0.4235 - val_acc: 0.8939\n",
            "Epoch 13/50\n",
            "993/993 [==============================] - 25s 25ms/step - loss: 0.2926 - acc: 0.8876 - val_loss: 0.4774 - val_acc: 0.8792\n",
            "Epoch 14/50\n",
            "993/993 [==============================] - 25s 25ms/step - loss: 0.2949 - acc: 0.8866 - val_loss: 0.4074 - val_acc: 0.8971\n",
            "Epoch 15/50\n",
            "993/993 [==============================] - 25s 25ms/step - loss: 0.2906 - acc: 0.8883 - val_loss: 0.4528 - val_acc: 0.8912\n",
            "Epoch 16/50\n",
            "993/993 [==============================] - 25s 25ms/step - loss: 0.2770 - acc: 0.8941 - val_loss: 0.4436 - val_acc: 0.9031\n",
            "Epoch 17/50\n",
            "993/993 [==============================] - 25s 26ms/step - loss: 0.2822 - acc: 0.8915 - val_loss: 0.3806 - val_acc: 0.9010\n",
            "Epoch 18/50\n",
            "993/993 [==============================] - 25s 25ms/step - loss: 0.2690 - acc: 0.8987 - val_loss: 0.3592 - val_acc: 0.9101\n",
            "Epoch 19/50\n",
            "993/993 [==============================] - 25s 25ms/step - loss: 0.2696 - acc: 0.8992 - val_loss: 0.3685 - val_acc: 0.9077\n",
            "Epoch 20/50\n",
            "993/993 [==============================] - 25s 25ms/step - loss: 0.2581 - acc: 0.9038 - val_loss: 0.3654 - val_acc: 0.9102\n",
            "Epoch 21/50\n",
            "993/993 [==============================] - 25s 25ms/step - loss: 0.2639 - acc: 0.8980 - val_loss: 0.4443 - val_acc: 0.8982\n",
            "Epoch 22/50\n",
            "993/993 [==============================] - 25s 25ms/step - loss: 0.2547 - acc: 0.9043 - val_loss: 0.5397 - val_acc: 0.8860\n",
            "Epoch 23/50\n",
            "993/993 [==============================] - 25s 25ms/step - loss: 0.2463 - acc: 0.9068 - val_loss: 0.4932 - val_acc: 0.8977\n",
            "Epoch 24/50\n",
            "993/993 [==============================] - 25s 25ms/step - loss: 0.2449 - acc: 0.9078 - val_loss: 0.5072 - val_acc: 0.8987\n",
            "Epoch 25/50\n",
            "993/993 [==============================] - 25s 25ms/step - loss: 0.2394 - acc: 0.9099 - val_loss: 0.5150 - val_acc: 0.8960\n",
            "Epoch 26/50\n",
            "993/993 [==============================] - 25s 25ms/step - loss: 0.2457 - acc: 0.9075 - val_loss: 0.5147 - val_acc: 0.8957\n",
            "Epoch 27/50\n",
            "993/993 [==============================] - 25s 25ms/step - loss: 0.2353 - acc: 0.9102 - val_loss: 0.5164 - val_acc: 0.8926\n",
            "Epoch 28/50\n",
            "993/993 [==============================] - 25s 25ms/step - loss: 0.2313 - acc: 0.9117 - val_loss: 0.5559 - val_acc: 0.8873\n",
            "Epoch 29/50\n",
            "993/993 [==============================] - 25s 25ms/step - loss: 0.2314 - acc: 0.9128 - val_loss: 0.5269 - val_acc: 0.8904\n",
            "Epoch 30/50\n",
            "993/993 [==============================] - 25s 25ms/step - loss: 0.2297 - acc: 0.9125 - val_loss: 0.4852 - val_acc: 0.8951\n",
            "Restoring model weights from the end of the best epoch.\n",
            "Epoch 00030: early stopping\n",
            "dict_keys(['loss', 'acc', 'val_loss', 'val_acc'])\n"
          ],
          "name": "stdout"
        },
        {
          "output_type": "display_data",
          "data": {
            "image/png": "[encoded data removed]",
            "text/plain": [
              "<Figure size 432x288 with 1 Axes>"
            ]
          },
          "metadata": {
            "tags": [],
            "needs_background": "light"
          }
        },
        {
          "output_type": "display_data",
          "data": {
            "image/png": "[encoded data removed]",
            "text/plain": [
              "<Figure size 432x288 with 1 Axes>"
            ]
          },
          "metadata": {
            "tags": [],
            "needs_background": "light"
          }
        }
      ]
    },
    {
      "cell_type": "markdown",
      "metadata": {
        "id": "GB2_52XeUXyL"
      },
      "source": [
        "### Save the Model"
      ]
    },
    {
      "cell_type": "code",
      "metadata": {
        "id": "orBzCwqUUSzs"
      },
      "source": [
        "import datetime\n",
        "model.save(\"Acc_Models/\"+Category+ f'{datetime.datetime.today().strftime(\"%d-%m-%Y %H:%M\")}.h5')"
      ],
      "execution_count": null,
      "outputs": []
    }
  ]
}