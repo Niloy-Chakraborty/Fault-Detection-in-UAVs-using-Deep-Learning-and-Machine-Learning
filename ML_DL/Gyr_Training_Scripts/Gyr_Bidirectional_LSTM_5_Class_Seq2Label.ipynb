{
  "nbformat": 4,
  "nbformat_minor": 0,
  "metadata": {
    "accelerator": "GPU",
    "colab": {
      "name": "Gyr_V1_Bidirectional_LSTM_5_Class_Seq2Seq.ipynb",
      "provenance": [],
      "collapsed_sections": [],
      "machine_shape": "hm"
    },
    "kernelspec": {
      "display_name": "Python 3",
      "language": "python",
      "name": "python3"
    },
    "language_info": {
      "codemirror_mode": {
        "name": "ipython",
        "version": 3
      },
      "file_extension": ".py",
      "mimetype": "text/x-python",
      "name": "python",
      "nbconvert_exporter": "python",
      "pygments_lexer": "ipython3",
      "version": "3.7.6"
    }
  },
  "cells": [
    {
      "cell_type": "markdown",
      "metadata": {
        "id": "Qzb1cp78-lji"
      },
      "source": [
        "### Training Script for Gyroscope Dataset using Bidirectional LSTM Architecture \n",
        "\n",
        "@ Author : Niloy Chakraborty\n",
        "\n",
        "@ Author Contact: chakrabortyniloy2018@gmail.com"
      ]
    },
    {
      "cell_type": "code",
      "metadata": {
        "colab": {
          "base_uri": "https://localhost:8080/"
        },
        "id": "EGsE8YI5-usc",
        "outputId": "08303095-130e-4d95-f173-c24942306a0b"
      },
      "source": [
        "# Connect to Google Colab.  If using Jupyter, then comment this part\n",
        "from google.colab import drive\n",
        "drive.mount('/gdrive')\n",
        "%cd /gdrive/MyDrive/THESIS/"
      ],
      "execution_count": null,
      "outputs": [
        {
          "output_type": "stream",
          "text": [
            "Drive already mounted at /gdrive; to attempt to forcibly remount, call drive.mount(\"/gdrive\", force_remount=True).\n",
            "/gdrive/MyDrive/THESIS\n"
          ],
          "name": "stdout"
        }
      ]
    },
    {
      "cell_type": "markdown",
      "metadata": {
        "id": "ExM-6xaW41Fp"
      },
      "source": [
        "#### Load the Libraries"
      ]
    },
    {
      "cell_type": "code",
      "metadata": {
        "id": "wdHJiHE7-ljl"
      },
      "source": [
        "import h5py\n",
        "import numpy as np\n",
        "import pandas as pd\n",
        "import matplotlib.pyplot as plt\n",
        "from os import listdir\n",
        "from os.path import isfile, join"
      ],
      "execution_count": null,
      "outputs": []
    },
    {
      "cell_type": "code",
      "metadata": {
        "id": "9Jmy2PiCc7jX"
      },
      "source": [
        "import os\n",
        "import yaml\n",
        "\n",
        "import tensorflow as tf\n",
        "\n",
        "from tensorflow.keras.models import Model,Sequential\n",
        "from tensorflow.keras.layers import LSTM, Dropout,Dense,RepeatVector,TimeDistributed,Input,BatchNormalization\n",
        "from tensorflow.keras.layers import Conv1D\n",
        "from tensorflow.keras.layers import MaxPooling1D\n",
        "from tensorflow.keras.layers import Flatten\n",
        "\n",
        "from tensorflow.keras.callbacks import TensorBoard\n",
        "from tensorflow.keras.callbacks import ModelCheckpoint\n",
        "from tensorflow.keras.callbacks import LearningRateScheduler\n",
        "from tensorflow.keras.optimizers import Adam as adam\n",
        "\n",
        "from sklearn.model_selection import train_test_split\n",
        "from sklearn.metrics import classification_report\n",
        "\n",
        "from tensorflow.keras.models import load_model"
      ],
      "execution_count": null,
      "outputs": []
    },
    {
      "cell_type": "markdown",
      "metadata": {
        "id": "otF85yno4-iY"
      },
      "source": [
        "#### Load the Training data and Explore"
      ]
    },
    {
      "cell_type": "code",
      "metadata": {
        "id": "TzetVnbSiKjb"
      },
      "source": [
        "# Change the file path here\n",
        "filepath = 'Gyr_25_secs_final_combined_faulty_data_train.csv'"
      ],
      "execution_count": null,
      "outputs": []
    },
    {
      "cell_type": "code",
      "metadata": {
        "id": "julalftVgSAm"
      },
      "source": [
        "header = ['AccX','AccY','AccZ','GyrX','GyrY','GyrZ','Altitude','Cmd1','Cmd2','Cmd3','Cmd4','Roll','Pitch','Yaw','ThurstRefOut1','ThurstRefOut2','ThurstRefOut3','ThurstRefOut4','Label']"
      ],
      "execution_count": null,
      "outputs": []
    },
    {
      "cell_type": "code",
      "metadata": {
        "colab": {
          "base_uri": "https://localhost:8080/",
          "height": 343
        },
        "id": "3tDfdbhDgCgl",
        "outputId": "c76c2f70-8acb-480f-cfc1-7f37db5996af"
      },
      "source": [
        "df = pd.read_csv(filepath, header = None)\n",
        "df = df.rename(columns=df.iloc[0]).drop(df.index[0])\n",
        "df = df.iloc[:, 1:]\n",
        "df[\"Label\"] = pd.to_numeric(df[\"Label\"])\n",
        "df.head()"
      ],
      "execution_count": null,
      "outputs": [
        {
          "output_type": "stream",
          "text": [
            "/usr/local/lib/python3.7/dist-packages/IPython/core/interactiveshell.py:2718: DtypeWarning: Columns (1,2,3,4,5,6,7,8,9,10,11,12,13,14,15,16,17,18,19) have mixed types.Specify dtype option on import or set low_memory=False.\n",
            "  interactivity=interactivity, compiler=compiler, result=result)\n"
          ],
          "name": "stderr"
        },
        {
          "output_type": "execute_result",
          "data": {
            "text/html": [
              "<div>\n",
              "<style scoped>\n",
              "    .dataframe tbody tr th:only-of-type {\n",
              "        vertical-align: middle;\n",
              "    }\n",
              "\n",
              "    .dataframe tbody tr th {\n",
              "        vertical-align: top;\n",
              "    }\n",
              "\n",
              "    .dataframe thead th {\n",
              "        text-align: right;\n",
              "    }\n",
              "</style>\n",
              "<table border=\"1\" class=\"dataframe\">\n",
              "  <thead>\n",
              "    <tr style=\"text-align: right;\">\n",
              "      <th></th>\n",
              "      <th>AccX</th>\n",
              "      <th>AccY</th>\n",
              "      <th>AccZ</th>\n",
              "      <th>GyrX</th>\n",
              "      <th>GyrY</th>\n",
              "      <th>GyrZ</th>\n",
              "      <th>Altitude</th>\n",
              "      <th>Cmd1</th>\n",
              "      <th>Cmd2</th>\n",
              "      <th>Cmd3</th>\n",
              "      <th>Cmd4</th>\n",
              "      <th>Roll</th>\n",
              "      <th>Pitch</th>\n",
              "      <th>Yaw</th>\n",
              "      <th>ThurstRefOut1</th>\n",
              "      <th>ThurstRefOut2</th>\n",
              "      <th>ThurstRefOut3</th>\n",
              "      <th>ThurstRefOut4</th>\n",
              "      <th>Label</th>\n",
              "    </tr>\n",
              "  </thead>\n",
              "  <tbody>\n",
              "    <tr>\n",
              "      <th>1</th>\n",
              "      <td>0.03380774</td>\n",
              "      <td>-0.11192460000000001</td>\n",
              "      <td>-9.492839</td>\n",
              "      <td>-0.0098925</td>\n",
              "      <td>-0.007933972</td>\n",
              "      <td>0.00108462</td>\n",
              "      <td>0.44</td>\n",
              "      <td>342.9332</td>\n",
              "      <td>-342.9577</td>\n",
              "      <td>342.8969</td>\n",
              "      <td>-342.9631</td>\n",
              "      <td>-1.965233e-06</td>\n",
              "      <td>-2.155978e-06</td>\n",
              "      <td>-5.859605e-07</td>\n",
              "      <td>-0.22403289999999998</td>\n",
              "      <td>-0.2240489</td>\n",
              "      <td>-0.22400920000000002</td>\n",
              "      <td>-0.22405239999999998</td>\n",
              "      <td>0</td>\n",
              "    </tr>\n",
              "    <tr>\n",
              "      <th>2</th>\n",
              "      <td>-0.116923</td>\n",
              "      <td>-0.2512355</td>\n",
              "      <td>-14.08014</td>\n",
              "      <td>-0.01084344</td>\n",
              "      <td>-0.009036063</td>\n",
              "      <td>-2.253169e-05</td>\n",
              "      <td>0.44</td>\n",
              "      <td>343.0175</td>\n",
              "      <td>-342.912</td>\n",
              "      <td>342.8928</td>\n",
              "      <td>-342.9287</td>\n",
              "      <td>-4.02452e-06</td>\n",
              "      <td>-4.6669999999999995e-06</td>\n",
              "      <td>-7.215308e-08</td>\n",
              "      <td>-0.224088</td>\n",
              "      <td>-0.224019</td>\n",
              "      <td>-0.2240065</td>\n",
              "      <td>-0.22403</td>\n",
              "      <td>0</td>\n",
              "    </tr>\n",
              "    <tr>\n",
              "      <th>3</th>\n",
              "      <td>0.22785189999999997</td>\n",
              "      <td>0.06732436</td>\n",
              "      <td>-13.62979</td>\n",
              "      <td>-0.008328836</td>\n",
              "      <td>-0.006301623</td>\n",
              "      <td>0.0025199379999999998</td>\n",
              "      <td>0.44</td>\n",
              "      <td>342.9608</td>\n",
              "      <td>-342.8717</td>\n",
              "      <td>343.0659</td>\n",
              "      <td>-342.8525</td>\n",
              "      <td>6.818334e-06</td>\n",
              "      <td>7.100436999999999e-06</td>\n",
              "      <td>5.960543e-07</td>\n",
              "      <td>-0.2240509</td>\n",
              "      <td>-0.2239928</td>\n",
              "      <td>-0.2241196</td>\n",
              "      <td>-0.22398020000000002</td>\n",
              "      <td>0</td>\n",
              "    </tr>\n",
              "    <tr>\n",
              "      <th>4</th>\n",
              "      <td>-0.01241245</td>\n",
              "      <td>-0.1545401</td>\n",
              "      <td>-13.94356</td>\n",
              "      <td>-0.01056849</td>\n",
              "      <td>-0.008493732</td>\n",
              "      <td>0.0007364108</td>\n",
              "      <td>0.44</td>\n",
              "      <td>342.8445</td>\n",
              "      <td>-343.066</td>\n",
              "      <td>342.7531</td>\n",
              "      <td>-343.0873</td>\n",
              "      <td>-3.975494e-06</td>\n",
              "      <td>-3.691068e-06</td>\n",
              "      <td>1.940148e-06</td>\n",
              "      <td>-0.223975</td>\n",
              "      <td>-0.2241197</td>\n",
              "      <td>-0.22391529999999998</td>\n",
              "      <td>-0.22413360000000002</td>\n",
              "      <td>0</td>\n",
              "    </tr>\n",
              "    <tr>\n",
              "      <th>5</th>\n",
              "      <td>0.21535289999999999</td>\n",
              "      <td>0.05578018</td>\n",
              "      <td>-13.64611</td>\n",
              "      <td>-0.008419157</td>\n",
              "      <td>-0.006429253</td>\n",
              "      <td>0.00240215</td>\n",
              "      <td>0.44</td>\n",
              "      <td>343.4182</td>\n",
              "      <td>-342.416</td>\n",
              "      <td>343.5187</td>\n",
              "      <td>-342.3979</td>\n",
              "      <td>1.696333e-05</td>\n",
              "      <td>1.88649e-05</td>\n",
              "      <td>1.3310810000000002e-05</td>\n",
              "      <td>-0.22434980000000002</td>\n",
              "      <td>-0.2236951</td>\n",
              "      <td>-0.2244154</td>\n",
              "      <td>-0.2236833</td>\n",
              "      <td>0</td>\n",
              "    </tr>\n",
              "  </tbody>\n",
              "</table>\n",
              "</div>"
            ],
            "text/plain": [
              "                  AccX                  AccY  ...         ThurstRefOut4 Label\n",
              "1           0.03380774  -0.11192460000000001  ...  -0.22405239999999998     0\n",
              "2            -0.116923            -0.2512355  ...              -0.22403     0\n",
              "3  0.22785189999999997            0.06732436  ...  -0.22398020000000002     0\n",
              "4          -0.01241245            -0.1545401  ...  -0.22413360000000002     0\n",
              "5  0.21535289999999999            0.05578018  ...            -0.2236833     0\n",
              "\n",
              "[5 rows x 19 columns]"
            ]
          },
          "metadata": {},
          "execution_count": 44
        }
      ]
    },
    {
      "cell_type": "code",
      "metadata": {
        "colab": {
          "base_uri": "https://localhost:8080/"
        },
        "id": "lkQnPhOnvdOP",
        "outputId": "bd56692a-42ae-48bf-adc7-dd3f6c6c0340"
      },
      "source": [
        "df.columns"
      ],
      "execution_count": null,
      "outputs": [
        {
          "output_type": "execute_result",
          "data": {
            "text/plain": [
              "Index(['AccX', 'AccY', 'AccZ', 'GyrX', 'GyrY', 'GyrZ', 'Altitude', 'Cmd1',\n",
              "       'Cmd2', 'Cmd3', 'Cmd4', 'Roll', 'Pitch', 'Yaw', 'ThurstRefOut1',\n",
              "       'ThurstRefOut2', 'ThurstRefOut3', 'ThurstRefOut4', 'Label'],\n",
              "      dtype='object')"
            ]
          },
          "metadata": {},
          "execution_count": 45
        }
      ]
    },
    {
      "cell_type": "code",
      "metadata": {
        "colab": {
          "base_uri": "https://localhost:8080/"
        },
        "id": "UwNzFwPqlV9J",
        "outputId": "c76711e1-c36f-4368-f9f5-865624390cd5"
      },
      "source": [
        "df.shape"
      ],
      "execution_count": null,
      "outputs": [
        {
          "output_type": "execute_result",
          "data": {
            "text/plain": [
              "(3075000, 19)"
            ]
          },
          "metadata": {},
          "execution_count": 46
        }
      ]
    },
    {
      "cell_type": "code",
      "metadata": {
        "colab": {
          "base_uri": "https://localhost:8080/"
        },
        "id": "PObIjejqdlPq",
        "outputId": "1d4c1328-f0be-407a-b9c1-300eabd4a8e5"
      },
      "source": [
        "df.info()"
      ],
      "execution_count": null,
      "outputs": [
        {
          "output_type": "stream",
          "text": [
            "<class 'pandas.core.frame.DataFrame'>\n",
            "Int64Index: 3075000 entries, 1 to 3075000\n",
            "Data columns (total 19 columns):\n",
            " #   Column         Dtype \n",
            "---  ------         ----- \n",
            " 0   AccX           object\n",
            " 1   AccY           object\n",
            " 2   AccZ           object\n",
            " 3   GyrX           object\n",
            " 4   GyrY           object\n",
            " 5   GyrZ           object\n",
            " 6   Altitude       object\n",
            " 7   Cmd1           object\n",
            " 8   Cmd2           object\n",
            " 9   Cmd3           object\n",
            " 10  Cmd4           object\n",
            " 11  Roll           object\n",
            " 12  Pitch          object\n",
            " 13  Yaw            object\n",
            " 14  ThurstRefOut1  object\n",
            " 15  ThurstRefOut2  object\n",
            " 16  ThurstRefOut3  object\n",
            " 17  ThurstRefOut4  object\n",
            " 18  Label          int64 \n",
            "dtypes: int64(1), object(18)\n",
            "memory usage: 469.2+ MB\n"
          ],
          "name": "stdout"
        }
      ]
    },
    {
      "cell_type": "code",
      "metadata": {
        "colab": {
          "base_uri": "https://localhost:8080/"
        },
        "id": "AJ5hCnQScwzT",
        "outputId": "31bb94ba-83cf-4c4c-fa90-9c90369573cd"
      },
      "source": [
        "df[\"Label\"].unique()"
      ],
      "execution_count": null,
      "outputs": [
        {
          "output_type": "execute_result",
          "data": {
            "text/plain": [
              "array([0, 1, 2, 3, 4])"
            ]
          },
          "metadata": {},
          "execution_count": 48
        }
      ]
    },
    {
      "cell_type": "code",
      "metadata": {
        "id": "NbU2HpESOIcu"
      },
      "source": [
        "Category = 'BiLSTM'"
      ],
      "execution_count": null,
      "outputs": []
    },
    {
      "cell_type": "code",
      "metadata": {
        "id": "_KQ3fpfMdqtZ"
      },
      "source": [
        "df = df.apply(pd.to_numeric)"
      ],
      "execution_count": null,
      "outputs": []
    },
    {
      "cell_type": "code",
      "metadata": {
        "colab": {
          "base_uri": "https://localhost:8080/"
        },
        "id": "JDjFCktue1rR",
        "outputId": "a1db0b1e-1aa0-49e0-b52b-1d8a4c955cad"
      },
      "source": [
        "df.info()"
      ],
      "execution_count": null,
      "outputs": [
        {
          "output_type": "stream",
          "text": [
            "<class 'pandas.core.frame.DataFrame'>\n",
            "Int64Index: 3075000 entries, 1 to 3075000\n",
            "Data columns (total 19 columns):\n",
            " #   Column         Dtype  \n",
            "---  ------         -----  \n",
            " 0   AccX           float64\n",
            " 1   AccY           float64\n",
            " 2   AccZ           float64\n",
            " 3   GyrX           float64\n",
            " 4   GyrY           float64\n",
            " 5   GyrZ           float64\n",
            " 6   Altitude       float64\n",
            " 7   Cmd1           float64\n",
            " 8   Cmd2           float64\n",
            " 9   Cmd3           float64\n",
            " 10  Cmd4           float64\n",
            " 11  Roll           float64\n",
            " 12  Pitch          float64\n",
            " 13  Yaw            float64\n",
            " 14  ThurstRefOut1  float64\n",
            " 15  ThurstRefOut2  float64\n",
            " 16  ThurstRefOut3  float64\n",
            " 17  ThurstRefOut4  float64\n",
            " 18  Label          int64  \n",
            "dtypes: float64(18), int64(1)\n",
            "memory usage: 469.2 MB\n"
          ],
          "name": "stdout"
        }
      ]
    },
    {
      "cell_type": "code",
      "metadata": {
        "colab": {
          "base_uri": "https://localhost:8080/"
        },
        "id": "aDnXapJ9rKs6",
        "outputId": "d74e4568-896c-42b8-e1c5-04db489dbe42"
      },
      "source": [
        "df[\"Label\"].unique()"
      ],
      "execution_count": null,
      "outputs": [
        {
          "output_type": "execute_result",
          "data": {
            "text/plain": [
              "array([0, 1, 2, 3, 4])"
            ]
          },
          "metadata": {},
          "execution_count": 52
        }
      ]
    },
    {
      "cell_type": "markdown",
      "metadata": {
        "id": "OEyIz42X5FZY"
      },
      "source": [
        "### Data Pre-processing"
      ]
    },
    {
      "cell_type": "markdown",
      "metadata": {
        "id": "7XmduoNI5JYo"
      },
      "source": [
        "### Feature Engineering"
      ]
    },
    {
      "cell_type": "code",
      "metadata": {
        "colab": {
          "base_uri": "https://localhost:8080/",
          "height": 332
        },
        "id": "ilA4S4u1gDWn",
        "outputId": "6a1ebc58-07cd-4500-8c68-eed442542edd"
      },
      "source": [
        "import seaborn as sns\n",
        "\n",
        "sns.heatmap(df.corr())\n",
        "plt.show()"
      ],
      "execution_count": null,
      "outputs": [
        {
          "output_type": "display_data",
          "data": {
            "image/png": "[encoded data removed]",
            "text/plain": [
              "<Figure size 432x288 with 2 Axes>"
            ]
          },
          "metadata": {
            "needs_background": "light"
          }
        }
      ]
    },
    {
      "cell_type": "code",
      "metadata": {
        "id": "SBKcAWizgySy"
      },
      "source": [
        "new_cols = [\"AccY\",\"AccZ\", \"GyrX\",\"GyrY\",\"GyrZ\",\"Cmd3\",\"Cmd4\",\"Label\"]"
      ],
      "execution_count": null,
      "outputs": []
    },
    {
      "cell_type": "code",
      "metadata": {
        "id": "gkYzlpvpgvnW"
      },
      "source": [
        "df = df[new_cols]"
      ],
      "execution_count": null,
      "outputs": []
    },
    {
      "cell_type": "code",
      "metadata": {
        "colab": {
          "base_uri": "https://localhost:8080/"
        },
        "id": "egMpq0VChLaP",
        "outputId": "33fa26d8-9a6b-4f51-fe95-67776306801d"
      },
      "source": [
        "df.shape"
      ],
      "execution_count": null,
      "outputs": [
        {
          "output_type": "execute_result",
          "data": {
            "text/plain": [
              "(3075000, 8)"
            ]
          },
          "metadata": {},
          "execution_count": 56
        }
      ]
    },
    {
      "cell_type": "code",
      "metadata": {
        "colab": {
          "base_uri": "https://localhost:8080/"
        },
        "id": "VUqmAc3PXqBL",
        "outputId": "d9450d9c-81c1-4760-9ed5-b29dd62aba88"
      },
      "source": [
        "df[\"Label\"].value_counts()"
      ],
      "execution_count": null,
      "outputs": [
        {
          "output_type": "execute_result",
          "data": {
            "text/plain": [
              "0    1885107\n",
              "3     306630\n",
              "4     300858\n",
              "1     297929\n",
              "2     284476\n",
              "Name: Label, dtype: int64"
            ]
          },
          "metadata": {},
          "execution_count": 57
        }
      ]
    },
    {
      "cell_type": "code",
      "metadata": {
        "colab": {
          "base_uri": "https://localhost:8080/"
        },
        "id": "wp7m7ypqypXB",
        "outputId": "d5d80f2f-621d-4c5e-f76f-037660827a90"
      },
      "source": [
        "df[\"Label\"].unique()"
      ],
      "execution_count": null,
      "outputs": [
        {
          "output_type": "execute_result",
          "data": {
            "text/plain": [
              "array([0, 1, 2, 3, 4])"
            ]
          },
          "metadata": {},
          "execution_count": 58
        }
      ]
    },
    {
      "cell_type": "code",
      "metadata": {
        "id": "-xnbcj-5n9DZ"
      },
      "source": [
        "y = df[\"Label\"]\n",
        "X = df.drop(\"Label\",axis= 1)"
      ],
      "execution_count": null,
      "outputs": []
    },
    {
      "cell_type": "markdown",
      "metadata": {
        "id": "yPxvHSQccs14"
      },
      "source": [
        "\n",
        "#### Data Normalization"
      ]
    },
    {
      "cell_type": "code",
      "metadata": {
        "id": "7-MZBImicKTl"
      },
      "source": [
        "# # Scaling the Data\n",
        "\n",
        "# from sklearn import preprocessing\n",
        "# import joblib\n",
        "\n",
        "# scaler = preprocessing.MinMaxScaler(feature_range=(0, 1))\n",
        "# df = scaler.fit_transform(df)\n",
        "from sklearn.preprocessing import RobustScaler\n",
        "new_cols = [\"AccY\",\"AccZ\", \"GyrX\",\"GyrY\",\"GyrZ\",\"Cmd3\",\"Cmd4\"]\n",
        "scale_columns = new_cols\n",
        "\n",
        "scaler = RobustScaler()\n",
        "\n",
        "scaler = scaler.fit(X[scale_columns])\n",
        "\n",
        "X.loc[:, scale_columns] = scaler.transform(X[scale_columns].to_numpy())\n"
      ],
      "execution_count": null,
      "outputs": []
    },
    {
      "cell_type": "markdown",
      "metadata": {
        "id": "_JiJnDBh5cH8"
      },
      "source": [
        "#### Creating Sliding Windows"
      ]
    },
    {
      "cell_type": "code",
      "metadata": {
        "id": "Grt-YCYmpDpb"
      },
      "source": [
        "from scipy import stats\n",
        "\n",
        "def create_dataset(X, y, time_steps=1, step=1):\n",
        "    Xs, ys = [], []\n",
        "    for i in range(0, len(X) - time_steps, step):\n",
        "        v = X.iloc[i:(i + time_steps)].values\n",
        "        labels = y.iloc[i: i + time_steps]\n",
        "        Xs.append(v)        \n",
        "        ys.append(stats.mode(labels)[0][0])\n",
        "    return np.array(Xs), np.array(ys).reshape(-1, 1)\n",
        "\n",
        "TIME_STEPS = 200\n",
        "STEP = 40\n",
        "\n",
        "X_train, y_train = create_dataset(\n",
        "    X[new_cols], \n",
        "    y, \n",
        "    TIME_STEPS, \n",
        "    STEP\n",
        ")"
      ],
      "execution_count": null,
      "outputs": []
    },
    {
      "cell_type": "code",
      "metadata": {
        "colab": {
          "base_uri": "https://localhost:8080/"
        },
        "id": "FThHScpGp5q5",
        "outputId": "f788f1b2-57c3-4ad1-edb1-df58c8e4dae7"
      },
      "source": [
        "print(X_train.shape, y_train.shape)"
      ],
      "execution_count": null,
      "outputs": [
        {
          "output_type": "stream",
          "text": [
            "(76870, 200, 7) (76870, 1)\n"
          ],
          "name": "stdout"
        }
      ]
    },
    {
      "cell_type": "code",
      "metadata": {
        "colab": {
          "base_uri": "https://localhost:8080/"
        },
        "id": "YSSfyXXEqiad",
        "outputId": "53ccb3c8-d180-4fc1-cb56-3375a628f0fe"
      },
      "source": [
        "type(y_train)"
      ],
      "execution_count": null,
      "outputs": [
        {
          "output_type": "execute_result",
          "data": {
            "text/plain": [
              "numpy.ndarray"
            ]
          },
          "metadata": {},
          "execution_count": 63
        }
      ]
    },
    {
      "cell_type": "code",
      "metadata": {
        "colab": {
          "base_uri": "https://localhost:8080/"
        },
        "id": "pzDwDD3Er-zV",
        "outputId": "71f301a2-7edc-46c6-a974-d2d35771c2c5"
      },
      "source": [
        "unique, counts = np.unique(y_train, return_counts=True)\n",
        "\n",
        "print(np.asarray((unique, counts)).T)"
      ],
      "execution_count": null,
      "outputs": [
        {
          "output_type": "stream",
          "text": [
            "[[    0 47799]\n",
            " [    1  7298]\n",
            " [    2  6924]\n",
            " [    3  7466]\n",
            " [    4  7383]]\n"
          ],
          "name": "stdout"
        }
      ]
    },
    {
      "cell_type": "markdown",
      "metadata": {
        "id": "YtxkoUJy5jYR"
      },
      "source": [
        "### Label Encoding"
      ]
    },
    {
      "cell_type": "code",
      "metadata": {
        "id": "JsEFUUKJp8un"
      },
      "source": [
        "from sklearn.preprocessing import OneHotEncoder\n",
        "\n",
        "enc = OneHotEncoder(handle_unknown='ignore', sparse=False)\n",
        "\n",
        "enc = enc.fit(y_train)\n",
        "\n",
        "y_train = enc.transform(y_train)\n",
        "# y_test = enc.transform(y_test)"
      ],
      "execution_count": null,
      "outputs": []
    },
    {
      "cell_type": "code",
      "metadata": {
        "colab": {
          "base_uri": "https://localhost:8080/"
        },
        "id": "sIIpTsZHqMS4",
        "outputId": "812cceaa-3bb8-4089-c9b6-ec897edda2c3"
      },
      "source": [
        "print(X_train.shape, y_train.shape)\n"
      ],
      "execution_count": null,
      "outputs": [
        {
          "output_type": "stream",
          "text": [
            "(76870, 200, 7) (76870, 5)\n"
          ],
          "name": "stdout"
        }
      ]
    },
    {
      "cell_type": "markdown",
      "metadata": {
        "id": "37miCqxk5pj7"
      },
      "source": [
        "### Start Training"
      ]
    },
    {
      "cell_type": "markdown",
      "metadata": {
        "id": "c1jGVFfO50_G"
      },
      "source": [
        "#### Build Bidirectional LSTM ARchitecture"
      ]
    },
    {
      "cell_type": "code",
      "metadata": {
        "id": "qmRScZNdsNsJ"
      },
      "source": [
        "from tensorflow import keras\n",
        "\n",
        "model = keras.Sequential()\n",
        "model.add(\n",
        "    keras.layers.Bidirectional(\n",
        "      keras.layers.LSTM(\n",
        "          units=128, \n",
        "          input_shape=[X_train.shape[1], X_train.shape[2]]\n",
        "      )\n",
        "    )\n",
        ")\n",
        "\n",
        "model.add(keras.layers.Dropout(rate=0.30))\n",
        "model.add(keras.layers.Dense(units=128, activation='relu'))\n",
        "model.add(keras.layers.Dense(y_train.shape[1], activation='softmax'))\n",
        "\n",
        "# Compile model \n",
        "model.compile(loss='categorical_crossentropy', optimizer= 'adam', metrics=['accuracy'])"
      ],
      "execution_count": null,
      "outputs": []
    },
    {
      "cell_type": "code",
      "metadata": {
        "id": "xmTR7AhfS6MN"
      },
      "source": [
        "# Function to plot the training accuracy and Loss\n",
        "def plot_training(history):\n",
        "    print(history.history.keys())\n",
        "\n",
        "    #  \"Accuracy\"\n",
        "    plt.plot(history.history['accuracy'])\n",
        "    plt.plot(history.history['val_accuracy'])\n",
        "    plt.title('model accuracy')\n",
        "    plt.ylabel('accuracy')\n",
        "    plt.xlabel('epoch')\n",
        "    plt.legend(['train', 'validation'], loc='upper left')\n",
        "    plt.show()\n",
        "    \n",
        "    # \"Loss\"\n",
        "    plt.plot(history.history['loss'])\n",
        "    plt.plot(history.history['val_loss'])\n",
        "    plt.title('model loss')\n",
        "    plt.ylabel('loss')\n",
        "    plt.xlabel('epoch')\n",
        "    plt.legend(['train', 'validation'], loc='upper left')\n",
        "    plt.show()"
      ],
      "execution_count": null,
      "outputs": []
    },
    {
      "cell_type": "code",
      "metadata": {
        "id": "AaVZK5iwxK-1"
      },
      "source": [
        "from tensorflow.keras.callbacks import EarlyStopping\n",
        "\n",
        "# Implement Patient early stopping\n",
        "es = EarlyStopping(monitor='val_accuracy', mode='max', verbose=1, patience=10)"
      ],
      "execution_count": null,
      "outputs": []
    },
    {
      "cell_type": "code",
      "metadata": {
        "colab": {
          "base_uri": "https://localhost:8080/",
          "height": 1000
        },
        "id": "LkYbFYP1LRJj",
        "outputId": "2f342aa0-91b0-4c5f-c6d5-f76c33b81d17"
      },
      "source": [
        "# Start Training\n",
        "history = model.fit(\n",
        "    X_train, y_train,\n",
        "    epochs=100,\n",
        "    batch_size=64,\n",
        "    validation_split=0.25,\n",
        "    shuffle=True,\n",
        "    callbacks=[es]\n",
        ")\n",
        "plot_training(history)"
      ],
      "execution_count": null,
      "outputs": [
        {
          "output_type": "stream",
          "text": [
            "Epoch 1/100\n",
            "901/901 [==============================] - 28s 28ms/step - loss: 0.6993 - accuracy: 0.6805 - val_loss: 2.0504 - val_accuracy: 0.5254\n",
            "Epoch 2/100\n",
            "901/901 [==============================] - 24s 27ms/step - loss: 0.5769 - accuracy: 0.7343 - val_loss: 2.4076 - val_accuracy: 0.3289\n",
            "Epoch 3/100\n",
            "901/901 [==============================] - 24s 27ms/step - loss: 0.5318 - accuracy: 0.7557 - val_loss: 1.6976 - val_accuracy: 0.5563\n",
            "Epoch 4/100\n",
            "901/901 [==============================] - 24s 27ms/step - loss: 0.4897 - accuracy: 0.7720 - val_loss: 1.5440 - val_accuracy: 0.5838\n",
            "Epoch 5/100\n",
            "901/901 [==============================] - 24s 27ms/step - loss: 0.4701 - accuracy: 0.7808 - val_loss: 2.0001 - val_accuracy: 0.5109\n",
            "Epoch 6/100\n",
            "901/901 [==============================] - 24s 27ms/step - loss: 0.4914 - accuracy: 0.7788 - val_loss: 1.9851 - val_accuracy: 0.5212\n",
            "Epoch 7/100\n",
            "901/901 [==============================] - 24s 27ms/step - loss: 0.4959 - accuracy: 0.7733 - val_loss: 1.8888 - val_accuracy: 0.6666\n",
            "Epoch 8/100\n",
            "901/901 [==============================] - 24s 27ms/step - loss: 0.4590 - accuracy: 0.7890 - val_loss: 1.7300 - val_accuracy: 0.7189\n",
            "Epoch 9/100\n",
            "901/901 [==============================] - 24s 27ms/step - loss: 0.4397 - accuracy: 0.7962 - val_loss: 1.6114 - val_accuracy: 0.7633\n",
            "Epoch 10/100\n",
            "901/901 [==============================] - 24s 27ms/step - loss: 0.4289 - accuracy: 0.8004 - val_loss: 1.9884 - val_accuracy: 0.6029\n",
            "Epoch 11/100\n",
            "901/901 [==============================] - 24s 27ms/step - loss: 0.4389 - accuracy: 0.7934 - val_loss: 2.0073 - val_accuracy: 0.7351\n",
            "Epoch 12/100\n",
            "901/901 [==============================] - 24s 27ms/step - loss: 0.4144 - accuracy: 0.8022 - val_loss: 1.7623 - val_accuracy: 0.8022\n",
            "Epoch 13/100\n",
            "901/901 [==============================] - 24s 27ms/step - loss: 0.4097 - accuracy: 0.8040 - val_loss: 1.8319 - val_accuracy: 0.7873\n",
            "Epoch 14/100\n",
            "901/901 [==============================] - 24s 27ms/step - loss: 0.4004 - accuracy: 0.8088 - val_loss: 2.1400 - val_accuracy: 0.6199\n",
            "Epoch 15/100\n",
            "901/901 [==============================] - 24s 27ms/step - loss: 0.3873 - accuracy: 0.8139 - val_loss: 1.9370 - val_accuracy: 0.8046\n",
            "Epoch 16/100\n",
            "901/901 [==============================] - 24s 27ms/step - loss: 0.3843 - accuracy: 0.8137 - val_loss: 1.8760 - val_accuracy: 0.7964\n",
            "Epoch 17/100\n",
            "901/901 [==============================] - 24s 27ms/step - loss: 0.3767 - accuracy: 0.8171 - val_loss: 2.0929 - val_accuracy: 0.7823\n",
            "Epoch 18/100\n",
            "901/901 [==============================] - 24s 27ms/step - loss: 0.3854 - accuracy: 0.8130 - val_loss: 1.8218 - val_accuracy: 0.7922\n",
            "Epoch 19/100\n",
            "901/901 [==============================] - 24s 27ms/step - loss: 0.3862 - accuracy: 0.8154 - val_loss: 1.9905 - val_accuracy: 0.7905\n",
            "Epoch 20/100\n",
            "901/901 [==============================] - 24s 27ms/step - loss: 0.3689 - accuracy: 0.8220 - val_loss: 2.2293 - val_accuracy: 0.7804\n",
            "Epoch 21/100\n",
            "901/901 [==============================] - 24s 27ms/step - loss: 0.3639 - accuracy: 0.8221 - val_loss: 2.2590 - val_accuracy: 0.7594\n",
            "Epoch 22/100\n",
            "901/901 [==============================] - 24s 27ms/step - loss: 0.3554 - accuracy: 0.8242 - val_loss: 2.5378 - val_accuracy: 0.6757\n",
            "Epoch 23/100\n",
            "901/901 [==============================] - 24s 27ms/step - loss: 0.3664 - accuracy: 0.8221 - val_loss: 1.9877 - val_accuracy: 0.7622\n",
            "Epoch 24/100\n",
            "901/901 [==============================] - 24s 27ms/step - loss: 0.3531 - accuracy: 0.8259 - val_loss: 2.1398 - val_accuracy: 0.6592\n",
            "Epoch 25/100\n",
            "901/901 [==============================] - 24s 27ms/step - loss: 0.3435 - accuracy: 0.8275 - val_loss: 2.1337 - val_accuracy: 0.8138\n",
            "Epoch 26/100\n",
            "901/901 [==============================] - 24s 27ms/step - loss: 0.3398 - accuracy: 0.8300 - val_loss: 2.0422 - val_accuracy: 0.8158\n",
            "Epoch 27/100\n",
            "901/901 [==============================] - 24s 27ms/step - loss: 0.3340 - accuracy: 0.8317 - val_loss: 2.2092 - val_accuracy: 0.7924\n",
            "Epoch 28/100\n",
            "901/901 [==============================] - 24s 27ms/step - loss: 0.3324 - accuracy: 0.8324 - val_loss: 1.8686 - val_accuracy: 0.7962\n",
            "Epoch 29/100\n",
            "901/901 [==============================] - 24s 27ms/step - loss: 0.3318 - accuracy: 0.8317 - val_loss: 2.0126 - val_accuracy: 0.8125\n",
            "Epoch 30/100\n",
            "901/901 [==============================] - 24s 27ms/step - loss: 0.3237 - accuracy: 0.8349 - val_loss: 2.2806 - val_accuracy: 0.7983\n",
            "Epoch 31/100\n",
            "901/901 [==============================] - 24s 27ms/step - loss: 0.3266 - accuracy: 0.8344 - val_loss: 2.5767 - val_accuracy: 0.8016\n",
            "Epoch 32/100\n",
            "901/901 [==============================] - 24s 27ms/step - loss: 0.3239 - accuracy: 0.8358 - val_loss: 2.5017 - val_accuracy: 0.8149\n",
            "Epoch 33/100\n",
            "901/901 [==============================] - 24s 27ms/step - loss: 0.3248 - accuracy: 0.8355 - val_loss: 2.4765 - val_accuracy: 0.7628\n",
            "Epoch 34/100\n",
            "901/901 [==============================] - 24s 27ms/step - loss: 0.3253 - accuracy: 0.8350 - val_loss: 2.2946 - val_accuracy: 0.8234\n",
            "Epoch 35/100\n",
            "901/901 [==============================] - 24s 27ms/step - loss: 0.3290 - accuracy: 0.8340 - val_loss: 2.3726 - val_accuracy: 0.8117\n",
            "Epoch 36/100\n",
            "901/901 [==============================] - 24s 27ms/step - loss: 0.3112 - accuracy: 0.8401 - val_loss: 2.4774 - val_accuracy: 0.7881\n",
            "Epoch 37/100\n",
            "901/901 [==============================] - 24s 27ms/step - loss: 0.3115 - accuracy: 0.8396 - val_loss: 2.5259 - val_accuracy: 0.7895\n",
            "Epoch 38/100\n",
            "901/901 [==============================] - 24s 27ms/step - loss: 0.3153 - accuracy: 0.8384 - val_loss: 2.4836 - val_accuracy: 0.8196\n",
            "Epoch 39/100\n",
            "901/901 [==============================] - 24s 27ms/step - loss: 0.3142 - accuracy: 0.8389 - val_loss: 2.3959 - val_accuracy: 0.8065\n",
            "Epoch 40/100\n",
            "901/901 [==============================] - 24s 27ms/step - loss: 0.3312 - accuracy: 0.8334 - val_loss: 2.5634 - val_accuracy: 0.8181\n",
            "Epoch 41/100\n",
            "901/901 [==============================] - 24s 27ms/step - loss: 0.3149 - accuracy: 0.8387 - val_loss: 2.4564 - val_accuracy: 0.8256\n",
            "Epoch 42/100\n",
            "901/901 [==============================] - 24s 27ms/step - loss: 0.3135 - accuracy: 0.8389 - val_loss: 2.4796 - val_accuracy: 0.8275\n",
            "Epoch 43/100\n",
            "901/901 [==============================] - 24s 27ms/step - loss: 0.3040 - accuracy: 0.8424 - val_loss: 2.4692 - val_accuracy: 0.8257\n",
            "Epoch 44/100\n",
            "901/901 [==============================] - 24s 27ms/step - loss: 0.3039 - accuracy: 0.8430 - val_loss: 2.5455 - val_accuracy: 0.8113\n",
            "Epoch 45/100\n",
            "901/901 [==============================] - 24s 27ms/step - loss: 0.3017 - accuracy: 0.8442 - val_loss: 2.5018 - val_accuracy: 0.8071\n",
            "Epoch 46/100\n",
            "901/901 [==============================] - 24s 27ms/step - loss: 0.3041 - accuracy: 0.8428 - val_loss: 2.5028 - val_accuracy: 0.8089\n",
            "Epoch 47/100\n",
            "901/901 [==============================] - 24s 27ms/step - loss: 0.3038 - accuracy: 0.8425 - val_loss: 2.7457 - val_accuracy: 0.8257\n",
            "Epoch 48/100\n",
            "901/901 [==============================] - 24s 27ms/step - loss: 0.3002 - accuracy: 0.8438 - val_loss: 2.6023 - val_accuracy: 0.8143\n",
            "Epoch 49/100\n",
            "901/901 [==============================] - 24s 27ms/step - loss: 0.2995 - accuracy: 0.8438 - val_loss: 2.5581 - val_accuracy: 0.8172\n",
            "Epoch 50/100\n",
            "901/901 [==============================] - 24s 27ms/step - loss: 0.3040 - accuracy: 0.8430 - val_loss: 2.5386 - val_accuracy: 0.8320\n",
            "Epoch 51/100\n",
            "901/901 [==============================] - 24s 27ms/step - loss: 0.3051 - accuracy: 0.8422 - val_loss: 2.4783 - val_accuracy: 0.8204\n",
            "Epoch 52/100\n",
            "901/901 [==============================] - 24s 27ms/step - loss: 0.3007 - accuracy: 0.8438 - val_loss: 2.5474 - val_accuracy: 0.8159\n",
            "Epoch 53/100\n",
            "901/901 [==============================] - 24s 27ms/step - loss: 0.2979 - accuracy: 0.8450 - val_loss: 2.6067 - val_accuracy: 0.8197\n",
            "Epoch 54/100\n",
            "901/901 [==============================] - 24s 27ms/step - loss: 0.2973 - accuracy: 0.8449 - val_loss: 2.5088 - val_accuracy: 0.8087\n",
            "Epoch 55/100\n",
            "901/901 [==============================] - 24s 27ms/step - loss: 0.2985 - accuracy: 0.8441 - val_loss: 2.5165 - val_accuracy: 0.8185\n",
            "Epoch 56/100\n",
            "901/901 [==============================] - 24s 27ms/step - loss: 0.2929 - accuracy: 0.8454 - val_loss: 2.2910 - val_accuracy: 0.8284\n",
            "Epoch 57/100\n",
            "901/901 [==============================] - 24s 27ms/step - loss: 0.2964 - accuracy: 0.8450 - val_loss: 3.0075 - val_accuracy: 0.7830\n",
            "Epoch 58/100\n",
            "901/901 [==============================] - 24s 27ms/step - loss: 0.2857 - accuracy: 0.8484 - val_loss: 2.8249 - val_accuracy: 0.8159\n",
            "Epoch 59/100\n",
            "901/901 [==============================] - 24s 27ms/step - loss: 0.2911 - accuracy: 0.8471 - val_loss: 2.1241 - val_accuracy: 0.8188\n",
            "Epoch 60/100\n",
            "901/901 [==============================] - 24s 27ms/step - loss: 0.2947 - accuracy: 0.8451 - val_loss: 2.5941 - val_accuracy: 0.7895\n",
            "Epoch 00060: early stopping\n",
            "dict_keys(['loss', 'accuracy', 'val_loss', 'val_accuracy'])\n"
          ],
          "name": "stdout"
        },
        {
          "output_type": "display_data",
          "data": {
            "image/png": "[encoded data removed]",
            "text/plain": [
              "<Figure size 432x288 with 1 Axes>"
            ]
          },
          "metadata": {
            "needs_background": "light"
          }
        },
        {
          "output_type": "display_data",
          "data": {
            "image/png": "[encoded data removed]",
            "text/plain": [
              "<Figure size 432x288 with 1 Axes>"
            ]
          },
          "metadata": {
            "needs_background": "light"
          }
        }
      ]
    },
    {
      "cell_type": "markdown",
      "metadata": {
        "id": "UI31JNbN6G2P"
      },
      "source": [
        "### Save the Model"
      ]
    },
    {
      "cell_type": "code",
      "metadata": {
        "id": "orBzCwqUUSzs"
      },
      "source": [
        "import datetime\n",
        "model.save(\"Gyr_Models/\"+Category+\"_\"+str(TIME_STEPS)+\"_\"+f'{datetime.datetime.today().strftime(\"%d-%m-%Y\")}.h5')"
      ],
      "execution_count": null,
      "outputs": []
    }
  ]
}