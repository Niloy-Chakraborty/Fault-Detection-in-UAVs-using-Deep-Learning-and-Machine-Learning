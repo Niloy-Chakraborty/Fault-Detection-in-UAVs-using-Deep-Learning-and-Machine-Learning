{
  "nbformat": 4,
  "nbformat_minor": 0,
  "metadata": {
    "colab": {
      "name": "Test_5Class_Gyr_CNN_LSTM_Seq2Label_V1.ipynb",
      "provenance": [],
      "collapsed_sections": [],
      "machine_shape": "hm"
    },
    "kernelspec": {
      "display_name": "Python 3",
      "language": "python",
      "name": "python3"
    },
    "language_info": {
      "codemirror_mode": {
        "name": "ipython",
        "version": 3
      },
      "file_extension": ".py",
      "mimetype": "text/x-python",
      "name": "python",
      "nbconvert_exporter": "python",
      "pygments_lexer": "ipython3",
      "version": "3.7.6"
    },
    "accelerator": "GPU"
  },
  "cells": [
    {
      "cell_type": "markdown",
      "metadata": {
        "id": "Lo8HUsBgzvLc"
      },
      "source": [
        "### Test Script for DL Evaluation for Gyroscope (CNN-LSTM and BILSTM)\n",
        "\n",
        "@ Author: Niloy Chakraborty\n",
        "\n",
        "@ Author EMail: chakrabortyniloy2018@gmail.com"
      ]
    },
    {
      "cell_type": "code",
      "metadata": {
        "id": "EGsE8YI5-usc",
        "colab": {
          "base_uri": "https://localhost:8080/"
        },
        "outputId": "3ad2f723-7057-4c4d-ca7f-f072d77d2bbf"
      },
      "source": [
        "# Connect to Google Drive. If using Jupyter, then comment this cell.\n",
        "from google.colab import drive\n",
        "drive.mount('/gdrive')\n",
        "%cd /gdrive/MyDrive/THESIS/"
      ],
      "execution_count": null,
      "outputs": [
        {
          "output_type": "stream",
          "text": [
            "Mounted at /gdrive\n",
            "/gdrive/MyDrive/THESIS\n"
          ],
          "name": "stdout"
        }
      ]
    },
    {
      "cell_type": "markdown",
      "metadata": {
        "id": "Qzb1cp78-lji"
      },
      "source": [
        "#### Load the libraries"
      ]
    },
    {
      "cell_type": "code",
      "metadata": {
        "id": "wdHJiHE7-ljl"
      },
      "source": [
        "import h5py\n",
        "import numpy as np\n",
        "import pandas as pd\n",
        "import matplotlib.pyplot as plt\n",
        "from os import listdir\n",
        "from os.path import isfile, join\n",
        "# import tensorflow_addons as tfa\n"
      ],
      "execution_count": null,
      "outputs": []
    },
    {
      "cell_type": "code",
      "metadata": {
        "id": "9Jmy2PiCc7jX"
      },
      "source": [
        "import os\n",
        "import yaml\n",
        "\n",
        "import tensorflow as tf\n",
        "\n",
        "from tensorflow.keras.models import Model,Sequential\n",
        "from tensorflow.keras.layers import LSTM, Dropout,Dense,RepeatVector,TimeDistributed,Input,BatchNormalization\n",
        "from tensorflow.keras.layers import Conv1D\n",
        "from tensorflow.keras.layers import MaxPooling1D\n",
        "from tensorflow.keras.layers import Flatten\n",
        "\n",
        "from tensorflow.keras.callbacks import TensorBoard\n",
        "from tensorflow.keras.callbacks import ModelCheckpoint\n",
        "from tensorflow.keras.callbacks import LearningRateScheduler\n",
        "from tensorflow.keras.optimizers import Adam as adam\n",
        "\n",
        "from sklearn.model_selection import train_test_split\n",
        "from sklearn.metrics import classification_report\n",
        "from sklearn.metrics import confusion_matrix\n",
        "from tensorflow.keras.models import load_model"
      ],
      "execution_count": null,
      "outputs": []
    },
    {
      "cell_type": "code",
      "metadata": {
        "colab": {
          "base_uri": "https://localhost:8080/",
          "height": 35
        },
        "id": "GZP4MKEpOkg7",
        "outputId": "84dadbc5-ac01-47c6-8ade-c1b8eb8d6d40"
      },
      "source": [
        "import tensorflow as tf\n",
        "tf.version.VERSION"
      ],
      "execution_count": null,
      "outputs": [
        {
          "output_type": "execute_result",
          "data": {
            "application/vnd.google.colaboratory.intrinsic+json": {
              "type": "string"
            },
            "text/plain": [
              "'2.6.0'"
            ]
          },
          "metadata": {},
          "execution_count": 5
        }
      ]
    },
    {
      "cell_type": "markdown",
      "metadata": {
        "id": "N5yEnxMR0AjN"
      },
      "source": [
        "#### Load Test Data"
      ]
    },
    {
      "cell_type": "code",
      "metadata": {
        "id": "0Vzjw_qNPF2r"
      },
      "source": [
        "# Category = \"Acc_with_noise\""
      ],
      "execution_count": null,
      "outputs": []
    },
    {
      "cell_type": "code",
      "metadata": {
        "id": "TzetVnbSiKjb"
      },
      "source": [
        "filepath = 'Gyr_25_secs_final_combined_faulty_data_test.csv'"
      ],
      "execution_count": null,
      "outputs": []
    },
    {
      "cell_type": "code",
      "metadata": {
        "id": "julalftVgSAm"
      },
      "source": [
        "header = ['AccX','AccY','AccZ','GyrX','GyrY','GyrZ','Altitude','Cmd1','Cmd2','Cmd3','Cmd4','Roll','Pitch','Yaw','ThurstRefOut1','ThurstRefOut2','ThurstRefOut3','ThurstRefOut4','Label']"
      ],
      "execution_count": null,
      "outputs": []
    },
    {
      "cell_type": "code",
      "metadata": {
        "id": "3tDfdbhDgCgl",
        "colab": {
          "base_uri": "https://localhost:8080/",
          "height": 343
        },
        "outputId": "be3cb470-e63d-460d-9714-b6ece308a640"
      },
      "source": [
        "df = pd.read_csv(filepath, header = None)\n",
        "df = df.rename(columns=df.iloc[0]).drop(df.index[0])\n",
        "df = df.iloc[:, 1:]\n",
        "df[\"Label\"] = pd.to_numeric(df[\"Label\"])\n",
        "df.head()"
      ],
      "execution_count": null,
      "outputs": [
        {
          "output_type": "stream",
          "text": [
            "/usr/local/lib/python3.7/dist-packages/IPython/core/interactiveshell.py:2718: DtypeWarning: Columns (1,2,3,4,5,6,7,8,9,10,11,12,13,14,15,16,17,18,19) have mixed types.Specify dtype option on import or set low_memory=False.\n",
            "  interactivity=interactivity, compiler=compiler, result=result)\n"
          ],
          "name": "stderr"
        },
        {
          "output_type": "execute_result",
          "data": {
            "text/html": [
              "<div>\n",
              "<style scoped>\n",
              "    .dataframe tbody tr th:only-of-type {\n",
              "        vertical-align: middle;\n",
              "    }\n",
              "\n",
              "    .dataframe tbody tr th {\n",
              "        vertical-align: top;\n",
              "    }\n",
              "\n",
              "    .dataframe thead th {\n",
              "        text-align: right;\n",
              "    }\n",
              "</style>\n",
              "<table border=\"1\" class=\"dataframe\">\n",
              "  <thead>\n",
              "    <tr style=\"text-align: right;\">\n",
              "      <th></th>\n",
              "      <th>AccX</th>\n",
              "      <th>AccY</th>\n",
              "      <th>AccZ</th>\n",
              "      <th>GyrX</th>\n",
              "      <th>GyrY</th>\n",
              "      <th>GyrZ</th>\n",
              "      <th>Altitude</th>\n",
              "      <th>Cmd1</th>\n",
              "      <th>Cmd2</th>\n",
              "      <th>Cmd3</th>\n",
              "      <th>Cmd4</th>\n",
              "      <th>Roll</th>\n",
              "      <th>Pitch</th>\n",
              "      <th>Yaw</th>\n",
              "      <th>ThurstRefOut1</th>\n",
              "      <th>ThurstRefOut2</th>\n",
              "      <th>ThurstRefOut3</th>\n",
              "      <th>ThurstRefOut4</th>\n",
              "      <th>Label</th>\n",
              "    </tr>\n",
              "  </thead>\n",
              "  <tbody>\n",
              "    <tr>\n",
              "      <th>1</th>\n",
              "      <td>0.03380774</td>\n",
              "      <td>-0.11192460000000001</td>\n",
              "      <td>-9.492839</td>\n",
              "      <td>-0.0098925</td>\n",
              "      <td>-0.007933972</td>\n",
              "      <td>0.00108462</td>\n",
              "      <td>0.44</td>\n",
              "      <td>342.9332</td>\n",
              "      <td>-342.9577</td>\n",
              "      <td>342.8969</td>\n",
              "      <td>-342.9631</td>\n",
              "      <td>-1.965233e-06</td>\n",
              "      <td>-2.155978e-06</td>\n",
              "      <td>-5.859605e-07</td>\n",
              "      <td>-0.22403289999999998</td>\n",
              "      <td>-0.2240489</td>\n",
              "      <td>-0.22400920000000002</td>\n",
              "      <td>-0.22405239999999998</td>\n",
              "      <td>0</td>\n",
              "    </tr>\n",
              "    <tr>\n",
              "      <th>2</th>\n",
              "      <td>-0.116923</td>\n",
              "      <td>-0.2512355</td>\n",
              "      <td>-14.08014</td>\n",
              "      <td>-0.01084344</td>\n",
              "      <td>-0.009036063</td>\n",
              "      <td>-2.253169e-05</td>\n",
              "      <td>0.44</td>\n",
              "      <td>343.0175</td>\n",
              "      <td>-342.912</td>\n",
              "      <td>342.8928</td>\n",
              "      <td>-342.9287</td>\n",
              "      <td>-4.02452e-06</td>\n",
              "      <td>-4.6669999999999995e-06</td>\n",
              "      <td>-7.215308e-08</td>\n",
              "      <td>-0.224088</td>\n",
              "      <td>-0.224019</td>\n",
              "      <td>-0.2240065</td>\n",
              "      <td>-0.22403</td>\n",
              "      <td>0</td>\n",
              "    </tr>\n",
              "    <tr>\n",
              "      <th>3</th>\n",
              "      <td>0.22785189999999997</td>\n",
              "      <td>0.06732436</td>\n",
              "      <td>-13.62979</td>\n",
              "      <td>-0.008328836</td>\n",
              "      <td>-0.006301623</td>\n",
              "      <td>0.0025199379999999998</td>\n",
              "      <td>0.44</td>\n",
              "      <td>342.9608</td>\n",
              "      <td>-342.8717</td>\n",
              "      <td>343.0659</td>\n",
              "      <td>-342.8525</td>\n",
              "      <td>6.818334e-06</td>\n",
              "      <td>7.100436999999999e-06</td>\n",
              "      <td>5.960543e-07</td>\n",
              "      <td>-0.2240509</td>\n",
              "      <td>-0.2239928</td>\n",
              "      <td>-0.2241196</td>\n",
              "      <td>-0.22398020000000002</td>\n",
              "      <td>0</td>\n",
              "    </tr>\n",
              "    <tr>\n",
              "      <th>4</th>\n",
              "      <td>-0.01241245</td>\n",
              "      <td>-0.1545401</td>\n",
              "      <td>-13.94356</td>\n",
              "      <td>-0.01056849</td>\n",
              "      <td>-0.008493732</td>\n",
              "      <td>0.0007364108</td>\n",
              "      <td>0.44</td>\n",
              "      <td>342.8445</td>\n",
              "      <td>-343.066</td>\n",
              "      <td>342.7531</td>\n",
              "      <td>-343.0873</td>\n",
              "      <td>-3.975494e-06</td>\n",
              "      <td>-3.691068e-06</td>\n",
              "      <td>1.940148e-06</td>\n",
              "      <td>-0.223975</td>\n",
              "      <td>-0.2241197</td>\n",
              "      <td>-0.22391529999999998</td>\n",
              "      <td>-0.22413360000000002</td>\n",
              "      <td>0</td>\n",
              "    </tr>\n",
              "    <tr>\n",
              "      <th>5</th>\n",
              "      <td>0.21535289999999999</td>\n",
              "      <td>0.05578018</td>\n",
              "      <td>-13.64611</td>\n",
              "      <td>-0.008419157</td>\n",
              "      <td>-0.006429253</td>\n",
              "      <td>0.00240215</td>\n",
              "      <td>0.44</td>\n",
              "      <td>343.4182</td>\n",
              "      <td>-342.416</td>\n",
              "      <td>343.5187</td>\n",
              "      <td>-342.3979</td>\n",
              "      <td>1.696333e-05</td>\n",
              "      <td>1.88649e-05</td>\n",
              "      <td>1.3310810000000002e-05</td>\n",
              "      <td>-0.22434980000000002</td>\n",
              "      <td>-0.2236951</td>\n",
              "      <td>-0.2244154</td>\n",
              "      <td>-0.2236833</td>\n",
              "      <td>0</td>\n",
              "    </tr>\n",
              "  </tbody>\n",
              "</table>\n",
              "</div>"
            ],
            "text/plain": [
              "                  AccX                  AccY  ...         ThurstRefOut4 Label\n",
              "1           0.03380774  -0.11192460000000001  ...  -0.22405239999999998     0\n",
              "2            -0.116923            -0.2512355  ...              -0.22403     0\n",
              "3  0.22785189999999997            0.06732436  ...  -0.22398020000000002     0\n",
              "4          -0.01241245            -0.1545401  ...  -0.22413360000000002     0\n",
              "5  0.21535289999999999            0.05578018  ...            -0.2236833     0\n",
              "\n",
              "[5 rows x 19 columns]"
            ]
          },
          "metadata": {},
          "execution_count": 9
        }
      ]
    },
    {
      "cell_type": "code",
      "metadata": {
        "colab": {
          "base_uri": "https://localhost:8080/"
        },
        "id": "AJ5hCnQScwzT",
        "outputId": "78deaa19-3689-4334-f135-6281f8f82b0b"
      },
      "source": [
        "df[\"Label\"].unique()"
      ],
      "execution_count": null,
      "outputs": [
        {
          "output_type": "execute_result",
          "data": {
            "text/plain": [
              "array([0, 1, 2, 3, 4])"
            ]
          },
          "metadata": {},
          "execution_count": 11
        }
      ]
    },
    {
      "cell_type": "code",
      "metadata": {
        "id": "_KQ3fpfMdqtZ"
      },
      "source": [
        "df = df.apply(pd.to_numeric)\n"
      ],
      "execution_count": null,
      "outputs": []
    },
    {
      "cell_type": "code",
      "metadata": {
        "colab": {
          "base_uri": "https://localhost:8080/"
        },
        "id": "JDjFCktue1rR",
        "outputId": "b004425a-7a64-40bd-a2a3-d966a7db72db"
      },
      "source": [
        "df.info()"
      ],
      "execution_count": null,
      "outputs": [
        {
          "output_type": "stream",
          "text": [
            "<class 'pandas.core.frame.DataFrame'>\n",
            "Int64Index: 462500 entries, 1 to 462500\n",
            "Data columns (total 19 columns):\n",
            " #   Column         Non-Null Count   Dtype  \n",
            "---  ------         --------------   -----  \n",
            " 0   AccX           462500 non-null  float64\n",
            " 1   AccY           462500 non-null  float64\n",
            " 2   AccZ           462500 non-null  float64\n",
            " 3   GyrX           462500 non-null  float64\n",
            " 4   GyrY           462500 non-null  float64\n",
            " 5   GyrZ           462500 non-null  float64\n",
            " 6   Altitude       462500 non-null  float64\n",
            " 7   Cmd1           462500 non-null  float64\n",
            " 8   Cmd2           462500 non-null  float64\n",
            " 9   Cmd3           462500 non-null  float64\n",
            " 10  Cmd4           462500 non-null  float64\n",
            " 11  Roll           462500 non-null  float64\n",
            " 12  Pitch          462500 non-null  float64\n",
            " 13  Yaw            462500 non-null  float64\n",
            " 14  ThurstRefOut1  462500 non-null  float64\n",
            " 15  ThurstRefOut2  462500 non-null  float64\n",
            " 16  ThurstRefOut3  462500 non-null  float64\n",
            " 17  ThurstRefOut4  462500 non-null  float64\n",
            " 18  Label          462500 non-null  int64  \n",
            "dtypes: float64(18), int64(1)\n",
            "memory usage: 70.6 MB\n"
          ],
          "name": "stdout"
        }
      ]
    },
    {
      "cell_type": "code",
      "metadata": {
        "colab": {
          "base_uri": "https://localhost:8080/"
        },
        "id": "aDnXapJ9rKs6",
        "outputId": "6be512e6-bfc6-4e80-84df-605f81248157"
      },
      "source": [
        "df[\"Label\"].unique()"
      ],
      "execution_count": null,
      "outputs": [
        {
          "output_type": "execute_result",
          "data": {
            "text/plain": [
              "array([0, 1, 2, 3, 4])"
            ]
          },
          "metadata": {},
          "execution_count": 14
        }
      ]
    },
    {
      "cell_type": "code",
      "metadata": {
        "id": "SBKcAWizgySy"
      },
      "source": [
        "new_cols = [\"AccX\",\"AccY\",\"AccZ\",\"GyrX\",\"GyrY\",\"GyrZ\",\"Cmd4\",\"Cmd3\",\"Label\"]"
      ],
      "execution_count": null,
      "outputs": []
    },
    {
      "cell_type": "code",
      "metadata": {
        "id": "gkYzlpvpgvnW"
      },
      "source": [
        "df = df[new_cols]"
      ],
      "execution_count": null,
      "outputs": []
    },
    {
      "cell_type": "code",
      "metadata": {
        "colab": {
          "base_uri": "https://localhost:8080/"
        },
        "id": "egMpq0VChLaP",
        "outputId": "d172edcd-2897-467b-8c59-ab00c9d7adc0"
      },
      "source": [
        "df.shape"
      ],
      "execution_count": null,
      "outputs": [
        {
          "output_type": "execute_result",
          "data": {
            "text/plain": [
              "(462500, 9)"
            ]
          },
          "metadata": {},
          "execution_count": 17
        }
      ]
    },
    {
      "cell_type": "code",
      "metadata": {
        "colab": {
          "base_uri": "https://localhost:8080/"
        },
        "id": "VUqmAc3PXqBL",
        "outputId": "ce6b19fa-d4e1-463c-fffe-cfaf4ce75611"
      },
      "source": [
        "df[\"Label\"].value_counts()"
      ],
      "execution_count": null,
      "outputs": [
        {
          "output_type": "execute_result",
          "data": {
            "text/plain": [
              "0    281579\n",
              "3     46960\n",
              "4     45308\n",
              "2     45007\n",
              "1     43646\n",
              "Name: Label, dtype: int64"
            ]
          },
          "metadata": {},
          "execution_count": 18
        }
      ]
    },
    {
      "cell_type": "code",
      "metadata": {
        "colab": {
          "base_uri": "https://localhost:8080/"
        },
        "id": "wp7m7ypqypXB",
        "outputId": "2232a795-686d-44fa-b660-98d9d4cfd577"
      },
      "source": [
        "df[\"Label\"].unique()"
      ],
      "execution_count": null,
      "outputs": [
        {
          "output_type": "execute_result",
          "data": {
            "text/plain": [
              "array([0, 1, 2, 3, 4])"
            ]
          },
          "metadata": {},
          "execution_count": 19
        }
      ]
    },
    {
      "cell_type": "markdown",
      "metadata": {
        "id": "yPxvHSQccs14"
      },
      "source": [
        "### Data Pre-processing"
      ]
    },
    {
      "cell_type": "code",
      "metadata": {
        "id": "-xnbcj-5n9DZ"
      },
      "source": [
        "y = df[\"Label\"]\n",
        "X = df.drop(\"Label\",axis= 1)"
      ],
      "execution_count": null,
      "outputs": []
    },
    {
      "cell_type": "code",
      "metadata": {
        "id": "7-MZBImicKTl"
      },
      "source": [
        "# # Scaling the Data\n",
        "\n",
        "from sklearn.preprocessing import RobustScaler\n",
        "new_cols = [\"AccX\",\"AccY\",\"AccZ\",\"GyrX\",\"GyrY\",\"GyrZ\",\"Cmd4\",\"Cmd3\"]\n",
        "scale_columns = new_cols\n",
        "\n",
        "scaler = RobustScaler()\n",
        "\n",
        "scaler = scaler.fit(X[scale_columns])\n",
        "\n",
        "X.loc[:, scale_columns] = scaler.transform(X[scale_columns].to_numpy())\n"
      ],
      "execution_count": null,
      "outputs": []
    },
    {
      "cell_type": "code",
      "metadata": {
        "id": "gU6fKMmp1Y1J"
      },
      "source": [
        "n_features = len(new_cols)"
      ],
      "execution_count": null,
      "outputs": []
    },
    {
      "cell_type": "code",
      "metadata": {
        "id": "Grt-YCYmpDpb"
      },
      "source": [
        "# Windowing\n",
        "from scipy import stats\n",
        "\n",
        "def create_dataset(X, y, time_steps=1, step=1):\n",
        "    Xs, ys = [], []\n",
        "    for i in range(0, len(X) - time_steps, step):\n",
        "        v = X.iloc[i:(i + time_steps)].values\n",
        "        labels = y.iloc[i: i + time_steps]\n",
        "        Xs.append(v)        \n",
        "        ys.append(stats.mode(labels)[0][0])\n",
        "    return np.array(Xs), np.array(ys).reshape(-1, 1)\n",
        "\n",
        "TIME_STEPS = 64\n",
        "STEP = 40\n",
        "\n",
        "X_test, y_test = create_dataset(\n",
        "    X[new_cols], \n",
        "    y, \n",
        "    TIME_STEPS, \n",
        "    STEP\n",
        ")"
      ],
      "execution_count": null,
      "outputs": []
    },
    {
      "cell_type": "code",
      "metadata": {
        "colab": {
          "base_uri": "https://localhost:8080/"
        },
        "id": "dW9aMqFhNZwX",
        "outputId": "939464ef-b3e2-4103-c0b5-9e6b8efb2cc0"
      },
      "source": [
        "X_test.shape"
      ],
      "execution_count": null,
      "outputs": [
        {
          "output_type": "execute_result",
          "data": {
            "text/plain": [
              "(11561, 64, 8)"
            ]
          },
          "metadata": {},
          "execution_count": 24
        }
      ]
    },
    {
      "cell_type": "code",
      "metadata": {
        "id": "9NQSozPPM0BM"
      },
      "source": [
        "# Data Reshaping\n",
        "\n",
        "X_test = X_test.reshape(X_test.shape[0],4,int(TIME_STEPS/4),n_features)"
      ],
      "execution_count": null,
      "outputs": []
    },
    {
      "cell_type": "code",
      "metadata": {
        "colab": {
          "base_uri": "https://localhost:8080/"
        },
        "id": "FThHScpGp5q5",
        "outputId": "96cb8dc8-838d-4e68-edee-cda611fb1c7c"
      },
      "source": [
        "print(X_test.shape, y_test.shape)\n"
      ],
      "execution_count": null,
      "outputs": [
        {
          "output_type": "stream",
          "text": [
            "(11561, 4, 16, 8) (11561, 1)\n"
          ],
          "name": "stdout"
        }
      ]
    },
    {
      "cell_type": "code",
      "metadata": {
        "colab": {
          "base_uri": "https://localhost:8080/"
        },
        "id": "pzDwDD3Er-zV",
        "outputId": "5869e7fe-80fa-47fb-b865-a045326d0408"
      },
      "source": [
        "unique, counts = np.unique(y_test, return_counts=True)\n",
        "\n",
        "print(np.asarray((unique, counts)).T)"
      ],
      "execution_count": null,
      "outputs": [
        {
          "output_type": "stream",
          "text": [
            "[[   0 7079]\n",
            " [   1 1080]\n",
            " [   2 1118]\n",
            " [   3 1163]\n",
            " [   4 1121]]\n"
          ],
          "name": "stdout"
        }
      ]
    },
    {
      "cell_type": "code",
      "metadata": {
        "id": "JsEFUUKJp8un"
      },
      "source": [
        "# Label Encoding\n",
        "\n",
        "from sklearn.preprocessing import OneHotEncoder\n",
        "\n",
        "enc = OneHotEncoder(handle_unknown='ignore', sparse=False)\n",
        "\n",
        "enc = enc.fit(y_test)\n",
        "\n",
        "y_test = enc.transform(y_test)\n",
        "# y_test = enc.transform(y_test)"
      ],
      "execution_count": null,
      "outputs": []
    },
    {
      "cell_type": "code",
      "metadata": {
        "colab": {
          "base_uri": "https://localhost:8080/"
        },
        "id": "sIIpTsZHqMS4",
        "outputId": "bfc04ece-612a-420d-d8d4-dc787047f7d8"
      },
      "source": [
        "print(X_test.shape, y_test.shape)\n"
      ],
      "execution_count": null,
      "outputs": [
        {
          "output_type": "stream",
          "text": [
            "(11561, 4, 16, 8) (11561, 5)\n"
          ],
          "name": "stdout"
        }
      ]
    },
    {
      "cell_type": "markdown",
      "metadata": {
        "id": "GB2_52XeUXyL"
      },
      "source": [
        "### Load the Model (CNN-LSTM SHOWN)"
      ]
    },
    {
      "cell_type": "code",
      "metadata": {
        "colab": {
          "base_uri": "https://localhost:8080/"
        },
        "id": "WhzifFhaD5lA",
        "outputId": "4713e24c-8440-4cb1-8a3c-3b0dc8e0438a"
      },
      "source": [
        "model = load_model('Gyr_Models/Gyr_CNN_LSTM_5_Class_64_28-07-2021.h5')\n",
        "model.summary()"
      ],
      "execution_count": null,
      "outputs": [
        {
          "output_type": "stream",
          "text": [
            "Model: \"sequential_2\"\n",
            "_________________________________________________________________\n",
            "Layer (type)                 Output Shape              Param #   \n",
            "=================================================================\n",
            "time_distributed_12 (TimeDis (None, 4, 13, 32)         1056      \n",
            "_________________________________________________________________\n",
            "time_distributed_13 (TimeDis (None, 4, 10, 32)         4128      \n",
            "_________________________________________________________________\n",
            "time_distributed_14 (TimeDis (None, 4, 7, 32)          4128      \n",
            "_________________________________________________________________\n",
            "time_distributed_15 (TimeDis (None, 4, 7, 32)          0         \n",
            "_________________________________________________________________\n",
            "time_distributed_16 (TimeDis (None, 4, 3, 32)          0         \n",
            "_________________________________________________________________\n",
            "time_distributed_17 (TimeDis (None, 4, 96)             0         \n",
            "_________________________________________________________________\n",
            "lstm_2 (LSTM)                (None, 150)               148200    \n",
            "_________________________________________________________________\n",
            "dropout_5 (Dropout)          (None, 150)               0         \n",
            "_________________________________________________________________\n",
            "dense_4 (Dense)              (None, 50)                7550      \n",
            "_________________________________________________________________\n",
            "dense_5 (Dense)              (None, 5)                 255       \n",
            "=================================================================\n",
            "Total params: 165,317\n",
            "Trainable params: 165,317\n",
            "Non-trainable params: 0\n",
            "_________________________________________________________________\n"
          ],
          "name": "stdout"
        }
      ]
    },
    {
      "cell_type": "markdown",
      "metadata": {
        "id": "seWax13n0nYJ"
      },
      "source": [
        "#### Evaluate Test performance"
      ]
    },
    {
      "cell_type": "code",
      "metadata": {
        "id": "DyM1a0PcEBg-",
        "colab": {
          "base_uri": "https://localhost:8080/"
        },
        "outputId": "6bc80f08-100e-4af7-ed1a-fcdfb40a193a"
      },
      "source": [
        "print(\"Evaluate on test data\")\n",
        "results = model.evaluate(X_test, y_test)\n",
        "print(\"Metrics are: \", results)"
      ],
      "execution_count": null,
      "outputs": [
        {
          "output_type": "stream",
          "text": [
            "Evaluate on test data\n",
            "362/362 [==============================] - 15s 2ms/step - loss: 0.6730 - accuracy: 0.8955\n",
            "Metrics are:  [0.6729846000671387, 0.8955107927322388]\n"
          ],
          "name": "stdout"
        }
      ]
    },
    {
      "cell_type": "code",
      "metadata": {
        "id": "ILR0SaM4EDrA"
      },
      "source": [
        "y_pred = model.predict(X_test)\n"
      ],
      "execution_count": null,
      "outputs": []
    },
    {
      "cell_type": "code",
      "metadata": {
        "id": "McJ_nh-spIrw",
        "colab": {
          "base_uri": "https://localhost:8080/"
        },
        "outputId": "185f4e15-7f28-4471-96b0-3414eff8f111"
      },
      "source": [
        "y_pred"
      ],
      "execution_count": null,
      "outputs": [
        {
          "output_type": "execute_result",
          "data": {
            "text/plain": [
              "array([[9.9952888e-01, 6.3159299e-05, 4.0711969e-04, 8.7186510e-07,\n",
              "        4.1285272e-08],\n",
              "       [9.9889320e-01, 1.7423263e-06, 1.1031687e-03, 1.8752462e-06,\n",
              "        3.3641302e-12],\n",
              "       [1.3900140e-05, 9.9998593e-01, 1.1452222e-07, 1.7974706e-09,\n",
              "        1.1258403e-11],\n",
              "       ...,\n",
              "       [9.9918932e-01, 5.0137085e-05, 7.6040666e-04, 1.6513410e-07,\n",
              "        2.9018746e-11],\n",
              "       [9.9918717e-01, 5.1385694e-05, 7.6133676e-04, 1.6746874e-07,\n",
              "        2.8126302e-11],\n",
              "       [9.9918205e-01, 5.0364306e-05, 7.6744822e-04, 1.6661753e-07,\n",
              "        2.9159852e-11]], dtype=float32)"
            ]
          },
          "metadata": {},
          "execution_count": 33
        }
      ]
    },
    {
      "cell_type": "code",
      "metadata": {
        "id": "gBJpHT5XGY5L"
      },
      "source": [
        "y_test = enc.inverse_transform(y_test)\n",
        "y_pred = enc.inverse_transform(y_pred)\n"
      ],
      "execution_count": null,
      "outputs": []
    },
    {
      "cell_type": "code",
      "metadata": {
        "id": "t3kGW_8Qp65R",
        "colab": {
          "base_uri": "https://localhost:8080/"
        },
        "outputId": "b9c8e3d3-a076-4db1-9827-24ac79455cd6"
      },
      "source": [
        "y_pred"
      ],
      "execution_count": null,
      "outputs": [
        {
          "output_type": "execute_result",
          "data": {
            "text/plain": [
              "array([[0],\n",
              "       [0],\n",
              "       [1],\n",
              "       ...,\n",
              "       [0],\n",
              "       [0],\n",
              "       [0]])"
            ]
          },
          "metadata": {},
          "execution_count": 35
        }
      ]
    },
    {
      "cell_type": "code",
      "metadata": {
        "id": "2N0ZIoGFHKze",
        "colab": {
          "base_uri": "https://localhost:8080/"
        },
        "outputId": "8a92e007-2198-4c68-ebec-ebde6763683a"
      },
      "source": [
        "print(classification_report(y_test, y_pred))"
      ],
      "execution_count": null,
      "outputs": [
        {
          "output_type": "stream",
          "text": [
            "              precision    recall  f1-score   support\n",
            "\n",
            "           0       0.95      0.94      0.94      7079\n",
            "           1       0.78      0.73      0.76      1080\n",
            "           2       0.61      0.86      0.71      1118\n",
            "           3       1.00      1.00      1.00      1163\n",
            "           4       1.00      0.69      0.82      1121\n",
            "\n",
            "    accuracy                           0.90     11561\n",
            "   macro avg       0.87      0.84      0.85     11561\n",
            "weighted avg       0.91      0.90      0.90     11561\n",
            "\n"
          ],
          "name": "stdout"
        }
      ]
    },
    {
      "cell_type": "code",
      "metadata": {
        "id": "YRwHWiHbEn7-",
        "colab": {
          "base_uri": "https://localhost:8080/"
        },
        "outputId": "80e59234-0185-422e-c7c4-7b910d70f564"
      },
      "source": [
        "print(confusion_matrix(y_test, y_pred))"
      ],
      "execution_count": null,
      "outputs": [
        {
          "output_type": "stream",
          "text": [
            "[[6668   85  324    2    0]\n",
            " [ 217  792   69    1    1]\n",
            " [ 144   15  958    0    1]\n",
            " [   3    0    0 1160    0]\n",
            " [   2  120  224    0  775]]\n"
          ],
          "name": "stdout"
        }
      ]
    }
  ]
}