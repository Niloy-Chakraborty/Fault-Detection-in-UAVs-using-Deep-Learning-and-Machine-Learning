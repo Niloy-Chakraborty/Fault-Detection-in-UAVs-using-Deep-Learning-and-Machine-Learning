{
  "nbformat": 4,
  "nbformat_minor": 0,
  "metadata": {
    "accelerator": "GPU",
    "colab": {
      "name": "Acc_CNN_LSTM_5_Class_Seq2Label_V1.ipynb",
      "provenance": [],
      "collapsed_sections": [],
      "machine_shape": "hm"
    },
    "kernelspec": {
      "display_name": "Python 3",
      "language": "python",
      "name": "python3"
    },
    "language_info": {
      "codemirror_mode": {
        "name": "ipython",
        "version": 3
      },
      "file_extension": ".py",
      "mimetype": "text/x-python",
      "name": "python",
      "nbconvert_exporter": "python",
      "pygments_lexer": "ipython3",
      "version": "3.7.6"
    }
  },
  "cells": [
    {
      "cell_type": "markdown",
      "metadata": {
        "id": "C1hmjJnImbqS"
      },
      "source": [
        "### Training Script for Accelerometer Dataset using Hybrid CNN-LSTM Architecture \n",
        "\n",
        "@ Author : Niloy Chakraborty\n",
        "\n",
        "@ Author Contact: chakrabortyniloy2018@gmail.com\n"
      ]
    },
    {
      "cell_type": "code",
      "metadata": {
        "colab": {
          "base_uri": "https://localhost:8080/"
        },
        "id": "EGsE8YI5-usc",
        "outputId": "777425a0-b75e-4c95-f4d7-2a0e547cf51a"
      },
      "source": [
        "# Connect to Google Colab.  If using Jupyter, then comment this part\n",
        "from google.colab import drive\n",
        "drive.mount('/gdrive')\n",
        "%cd /gdrive/MyDrive/THESIS/"
      ],
      "execution_count": null,
      "outputs": [
        {
          "output_type": "stream",
          "text": [
            "Drive already mounted at /gdrive; to attempt to forcibly remount, call drive.mount(\"/gdrive\", force_remount=True).\n",
            "/gdrive/MyDrive/THESIS\n"
          ],
          "name": "stdout"
        }
      ]
    },
    {
      "cell_type": "markdown",
      "metadata": {
        "id": "Qzb1cp78-lji"
      },
      "source": [
        "#### Load the libraries"
      ]
    },
    {
      "cell_type": "code",
      "metadata": {
        "id": "wdHJiHE7-ljl"
      },
      "source": [
        "\n",
        "import h5py\n",
        "import numpy as np\n",
        "import pandas as pd\n",
        "import matplotlib.pyplot as plt\n",
        "from os import listdir\n",
        "from os.path import isfile, join\n",
        "# import tensorflow_addons as tfa\n"
      ],
      "execution_count": null,
      "outputs": []
    },
    {
      "cell_type": "code",
      "metadata": {
        "id": "9Jmy2PiCc7jX"
      },
      "source": [
        "import os\n",
        "import yaml\n",
        "\n",
        "import tensorflow as tf\n",
        "\n",
        "from tensorflow.keras.models import Model,Sequential\n",
        "from tensorflow.keras.layers import LSTM, Dropout,Dense,RepeatVector,TimeDistributed,Input,BatchNormalization\n",
        "from tensorflow.keras.layers import Conv1D\n",
        "from tensorflow.keras.layers import MaxPooling1D\n",
        "from tensorflow.keras.layers import Flatten\n",
        "\n",
        "from tensorflow.keras.callbacks import TensorBoard\n",
        "from tensorflow.keras.callbacks import ModelCheckpoint\n",
        "from tensorflow.keras.callbacks import LearningRateScheduler\n",
        "from tensorflow.keras.optimizers import Adam as adam\n",
        "\n",
        "from sklearn.model_selection import train_test_split\n",
        "from sklearn.metrics import classification_report\n",
        "\n",
        "from tensorflow.keras.models import load_model"
      ],
      "execution_count": null,
      "outputs": []
    },
    {
      "cell_type": "code",
      "metadata": {
        "id": "0Vzjw_qNPF2r"
      },
      "source": [
        "Category = \"Acc_CNN_LSTM_5_Class\""
      ],
      "execution_count": null,
      "outputs": []
    },
    {
      "cell_type": "code",
      "metadata": {
        "id": "TzetVnbSiKjb"
      },
      "source": [
        "filepath = 'Acc_25_secs_final_combined_faulty_data_train.csv'"
      ],
      "execution_count": null,
      "outputs": []
    },
    {
      "cell_type": "code",
      "metadata": {
        "id": "julalftVgSAm"
      },
      "source": [
        "header = ['AccX','AccY','AccZ','GyrX','GyrY','GyrZ','Altitude','Cmd1','Cmd2','Cmd3','Cmd4','Roll','Pitch','Yaw','ThurstRefOut1','ThurstRefOut2','ThurstRefOut3','ThurstRefOut4','Label']"
      ],
      "execution_count": null,
      "outputs": []
    },
    {
      "cell_type": "markdown",
      "metadata": {
        "id": "8Us4yMyWknmA"
      },
      "source": [
        "#### Read Training Data and check some details\n"
      ]
    },
    {
      "cell_type": "code",
      "metadata": {
        "colab": {
          "base_uri": "https://localhost:8080/",
          "height": 348
        },
        "id": "3tDfdbhDgCgl",
        "outputId": "d92d558d-47dd-47c2-ba21-54b93bd69838"
      },
      "source": [
        "# Read Training Data\n",
        "df = pd.read_csv(filepath, header = None)\n",
        "df = df.rename(columns=df.iloc[0]).drop(df.index[0])\n",
        "df = df.iloc[:, 1:]\n",
        "df[\"Label\"] = pd.to_numeric(df[\"Label\"])\n",
        "df.head()"
      ],
      "execution_count": null,
      "outputs": [
        {
          "output_type": "stream",
          "text": [
            "/usr/local/lib/python3.7/dist-packages/IPython/core/interactiveshell.py:2718: DtypeWarning: Columns (1,2,3,4,5,6,7,8,9,10,11,12,13,14,15,16,17,18,19) have mixed types.Specify dtype option on import or set low_memory=False.\n",
            "  interactivity=interactivity, compiler=compiler, result=result)\n"
          ],
          "name": "stderr"
        },
        {
          "output_type": "execute_result",
          "data": {
            "text/html": [
              "<div>\n",
              "<style scoped>\n",
              "    .dataframe tbody tr th:only-of-type {\n",
              "        vertical-align: middle;\n",
              "    }\n",
              "\n",
              "    .dataframe tbody tr th {\n",
              "        vertical-align: top;\n",
              "    }\n",
              "\n",
              "    .dataframe thead th {\n",
              "        text-align: right;\n",
              "    }\n",
              "</style>\n",
              "<table border=\"1\" class=\"dataframe\">\n",
              "  <thead>\n",
              "    <tr style=\"text-align: right;\">\n",
              "      <th></th>\n",
              "      <th>AccX</th>\n",
              "      <th>AccY</th>\n",
              "      <th>AccZ</th>\n",
              "      <th>GyrX</th>\n",
              "      <th>GyrY</th>\n",
              "      <th>GyrZ</th>\n",
              "      <th>Altitude</th>\n",
              "      <th>Cmd1</th>\n",
              "      <th>Cmd2</th>\n",
              "      <th>Cmd3</th>\n",
              "      <th>Cmd4</th>\n",
              "      <th>Roll</th>\n",
              "      <th>Pitch</th>\n",
              "      <th>Yaw</th>\n",
              "      <th>ThurstRefOut1</th>\n",
              "      <th>ThurstRefOut2</th>\n",
              "      <th>ThurstRefOut3</th>\n",
              "      <th>ThurstRefOut4</th>\n",
              "      <th>Label</th>\n",
              "    </tr>\n",
              "  </thead>\n",
              "  <tbody>\n",
              "    <tr>\n",
              "      <th>1</th>\n",
              "      <td>0.03380774</td>\n",
              "      <td>-0.11192460000000001</td>\n",
              "      <td>-9.492839</td>\n",
              "      <td>-0.0098925</td>\n",
              "      <td>-0.007933972</td>\n",
              "      <td>0.00108462</td>\n",
              "      <td>0.44</td>\n",
              "      <td>342.9332</td>\n",
              "      <td>-342.9577</td>\n",
              "      <td>342.8969</td>\n",
              "      <td>-342.9631</td>\n",
              "      <td>-1.965233e-06</td>\n",
              "      <td>-2.155978e-06</td>\n",
              "      <td>-5.859605e-07</td>\n",
              "      <td>-0.22403289999999998</td>\n",
              "      <td>-0.2240489</td>\n",
              "      <td>-0.22400920000000002</td>\n",
              "      <td>-0.22405239999999998</td>\n",
              "      <td>0</td>\n",
              "    </tr>\n",
              "    <tr>\n",
              "      <th>2</th>\n",
              "      <td>-0.116923</td>\n",
              "      <td>-0.2512355</td>\n",
              "      <td>-14.08014</td>\n",
              "      <td>-0.01084344</td>\n",
              "      <td>-0.009036063</td>\n",
              "      <td>-2.253169e-05</td>\n",
              "      <td>0.44</td>\n",
              "      <td>343.0175</td>\n",
              "      <td>-342.912</td>\n",
              "      <td>342.8928</td>\n",
              "      <td>-342.9287</td>\n",
              "      <td>-4.02452e-06</td>\n",
              "      <td>-4.6669999999999995e-06</td>\n",
              "      <td>-7.215308e-08</td>\n",
              "      <td>-0.224088</td>\n",
              "      <td>-0.224019</td>\n",
              "      <td>-0.2240065</td>\n",
              "      <td>-0.22403</td>\n",
              "      <td>0</td>\n",
              "    </tr>\n",
              "    <tr>\n",
              "      <th>3</th>\n",
              "      <td>0.22785189999999997</td>\n",
              "      <td>0.06732436</td>\n",
              "      <td>-13.62979</td>\n",
              "      <td>-0.008328836</td>\n",
              "      <td>-0.006301623</td>\n",
              "      <td>0.0025199379999999998</td>\n",
              "      <td>0.44</td>\n",
              "      <td>342.9608</td>\n",
              "      <td>-342.8717</td>\n",
              "      <td>343.0659</td>\n",
              "      <td>-342.8525</td>\n",
              "      <td>6.818334e-06</td>\n",
              "      <td>7.100436999999999e-06</td>\n",
              "      <td>5.960543e-07</td>\n",
              "      <td>-0.2240509</td>\n",
              "      <td>-0.2239928</td>\n",
              "      <td>-0.2241196</td>\n",
              "      <td>-0.22398020000000002</td>\n",
              "      <td>0</td>\n",
              "    </tr>\n",
              "    <tr>\n",
              "      <th>4</th>\n",
              "      <td>-0.01241245</td>\n",
              "      <td>-0.1545401</td>\n",
              "      <td>-13.94356</td>\n",
              "      <td>-0.01056849</td>\n",
              "      <td>-0.008493732</td>\n",
              "      <td>0.0007364108</td>\n",
              "      <td>0.44</td>\n",
              "      <td>342.8445</td>\n",
              "      <td>-343.066</td>\n",
              "      <td>342.7531</td>\n",
              "      <td>-343.0873</td>\n",
              "      <td>-3.975494e-06</td>\n",
              "      <td>-3.691068e-06</td>\n",
              "      <td>1.940148e-06</td>\n",
              "      <td>-0.223975</td>\n",
              "      <td>-0.2241197</td>\n",
              "      <td>-0.22391529999999998</td>\n",
              "      <td>-0.22413360000000002</td>\n",
              "      <td>0</td>\n",
              "    </tr>\n",
              "    <tr>\n",
              "      <th>5</th>\n",
              "      <td>0.21535289999999999</td>\n",
              "      <td>0.05578018</td>\n",
              "      <td>-13.64611</td>\n",
              "      <td>-0.008419157</td>\n",
              "      <td>-0.006429253</td>\n",
              "      <td>0.00240215</td>\n",
              "      <td>0.44</td>\n",
              "      <td>343.4182</td>\n",
              "      <td>-342.416</td>\n",
              "      <td>343.5187</td>\n",
              "      <td>-342.3979</td>\n",
              "      <td>1.696333e-05</td>\n",
              "      <td>1.88649e-05</td>\n",
              "      <td>1.3310810000000002e-05</td>\n",
              "      <td>-0.22434980000000002</td>\n",
              "      <td>-0.2236951</td>\n",
              "      <td>-0.2244154</td>\n",
              "      <td>-0.2236833</td>\n",
              "      <td>0</td>\n",
              "    </tr>\n",
              "  </tbody>\n",
              "</table>\n",
              "</div>"
            ],
            "text/plain": [
              "                  AccX                  AccY  ...         ThurstRefOut4 Label\n",
              "1           0.03380774  -0.11192460000000001  ...  -0.22405239999999998     0\n",
              "2            -0.116923            -0.2512355  ...              -0.22403     0\n",
              "3  0.22785189999999997            0.06732436  ...  -0.22398020000000002     0\n",
              "4          -0.01241245            -0.1545401  ...  -0.22413360000000002     0\n",
              "5  0.21535289999999999            0.05578018  ...            -0.2236833     0\n",
              "\n",
              "[5 rows x 19 columns]"
            ]
          },
          "metadata": {
            "tags": []
          },
          "execution_count": 170
        }
      ]
    },
    {
      "cell_type": "code",
      "metadata": {
        "colab": {
          "base_uri": "https://localhost:8080/"
        },
        "id": "lkQnPhOnvdOP",
        "outputId": "955f3223-21dd-4f2a-d65f-2dfd25a92967"
      },
      "source": [
        "df.columns"
      ],
      "execution_count": null,
      "outputs": [
        {
          "output_type": "execute_result",
          "data": {
            "text/plain": [
              "Index(['AccX', 'AccY', 'AccZ', 'GyrX', 'GyrY', 'GyrZ', 'Altitude', 'Cmd1',\n",
              "       'Cmd2', 'Cmd3', 'Cmd4', 'Roll', 'Pitch', 'Yaw', 'ThurstRefOut1',\n",
              "       'ThurstRefOut2', 'ThurstRefOut3', 'ThurstRefOut4', 'Label'],\n",
              "      dtype='object')"
            ]
          },
          "metadata": {
            "tags": []
          },
          "execution_count": 171
        }
      ]
    },
    {
      "cell_type": "code",
      "metadata": {
        "colab": {
          "base_uri": "https://localhost:8080/"
        },
        "id": "UwNzFwPqlV9J",
        "outputId": "deddbe44-b466-4f29-e032-72f7e9e9c857"
      },
      "source": [
        "df.shape"
      ],
      "execution_count": null,
      "outputs": [
        {
          "output_type": "execute_result",
          "data": {
            "text/plain": [
              "(3177500, 19)"
            ]
          },
          "metadata": {
            "tags": []
          },
          "execution_count": 172
        }
      ]
    },
    {
      "cell_type": "code",
      "metadata": {
        "colab": {
          "base_uri": "https://localhost:8080/"
        },
        "id": "PObIjejqdlPq",
        "outputId": "b4b698de-3219-4ba9-8711-3754fcf8d8a4"
      },
      "source": [
        "df.info()"
      ],
      "execution_count": null,
      "outputs": [
        {
          "output_type": "stream",
          "text": [
            "<class 'pandas.core.frame.DataFrame'>\n",
            "Int64Index: 3177500 entries, 1 to 3177500\n",
            "Data columns (total 19 columns):\n",
            " #   Column         Dtype \n",
            "---  ------         ----- \n",
            " 0   AccX           object\n",
            " 1   AccY           object\n",
            " 2   AccZ           object\n",
            " 3   GyrX           object\n",
            " 4   GyrY           object\n",
            " 5   GyrZ           object\n",
            " 6   Altitude       object\n",
            " 7   Cmd1           object\n",
            " 8   Cmd2           object\n",
            " 9   Cmd3           object\n",
            " 10  Cmd4           object\n",
            " 11  Roll           object\n",
            " 12  Pitch          object\n",
            " 13  Yaw            object\n",
            " 14  ThurstRefOut1  object\n",
            " 15  ThurstRefOut2  object\n",
            " 16  ThurstRefOut3  object\n",
            " 17  ThurstRefOut4  object\n",
            " 18  Label          int64 \n",
            "dtypes: int64(1), object(18)\n",
            "memory usage: 484.8+ MB\n"
          ],
          "name": "stdout"
        }
      ]
    },
    {
      "cell_type": "code",
      "metadata": {
        "colab": {
          "base_uri": "https://localhost:8080/"
        },
        "id": "AJ5hCnQScwzT",
        "outputId": "d9e48e1b-f719-4e81-d6a4-64e2f756cd07"
      },
      "source": [
        "# Check unique labels\n",
        "df[\"Label\"].unique()"
      ],
      "execution_count": null,
      "outputs": [
        {
          "output_type": "execute_result",
          "data": {
            "text/plain": [
              "array([0, 1, 2, 3, 4])"
            ]
          },
          "metadata": {
            "tags": []
          },
          "execution_count": 174
        }
      ]
    },
    {
      "cell_type": "code",
      "metadata": {
        "id": "_KQ3fpfMdqtZ"
      },
      "source": [
        "# Convert data to numeric type\n",
        "df = df.apply(pd.to_numeric)\n"
      ],
      "execution_count": null,
      "outputs": []
    },
    {
      "cell_type": "code",
      "metadata": {
        "colab": {
          "base_uri": "https://localhost:8080/"
        },
        "id": "JDjFCktue1rR",
        "outputId": "ebdaef98-f1d3-4ea7-9f9f-124d3b7fd846"
      },
      "source": [
        "df.info()"
      ],
      "execution_count": null,
      "outputs": [
        {
          "output_type": "stream",
          "text": [
            "<class 'pandas.core.frame.DataFrame'>\n",
            "Int64Index: 3177500 entries, 1 to 3177500\n",
            "Data columns (total 19 columns):\n",
            " #   Column         Dtype  \n",
            "---  ------         -----  \n",
            " 0   AccX           float64\n",
            " 1   AccY           float64\n",
            " 2   AccZ           float64\n",
            " 3   GyrX           float64\n",
            " 4   GyrY           float64\n",
            " 5   GyrZ           float64\n",
            " 6   Altitude       float64\n",
            " 7   Cmd1           float64\n",
            " 8   Cmd2           float64\n",
            " 9   Cmd3           float64\n",
            " 10  Cmd4           float64\n",
            " 11  Roll           float64\n",
            " 12  Pitch          float64\n",
            " 13  Yaw            float64\n",
            " 14  ThurstRefOut1  float64\n",
            " 15  ThurstRefOut2  float64\n",
            " 16  ThurstRefOut3  float64\n",
            " 17  ThurstRefOut4  float64\n",
            " 18  Label          int64  \n",
            "dtypes: float64(18), int64(1)\n",
            "memory usage: 484.8 MB\n"
          ],
          "name": "stdout"
        }
      ]
    },
    {
      "cell_type": "code",
      "metadata": {
        "colab": {
          "base_uri": "https://localhost:8080/"
        },
        "id": "aDnXapJ9rKs6",
        "outputId": "b5772835-7530-41cb-dc94-c31909250694"
      },
      "source": [
        "df[\"Label\"].unique()"
      ],
      "execution_count": null,
      "outputs": [
        {
          "output_type": "execute_result",
          "data": {
            "text/plain": [
              "array([0, 1, 2, 3, 4])"
            ]
          },
          "metadata": {
            "tags": []
          },
          "execution_count": 177
        }
      ]
    },
    {
      "cell_type": "markdown",
      "metadata": {
        "id": "I83twkAolmsS"
      },
      "source": [
        "### Data Pre-processing"
      ]
    },
    {
      "cell_type": "markdown",
      "metadata": {
        "id": "YReBXESqk5gS"
      },
      "source": [
        "#### Feature Selection"
      ]
    },
    {
      "cell_type": "code",
      "metadata": {
        "colab": {
          "base_uri": "https://localhost:8080/",
          "height": 332
        },
        "id": "ilA4S4u1gDWn",
        "outputId": "0b90e30b-0c37-49a4-b03e-bb36cb62b7bf"
      },
      "source": [
        "import seaborn as sns\n",
        "\n",
        "sns.heatmap(df.corr())\n",
        "plt.show()"
      ],
      "execution_count": null,
      "outputs": [
        {
          "output_type": "display_data",
          "data": {
            "image/png": "[encoded data removed]",
            "text/plain": [
              "<Figure size 432x288 with 2 Axes>"
            ]
          },
          "metadata": {
            "tags": [],
            "needs_background": "light"
          }
        }
      ]
    },
    {
      "cell_type": "code",
      "metadata": {
        "id": "SBKcAWizgySy"
      },
      "source": [
        "# Select only the features with more correlations.\n",
        "new_cols = [\"AccX\",\"AccY\",\"AccZ\",\"GyrX\",\"GyrY\",\"GyrZ\",\"Cmd1\",\"Cmd3\",\"Roll\",\"Pitch\",\"Yaw\",\"Label\"]"
      ],
      "execution_count": null,
      "outputs": []
    },
    {
      "cell_type": "code",
      "metadata": {
        "id": "gkYzlpvpgvnW"
      },
      "source": [
        "df = df[new_cols]"
      ],
      "execution_count": null,
      "outputs": []
    },
    {
      "cell_type": "code",
      "metadata": {
        "colab": {
          "base_uri": "https://localhost:8080/"
        },
        "id": "egMpq0VChLaP",
        "outputId": "4fe3ab81-7781-480b-8230-b94a7b2f1fea"
      },
      "source": [
        "df.shape"
      ],
      "execution_count": null,
      "outputs": [
        {
          "output_type": "execute_result",
          "data": {
            "text/plain": [
              "(3177500, 12)"
            ]
          },
          "metadata": {
            "tags": []
          },
          "execution_count": 181
        }
      ]
    },
    {
      "cell_type": "code",
      "metadata": {
        "colab": {
          "base_uri": "https://localhost:8080/"
        },
        "id": "VUqmAc3PXqBL",
        "outputId": "1d4a5984-ec67-4ccb-a35e-8941edff9f59"
      },
      "source": [
        "df[\"Label\"].value_counts()"
      ],
      "execution_count": null,
      "outputs": [
        {
          "output_type": "execute_result",
          "data": {
            "text/plain": [
              "0    1936680\n",
              "1     313100\n",
              "2     310928\n",
              "3     309983\n",
              "4     306809\n",
              "Name: Label, dtype: int64"
            ]
          },
          "metadata": {
            "tags": []
          },
          "execution_count": 182
        }
      ]
    },
    {
      "cell_type": "code",
      "metadata": {
        "colab": {
          "base_uri": "https://localhost:8080/"
        },
        "id": "wp7m7ypqypXB",
        "outputId": "62c952ff-35af-45ea-9a48-95b24001c40d"
      },
      "source": [
        "df[\"Label\"].unique()"
      ],
      "execution_count": null,
      "outputs": [
        {
          "output_type": "execute_result",
          "data": {
            "text/plain": [
              "array([0, 1, 2, 3, 4])"
            ]
          },
          "metadata": {
            "tags": []
          },
          "execution_count": 183
        }
      ]
    },
    {
      "cell_type": "code",
      "metadata": {
        "id": "-xnbcj-5n9DZ"
      },
      "source": [
        "y = df[\"Label\"]\n",
        "X = df.drop(\"Label\",axis= 1)"
      ],
      "execution_count": null,
      "outputs": []
    },
    {
      "cell_type": "code",
      "metadata": {
        "id": "7-MZBImicKTl"
      },
      "source": [
        "# # Scaling the Data\n",
        "\n",
        "from sklearn.preprocessing import RobustScaler\n",
        "new_cols = [\"AccX\",\"AccY\",\"AccZ\",\"GyrX\",\"GyrY\",\"GyrZ\",\"Cmd1\",\"Cmd3\",\"Roll\",\"Pitch\",\"Yaw\"]\n",
        "scale_columns = new_cols\n",
        "\n",
        "scaler = RobustScaler()\n",
        "\n",
        "scaler = scaler.fit(X[scale_columns])\n",
        "\n",
        "X.loc[:, scale_columns] = scaler.transform(X[scale_columns].to_numpy())\n"
      ],
      "execution_count": null,
      "outputs": []
    },
    {
      "cell_type": "code",
      "metadata": {
        "id": "-XbjS5BrzRz8"
      },
      "source": [
        "n_features = len(new_cols)"
      ],
      "execution_count": null,
      "outputs": []
    },
    {
      "cell_type": "markdown",
      "metadata": {
        "id": "zJxAPL6IlMxn"
      },
      "source": [
        "#### Create Sliding Windows "
      ]
    },
    {
      "cell_type": "code",
      "metadata": {
        "id": "Grt-YCYmpDpb",
        "colab": {
          "base_uri": "https://localhost:8080/"
        },
        "outputId": "68f121a7-9528-4c2d-b8d5-2704cc7c3006"
      },
      "source": [
        "from scipy import stats\n",
        "\n",
        "def create_dataset(X, y, time_steps=1, step=1):\n",
        "    Xs, ys = [], []\n",
        "    for i in range(0, len(X) - time_steps, step):\n",
        "        v = X.iloc[i:(i + time_steps)].values\n",
        "        # print(v.shape)\n",
        "        labels = y.iloc[i: i + time_steps]\n",
        "        Xs.append(v)        \n",
        "        ys.append(stats.mode(labels)[0][0])\n",
        "    return np.array(Xs), np.array(ys).reshape(-1, 1)\n",
        "\n",
        "TIME_STEPS = 64\n",
        "STEP = 40\n",
        "\n",
        "print(X.shape)\n",
        "X_train, y_train = create_dataset(\n",
        "    X[new_cols], \n",
        "    y, \n",
        "    TIME_STEPS, \n",
        "    STEP\n",
        ")\n",
        "print(X_train.shape)\n"
      ],
      "execution_count": null,
      "outputs": [
        {
          "output_type": "stream",
          "text": [
            "(3177500, 11)\n",
            "(79436, 64, 11)\n"
          ],
          "name": "stdout"
        }
      ]
    },
    {
      "cell_type": "code",
      "metadata": {
        "id": "hma4603MXZJ0"
      },
      "source": [
        "# Reshape data for feeding into the CNN-LSTM Model\n",
        "X_train = X_train.reshape(79436,4,int(TIME_STEPS/4),n_features)"
      ],
      "execution_count": null,
      "outputs": []
    },
    {
      "cell_type": "code",
      "metadata": {
        "colab": {
          "base_uri": "https://localhost:8080/"
        },
        "id": "FThHScpGp5q5",
        "outputId": "87d433c8-254f-411a-b026-acb496a5f8df"
      },
      "source": [
        "print(X_train.shape, y_train.shape)\n"
      ],
      "execution_count": null,
      "outputs": [
        {
          "output_type": "stream",
          "text": [
            "(79436, 4, 16, 11) (79436, 1)\n"
          ],
          "name": "stdout"
        }
      ]
    },
    {
      "cell_type": "code",
      "metadata": {
        "colab": {
          "base_uri": "https://localhost:8080/"
        },
        "id": "YSSfyXXEqiad",
        "outputId": "e099e393-75b2-4fb9-ef54-4561ff361e15"
      },
      "source": [
        "type(y_train)"
      ],
      "execution_count": null,
      "outputs": [
        {
          "output_type": "execute_result",
          "data": {
            "text/plain": [
              "numpy.ndarray"
            ]
          },
          "metadata": {
            "tags": []
          },
          "execution_count": 191
        }
      ]
    },
    {
      "cell_type": "code",
      "metadata": {
        "colab": {
          "base_uri": "https://localhost:8080/"
        },
        "id": "pzDwDD3Er-zV",
        "outputId": "5c173a3c-3b51-463b-aaac-3e8b11198567"
      },
      "source": [
        "unique, counts = np.unique(y_train, return_counts=True)\n",
        "\n",
        "print(np.asarray((unique, counts)).T)"
      ],
      "execution_count": null,
      "outputs": [
        {
          "output_type": "stream",
          "text": [
            "[[    0 48696]\n",
            " [    1  7742]\n",
            " [    2  7709]\n",
            " [    3  7678]\n",
            " [    4  7611]]\n"
          ],
          "name": "stdout"
        }
      ]
    },
    {
      "cell_type": "markdown",
      "metadata": {
        "id": "kKzFIgI6lZ4G"
      },
      "source": [
        "#### Encode the Labels"
      ]
    },
    {
      "cell_type": "code",
      "metadata": {
        "id": "JsEFUUKJp8un"
      },
      "source": [
        "from sklearn.preprocessing import OneHotEncoder\n",
        "\n",
        "enc = OneHotEncoder(handle_unknown='ignore', sparse=False)\n",
        "\n",
        "enc = enc.fit(y_train)\n",
        "\n",
        "y_train = enc.transform(y_train)\n",
        "# y_test = enc.transform(y_test)"
      ],
      "execution_count": null,
      "outputs": []
    },
    {
      "cell_type": "code",
      "metadata": {
        "colab": {
          "base_uri": "https://localhost:8080/"
        },
        "id": "sIIpTsZHqMS4",
        "outputId": "17fcfce0-d126-404e-caaa-15757b520725"
      },
      "source": [
        "print(X_train.shape, y_train.shape)\n"
      ],
      "execution_count": null,
      "outputs": [
        {
          "output_type": "stream",
          "text": [
            "(79436, 4, 16, 11) (79436, 5)\n"
          ],
          "name": "stdout"
        }
      ]
    },
    {
      "cell_type": "code",
      "metadata": {
        "id": "vAdJ3QSuPeYV"
      },
      "source": [
        ""
      ],
      "execution_count": null,
      "outputs": []
    },
    {
      "cell_type": "markdown",
      "metadata": {
        "id": "Uoh1-23WgAPy"
      },
      "source": [
        "### Create the CNN LSTM Model"
      ]
    },
    {
      "cell_type": "code",
      "metadata": {
        "id": "PcYj9Zzmb9B3"
      },
      "source": [
        "model = Sequential()\n",
        "# Add 2 CNN layers with 32 filters and window size of 4\n",
        "model.add(TimeDistributed(Conv1D(filters=32, kernel_size=4, activation='relu'), input_shape=(4,int(TIME_STEPS/4), n_features)))\n",
        "model.add(TimeDistributed(Conv1D(filters=32, kernel_size=4, activation='relu')))\n",
        "\n",
        "# Add dropout to reduce overfitting\n",
        "model.add(TimeDistributed(Dropout(0.4)))\n",
        "\n",
        "# The extracted features are then flattened and provided to the LSTM model to read\n",
        "model.add(TimeDistributed(Flatten()))\n",
        "\n",
        "# Add LSTM Model\n",
        "model.add(LSTM(150))\n",
        "\n",
        "# Use Dropout layer to reduce overfitting of the model to the training data\n",
        "model.add(Dropout(0.2))\n",
        "\n",
        "# Add one hidden layer with 100 default nodes with relu activation function\n",
        "model.add(Dense(50, activation='relu'))\n",
        "\n",
        "# Add output layer with 6 (Total number of classes) nodes with softmax activation function\n",
        "model.add(Dense(5, activation='softmax'))"
      ],
      "execution_count": null,
      "outputs": []
    },
    {
      "cell_type": "code",
      "metadata": {
        "colab": {
          "base_uri": "https://localhost:8080/"
        },
        "id": "xOuGEbcyv2Ot",
        "outputId": "4085e801-fee9-474b-851f-659a1ef85f90"
      },
      "source": [
        "model.summary()"
      ],
      "execution_count": null,
      "outputs": [
        {
          "output_type": "stream",
          "text": [
            "Model: \"sequential_4\"\n",
            "_________________________________________________________________\n",
            "Layer (type)                 Output Shape              Param #   \n",
            "=================================================================\n",
            "time_distributed_16 (TimeDis (None, 4, 13, 32)         1440      \n",
            "_________________________________________________________________\n",
            "time_distributed_17 (TimeDis (None, 4, 10, 32)         4128      \n",
            "_________________________________________________________________\n",
            "time_distributed_18 (TimeDis (None, 4, 10, 32)         0         \n",
            "_________________________________________________________________\n",
            "time_distributed_19 (TimeDis (None, 4, 320)            0         \n",
            "_________________________________________________________________\n",
            "lstm_4 (LSTM)                (None, 150)               282600    \n",
            "_________________________________________________________________\n",
            "dropout_9 (Dropout)          (None, 150)               0         \n",
            "_________________________________________________________________\n",
            "dense_8 (Dense)              (None, 50)                7550      \n",
            "_________________________________________________________________\n",
            "dense_9 (Dense)              (None, 5)                 255       \n",
            "=================================================================\n",
            "Total params: 295,973\n",
            "Trainable params: 295,973\n",
            "Non-trainable params: 0\n",
            "_________________________________________________________________\n"
          ],
          "name": "stdout"
        }
      ]
    },
    {
      "cell_type": "markdown",
      "metadata": {
        "id": "7MRR0hAbgOOv"
      },
      "source": [
        "### Train the Model"
      ]
    },
    {
      "cell_type": "code",
      "metadata": {
        "id": "9k7B8VL-Z7zb"
      },
      "source": [
        "def plot_training(history):\n",
        "    print(history.history.keys())\n",
        "\n",
        "    #  \"Accuracy\"\n",
        "    plt.plot(history.history['accuracy'])\n",
        "    plt.plot(history.history['val_accuracy'])\n",
        "    plt.title('model accuracy')\n",
        "    plt.ylabel('accuracy')\n",
        "    plt.xlabel('epoch')\n",
        "    plt.legend(['train', 'validation'], loc='upper left')\n",
        "    plt.show()\n",
        "    \n",
        "    # \"Loss\"\n",
        "    plt.plot(history.history['loss'])\n",
        "    plt.plot(history.history['val_loss'])\n",
        "    plt.title('model loss')\n",
        "    plt.ylabel('loss')\n",
        "    plt.xlabel('epoch')\n",
        "    plt.legend(['train', 'validation'], loc='upper left')\n",
        "    plt.show()"
      ],
      "execution_count": null,
      "outputs": []
    },
    {
      "cell_type": "code",
      "metadata": {
        "colab": {
          "base_uri": "https://localhost:8080/",
          "height": 1000
        },
        "id": "WMg7mXZmgJuG",
        "outputId": "9dfc22cb-3c3b-4038-ab8e-5ab3b21ef6cf"
      },
      "source": [
        "def training(model, X_train, y_train):\n",
        "    # Another control put in place to handle overfitting\n",
        "    early_stopping = tf.keras.callbacks.EarlyStopping(monitor='val_loss',verbose=1,patience=20,mode='min',restore_best_weights=True)\n",
        "\n",
        "    opt = tf.keras.optimizers.Adam(learning_rate = 0.0001)\n",
        "\n",
        "    # compile the model and start Training\n",
        " \n",
        "    model.compile(optimizer = opt, loss = 'categorical_crossentropy', metrics = ['accuracy']) \n",
        "\n",
        "    history = model.fit(X_train, y_train,epochs=50,batch_size=64,validation_split=0.2,shuffle=True,callbacks=[early_stopping])\n",
        "    print(history.history.keys())\n",
        "    # plot training performance over the epochs\n",
        "    plot_training(history)\n",
        "    return history\n",
        "\n",
        "history= training(model, X_train, y_train)"
      ],
      "execution_count": null,
      "outputs": [
        {
          "output_type": "stream",
          "text": [
            "Epoch 1/50\n",
            "993/993 [==============================] - 8s 6ms/step - loss: 0.7431 - accuracy: 0.7350 - val_loss: 0.3702 - val_accuracy: 0.8542\n",
            "Epoch 2/50\n",
            "993/993 [==============================] - 5s 5ms/step - loss: 0.5418 - accuracy: 0.7962 - val_loss: 0.1982 - val_accuracy: 0.9674\n",
            "Epoch 3/50\n",
            "993/993 [==============================] - 5s 5ms/step - loss: 0.4028 - accuracy: 0.8470 - val_loss: 0.1232 - val_accuracy: 0.9733\n",
            "Epoch 4/50\n",
            "993/993 [==============================] - 5s 5ms/step - loss: 0.3240 - accuracy: 0.8803 - val_loss: 0.1261 - val_accuracy: 0.9664\n",
            "Epoch 5/50\n",
            "993/993 [==============================] - 5s 5ms/step - loss: 0.2585 - accuracy: 0.9046 - val_loss: 0.1274 - val_accuracy: 0.9629\n",
            "Epoch 6/50\n",
            "993/993 [==============================] - 5s 5ms/step - loss: 0.2119 - accuracy: 0.9211 - val_loss: 0.0905 - val_accuracy: 0.9701\n",
            "Epoch 7/50\n",
            "993/993 [==============================] - 5s 5ms/step - loss: 0.1812 - accuracy: 0.9328 - val_loss: 0.1079 - val_accuracy: 0.9612\n",
            "Epoch 8/50\n",
            "993/993 [==============================] - 5s 5ms/step - loss: 0.1568 - accuracy: 0.9406 - val_loss: 0.0765 - val_accuracy: 0.9751\n",
            "Epoch 9/50\n",
            "993/993 [==============================] - 5s 5ms/step - loss: 0.1386 - accuracy: 0.9468 - val_loss: 0.0783 - val_accuracy: 0.9727\n",
            "Epoch 10/50\n",
            "993/993 [==============================] - 5s 5ms/step - loss: 0.1248 - accuracy: 0.9517 - val_loss: 0.0681 - val_accuracy: 0.9765\n",
            "Epoch 11/50\n",
            "993/993 [==============================] - 5s 5ms/step - loss: 0.1094 - accuracy: 0.9568 - val_loss: 0.0426 - val_accuracy: 0.9855\n",
            "Epoch 12/50\n",
            "993/993 [==============================] - 6s 6ms/step - loss: 0.0987 - accuracy: 0.9623 - val_loss: 0.0513 - val_accuracy: 0.9823\n",
            "Epoch 13/50\n",
            "993/993 [==============================] - 5s 5ms/step - loss: 0.0868 - accuracy: 0.9677 - val_loss: 0.0207 - val_accuracy: 0.9935\n",
            "Epoch 14/50\n",
            "993/993 [==============================] - 5s 5ms/step - loss: 0.0754 - accuracy: 0.9720 - val_loss: 0.0465 - val_accuracy: 0.9867\n",
            "Epoch 15/50\n",
            "993/993 [==============================] - 5s 5ms/step - loss: 0.0659 - accuracy: 0.9755 - val_loss: 0.0315 - val_accuracy: 0.9913\n",
            "Epoch 16/50\n",
            "993/993 [==============================] - 5s 5ms/step - loss: 0.0594 - accuracy: 0.9789 - val_loss: 0.0239 - val_accuracy: 0.9927\n",
            "Epoch 17/50\n",
            "993/993 [==============================] - 5s 5ms/step - loss: 0.0518 - accuracy: 0.9809 - val_loss: 0.0261 - val_accuracy: 0.9924\n",
            "Epoch 18/50\n",
            "993/993 [==============================] - 5s 5ms/step - loss: 0.0451 - accuracy: 0.9839 - val_loss: 0.0225 - val_accuracy: 0.9926\n",
            "Epoch 19/50\n",
            "993/993 [==============================] - 5s 5ms/step - loss: 0.0413 - accuracy: 0.9848 - val_loss: 0.0159 - val_accuracy: 0.9958\n",
            "Epoch 20/50\n",
            "993/993 [==============================] - 5s 5ms/step - loss: 0.0362 - accuracy: 0.9869 - val_loss: 0.0154 - val_accuracy: 0.9951\n",
            "Epoch 21/50\n",
            "993/993 [==============================] - 5s 6ms/step - loss: 0.0307 - accuracy: 0.9895 - val_loss: 0.0203 - val_accuracy: 0.9938\n",
            "Epoch 22/50\n",
            "993/993 [==============================] - 5s 5ms/step - loss: 0.0260 - accuracy: 0.9909 - val_loss: 0.0143 - val_accuracy: 0.9953\n",
            "Epoch 23/50\n",
            "993/993 [==============================] - 5s 5ms/step - loss: 0.0243 - accuracy: 0.9918 - val_loss: 0.0187 - val_accuracy: 0.9950\n",
            "Epoch 24/50\n",
            "993/993 [==============================] - 5s 5ms/step - loss: 0.0193 - accuracy: 0.9934 - val_loss: 0.0197 - val_accuracy: 0.9948\n",
            "Epoch 25/50\n",
            "993/993 [==============================] - 5s 5ms/step - loss: 0.0187 - accuracy: 0.9938 - val_loss: 0.0149 - val_accuracy: 0.9957\n",
            "Epoch 26/50\n",
            "993/993 [==============================] - 5s 5ms/step - loss: 0.0163 - accuracy: 0.9946 - val_loss: 0.0100 - val_accuracy: 0.9968\n",
            "Epoch 27/50\n",
            "993/993 [==============================] - 5s 5ms/step - loss: 0.0172 - accuracy: 0.9939 - val_loss: 0.0116 - val_accuracy: 0.9969\n",
            "Epoch 28/50\n",
            "993/993 [==============================] - 5s 5ms/step - loss: 0.0141 - accuracy: 0.9955 - val_loss: 0.0051 - val_accuracy: 0.9984\n",
            "Epoch 29/50\n",
            "993/993 [==============================] - 5s 5ms/step - loss: 0.0131 - accuracy: 0.9953 - val_loss: 0.0068 - val_accuracy: 0.9975\n",
            "Epoch 30/50\n",
            "993/993 [==============================] - 5s 5ms/step - loss: 0.0127 - accuracy: 0.9957 - val_loss: 0.0083 - val_accuracy: 0.9973\n",
            "Epoch 31/50\n",
            "993/993 [==============================] - 5s 6ms/step - loss: 0.0114 - accuracy: 0.9962 - val_loss: 0.0058 - val_accuracy: 0.9977\n",
            "Epoch 32/50\n",
            "993/993 [==============================] - 5s 6ms/step - loss: 0.0105 - accuracy: 0.9965 - val_loss: 0.0072 - val_accuracy: 0.9977\n",
            "Epoch 33/50\n",
            "993/993 [==============================] - 5s 5ms/step - loss: 0.0117 - accuracy: 0.9962 - val_loss: 0.0055 - val_accuracy: 0.9981\n",
            "Epoch 34/50\n",
            "993/993 [==============================] - 5s 5ms/step - loss: 0.0089 - accuracy: 0.9973 - val_loss: 0.0084 - val_accuracy: 0.9970\n",
            "Epoch 35/50\n",
            "993/993 [==============================] - 5s 5ms/step - loss: 0.0094 - accuracy: 0.9969 - val_loss: 0.0169 - val_accuracy: 0.9957\n",
            "Epoch 36/50\n",
            "993/993 [==============================] - 5s 5ms/step - loss: 0.0089 - accuracy: 0.9972 - val_loss: 0.0039 - val_accuracy: 0.9987\n",
            "Epoch 37/50\n",
            "993/993 [==============================] - 5s 5ms/step - loss: 0.0092 - accuracy: 0.9968 - val_loss: 0.0026 - val_accuracy: 0.9994\n",
            "Epoch 38/50\n",
            "993/993 [==============================] - 5s 5ms/step - loss: 0.0082 - accuracy: 0.9972 - val_loss: 0.0051 - val_accuracy: 0.9989\n",
            "Epoch 39/50\n",
            "993/993 [==============================] - 5s 5ms/step - loss: 0.0067 - accuracy: 0.9979 - val_loss: 0.0027 - val_accuracy: 0.9995\n",
            "Epoch 40/50\n",
            "993/993 [==============================] - 5s 5ms/step - loss: 0.0089 - accuracy: 0.9974 - val_loss: 0.0039 - val_accuracy: 0.9988\n",
            "Epoch 41/50\n",
            "993/993 [==============================] - 5s 5ms/step - loss: 0.0100 - accuracy: 0.9969 - val_loss: 0.0037 - val_accuracy: 0.9991\n",
            "Epoch 42/50\n",
            "993/993 [==============================] - 5s 5ms/step - loss: 0.0067 - accuracy: 0.9976 - val_loss: 0.0021 - val_accuracy: 0.9991\n",
            "Epoch 43/50\n",
            "993/993 [==============================] - 6s 6ms/step - loss: 0.0057 - accuracy: 0.9982 - val_loss: 0.0054 - val_accuracy: 0.9980\n",
            "Epoch 44/50\n",
            "993/993 [==============================] - 5s 5ms/step - loss: 0.0075 - accuracy: 0.9976 - val_loss: 0.0057 - val_accuracy: 0.9982\n",
            "Epoch 45/50\n",
            "993/993 [==============================] - 5s 5ms/step - loss: 0.0055 - accuracy: 0.9983 - val_loss: 0.0096 - val_accuracy: 0.9969\n",
            "Epoch 46/50\n",
            "993/993 [==============================] - 5s 5ms/step - loss: 0.0049 - accuracy: 0.9985 - val_loss: 0.0077 - val_accuracy: 0.9970\n",
            "Epoch 47/50\n",
            "993/993 [==============================] - 5s 5ms/step - loss: 0.0054 - accuracy: 0.9983 - val_loss: 0.0024 - val_accuracy: 0.9991\n",
            "Epoch 48/50\n",
            "993/993 [==============================] - 5s 5ms/step - loss: 0.0063 - accuracy: 0.9981 - val_loss: 0.0021 - val_accuracy: 0.9991\n",
            "Epoch 49/50\n",
            "993/993 [==============================] - 5s 5ms/step - loss: 0.0044 - accuracy: 0.9986 - val_loss: 0.0054 - val_accuracy: 0.9982\n",
            "Epoch 50/50\n",
            "993/993 [==============================] - 5s 5ms/step - loss: 0.0060 - accuracy: 0.9981 - val_loss: 0.0061 - val_accuracy: 0.9978\n",
            "dict_keys(['loss', 'accuracy', 'val_loss', 'val_accuracy'])\n",
            "dict_keys(['loss', 'accuracy', 'val_loss', 'val_accuracy'])\n"
          ],
          "name": "stdout"
        },
        {
          "output_type": "display_data",
          "data": {
            "image/png": "[encoded data removed]",
            "text/plain": [
              "<Figure size 432x288 with 1 Axes>"
            ]
          },
          "metadata": {
            "tags": [],
            "needs_background": "light"
          }
        },
        {
          "output_type": "display_data",
          "data": {
            "image/png": "[encoded data removed]",
            "text/plain": [
              "<Figure size 432x288 with 1 Axes>"
            ]
          },
          "metadata": {
            "tags": [],
            "needs_background": "light"
          }
        }
      ]
    },
    {
      "cell_type": "markdown",
      "metadata": {
        "id": "GB2_52XeUXyL"
      },
      "source": [
        "### Save the Model"
      ]
    },
    {
      "cell_type": "code",
      "metadata": {
        "id": "orBzCwqUUSzs"
      },
      "source": [
        "import datetime\n",
        "model.save(\"Acc_Models/\"+Category+\"_\"+str(TIME_STEPS)+\"_\"+f'{datetime.datetime.today().strftime(\"%d-%m-%Y\")}.h5')"
      ],
      "execution_count": null,
      "outputs": []
    }
  ]
}