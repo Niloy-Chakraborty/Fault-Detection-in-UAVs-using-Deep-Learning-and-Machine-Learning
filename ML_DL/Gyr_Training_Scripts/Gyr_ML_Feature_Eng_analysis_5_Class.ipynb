{
  "nbformat": 4,
  "nbformat_minor": 0,
  "metadata": {
    "colab": {
      "name": "Gyr_ML_Feature_Eng_analysis_5_Class.ipynb",
      "provenance": [],
      "collapsed_sections": [],
      "machine_shape": "hm"
    },
    "kernelspec": {
      "display_name": "Python 3",
      "language": "python",
      "name": "python3"
    },
    "language_info": {
      "codemirror_mode": {
        "name": "ipython",
        "version": 3
      },
      "file_extension": ".py",
      "mimetype": "text/x-python",
      "name": "python",
      "nbconvert_exporter": "python",
      "pygments_lexer": "ipython3",
      "version": "3.7.6"
    },
    "accelerator": "GPU"
  },
  "cells": [
    {
      "cell_type": "markdown",
      "metadata": {
        "id": "O-crlmI4-ljf"
      },
      "source": [
        "### Machine Learning Based Evaluation for Gyroscope Dataset using Feature Engineering\n",
        "\n",
        "@ Author : Niloy Chakraborty\n",
        "\n",
        "@ Author Contact: chakrabortyniloy2018@gmail.com"
      ]
    },
    {
      "cell_type": "code",
      "metadata": {
        "id": "EGsE8YI5-usc",
        "colab": {
          "base_uri": "https://localhost:8080/"
        },
        "outputId": "747f85e9-0e9f-481f-9b7b-c2f8b713c72b"
      },
      "source": [
        "# Connect to Google Colab.  If using Jupyter, then comment this part\n",
        "from google.colab import drive\n",
        "drive.mount('/gdrive')\n",
        "%cd /gdrive/MyDrive/THESIS/"
      ],
      "execution_count": null,
      "outputs": [
        {
          "output_type": "stream",
          "text": [
            "Mounted at /gdrive\n",
            "/gdrive/MyDrive/THESIS\n"
          ],
          "name": "stdout"
        }
      ]
    },
    {
      "cell_type": "markdown",
      "metadata": {
        "id": "-U2rqDU06ziE"
      },
      "source": [
        "#### Load the Libraries"
      ]
    },
    {
      "cell_type": "code",
      "metadata": {
        "id": "wdHJiHE7-ljl"
      },
      "source": [
        "import h5py\n",
        "import numpy as np\n",
        "import pandas as pd\n",
        "import matplotlib.pyplot as plt\n",
        "from os import listdir\n",
        "from os.path import isfile, join\n",
        "from scipy import stats\n",
        "from scipy.signal import find_peaks\n",
        "import warnings\n",
        "warnings.filterwarnings('ignore')"
      ],
      "execution_count": null,
      "outputs": []
    },
    {
      "cell_type": "markdown",
      "metadata": {
        "id": "hPx0wfRd634Z"
      },
      "source": [
        "### Load Training and Test Dataset and Explore"
      ]
    },
    {
      "cell_type": "code",
      "metadata": {
        "id": "27SSMFZyf8zx"
      },
      "source": [
        "filepath_train = 'Gyr_25_secs_final_combined_faulty_data_train.csv'\n",
        "filepath_test = 'Gyr_25_secs_final_combined_faulty_data_test.csv'"
      ],
      "execution_count": null,
      "outputs": []
    },
    {
      "cell_type": "code",
      "metadata": {
        "id": "julalftVgSAm"
      },
      "source": [
        "header = ['AccX','AccY','AccZ','GyrX','GyrY','GyrZ','Altitude','Cmd1','Cmd2','Cmd3','Cmd4','Roll','Pitch','Yaw','ThurstRefOut1','ThurstRefOut2','ThurstRefOut3','ThurstRefOut4','Label']"
      ],
      "execution_count": null,
      "outputs": []
    },
    {
      "cell_type": "markdown",
      "metadata": {
        "id": "aPC0BGUYP4Bi"
      },
      "source": [
        "### Load the train data"
      ]
    },
    {
      "cell_type": "code",
      "metadata": {
        "id": "3tDfdbhDgCgl",
        "colab": {
          "base_uri": "https://localhost:8080/",
          "height": 312
        },
        "outputId": "a77827ad-2d33-4afe-fdbe-9384cd43d9f1"
      },
      "source": [
        "df_train = pd.read_csv(filepath_train, header = None)\n",
        "df_train = df_train.rename(columns=df_train.iloc[0]).drop(df_train.index[0])\n",
        "df_train = df_train.iloc[:, 1:]\n",
        "df_train[\"Label\"] = pd.to_numeric(df_train[\"Label\"])\n",
        "df_train.head()"
      ],
      "execution_count": null,
      "outputs": [
        {
          "output_type": "execute_result",
          "data": {
            "text/html": [
              "<div>\n",
              "<style scoped>\n",
              "    .dataframe tbody tr th:only-of-type {\n",
              "        vertical-align: middle;\n",
              "    }\n",
              "\n",
              "    .dataframe tbody tr th {\n",
              "        vertical-align: top;\n",
              "    }\n",
              "\n",
              "    .dataframe thead th {\n",
              "        text-align: right;\n",
              "    }\n",
              "</style>\n",
              "<table border=\"1\" class=\"dataframe\">\n",
              "  <thead>\n",
              "    <tr style=\"text-align: right;\">\n",
              "      <th></th>\n",
              "      <th>AccX</th>\n",
              "      <th>AccY</th>\n",
              "      <th>AccZ</th>\n",
              "      <th>GyrX</th>\n",
              "      <th>GyrY</th>\n",
              "      <th>GyrZ</th>\n",
              "      <th>Altitude</th>\n",
              "      <th>Cmd1</th>\n",
              "      <th>Cmd2</th>\n",
              "      <th>Cmd3</th>\n",
              "      <th>Cmd4</th>\n",
              "      <th>Roll</th>\n",
              "      <th>Pitch</th>\n",
              "      <th>Yaw</th>\n",
              "      <th>ThurstRefOut1</th>\n",
              "      <th>ThurstRefOut2</th>\n",
              "      <th>ThurstRefOut3</th>\n",
              "      <th>ThurstRefOut4</th>\n",
              "      <th>Label</th>\n",
              "    </tr>\n",
              "  </thead>\n",
              "  <tbody>\n",
              "    <tr>\n",
              "      <th>1</th>\n",
              "      <td>0.03380774</td>\n",
              "      <td>-0.11192460000000001</td>\n",
              "      <td>-9.492839</td>\n",
              "      <td>-0.0098925</td>\n",
              "      <td>-0.007933972</td>\n",
              "      <td>0.00108462</td>\n",
              "      <td>0.44</td>\n",
              "      <td>342.9332</td>\n",
              "      <td>-342.9577</td>\n",
              "      <td>342.8969</td>\n",
              "      <td>-342.9631</td>\n",
              "      <td>-1.965233e-06</td>\n",
              "      <td>-2.155978e-06</td>\n",
              "      <td>-5.859605e-07</td>\n",
              "      <td>-0.22403289999999998</td>\n",
              "      <td>-0.2240489</td>\n",
              "      <td>-0.22400920000000002</td>\n",
              "      <td>-0.22405239999999998</td>\n",
              "      <td>0</td>\n",
              "    </tr>\n",
              "    <tr>\n",
              "      <th>2</th>\n",
              "      <td>-0.116923</td>\n",
              "      <td>-0.2512355</td>\n",
              "      <td>-14.08014</td>\n",
              "      <td>-0.01084344</td>\n",
              "      <td>-0.009036063</td>\n",
              "      <td>-2.253169e-05</td>\n",
              "      <td>0.44</td>\n",
              "      <td>343.0175</td>\n",
              "      <td>-342.912</td>\n",
              "      <td>342.8928</td>\n",
              "      <td>-342.9287</td>\n",
              "      <td>-4.02452e-06</td>\n",
              "      <td>-4.6669999999999995e-06</td>\n",
              "      <td>-7.215308e-08</td>\n",
              "      <td>-0.224088</td>\n",
              "      <td>-0.224019</td>\n",
              "      <td>-0.2240065</td>\n",
              "      <td>-0.22403</td>\n",
              "      <td>0</td>\n",
              "    </tr>\n",
              "    <tr>\n",
              "      <th>3</th>\n",
              "      <td>0.22785189999999997</td>\n",
              "      <td>0.06732436</td>\n",
              "      <td>-13.62979</td>\n",
              "      <td>-0.008328836</td>\n",
              "      <td>-0.006301623</td>\n",
              "      <td>0.0025199379999999998</td>\n",
              "      <td>0.44</td>\n",
              "      <td>342.9608</td>\n",
              "      <td>-342.8717</td>\n",
              "      <td>343.0659</td>\n",
              "      <td>-342.8525</td>\n",
              "      <td>6.818334e-06</td>\n",
              "      <td>7.100436999999999e-06</td>\n",
              "      <td>5.960543e-07</td>\n",
              "      <td>-0.2240509</td>\n",
              "      <td>-0.2239928</td>\n",
              "      <td>-0.2241196</td>\n",
              "      <td>-0.22398020000000002</td>\n",
              "      <td>0</td>\n",
              "    </tr>\n",
              "    <tr>\n",
              "      <th>4</th>\n",
              "      <td>-0.01241245</td>\n",
              "      <td>-0.1545401</td>\n",
              "      <td>-13.94356</td>\n",
              "      <td>-0.01056849</td>\n",
              "      <td>-0.008493732</td>\n",
              "      <td>0.0007364108</td>\n",
              "      <td>0.44</td>\n",
              "      <td>342.8445</td>\n",
              "      <td>-343.066</td>\n",
              "      <td>342.7531</td>\n",
              "      <td>-343.0873</td>\n",
              "      <td>-3.975494e-06</td>\n",
              "      <td>-3.691068e-06</td>\n",
              "      <td>1.940148e-06</td>\n",
              "      <td>-0.223975</td>\n",
              "      <td>-0.2241197</td>\n",
              "      <td>-0.22391529999999998</td>\n",
              "      <td>-0.22413360000000002</td>\n",
              "      <td>0</td>\n",
              "    </tr>\n",
              "    <tr>\n",
              "      <th>5</th>\n",
              "      <td>0.21535289999999999</td>\n",
              "      <td>0.05578018</td>\n",
              "      <td>-13.64611</td>\n",
              "      <td>-0.008419157</td>\n",
              "      <td>-0.006429253</td>\n",
              "      <td>0.00240215</td>\n",
              "      <td>0.44</td>\n",
              "      <td>343.4182</td>\n",
              "      <td>-342.416</td>\n",
              "      <td>343.5187</td>\n",
              "      <td>-342.3979</td>\n",
              "      <td>1.696333e-05</td>\n",
              "      <td>1.88649e-05</td>\n",
              "      <td>1.3310810000000002e-05</td>\n",
              "      <td>-0.22434980000000002</td>\n",
              "      <td>-0.2236951</td>\n",
              "      <td>-0.2244154</td>\n",
              "      <td>-0.2236833</td>\n",
              "      <td>0</td>\n",
              "    </tr>\n",
              "  </tbody>\n",
              "</table>\n",
              "</div>"
            ],
            "text/plain": [
              "                  AccX                  AccY  ...         ThurstRefOut4 Label\n",
              "1           0.03380774  -0.11192460000000001  ...  -0.22405239999999998     0\n",
              "2            -0.116923            -0.2512355  ...              -0.22403     0\n",
              "3  0.22785189999999997            0.06732436  ...  -0.22398020000000002     0\n",
              "4          -0.01241245            -0.1545401  ...  -0.22413360000000002     0\n",
              "5  0.21535289999999999            0.05578018  ...            -0.2236833     0\n",
              "\n",
              "[5 rows x 19 columns]"
            ]
          },
          "metadata": {},
          "execution_count": 5
        }
      ]
    },
    {
      "cell_type": "code",
      "metadata": {
        "id": "TopZ_jDHUYZA"
      },
      "source": [
        "drop_cols = ['Altitude','Cmd1','Cmd2','Cmd3','Cmd4','Roll','Pitch','Yaw','ThurstRefOut1','ThurstRefOut2','ThurstRefOut3','ThurstRefOut4']\n",
        "df_train= df_train.drop(drop_cols,axis=1)\n"
      ],
      "execution_count": null,
      "outputs": []
    },
    {
      "cell_type": "code",
      "metadata": {
        "id": "UwNzFwPqlV9J",
        "colab": {
          "base_uri": "https://localhost:8080/"
        },
        "outputId": "509ce6ab-4790-466e-8984-f5cd6702c09b"
      },
      "source": [
        "df_train.shape"
      ],
      "execution_count": null,
      "outputs": [
        {
          "output_type": "execute_result",
          "data": {
            "text/plain": [
              "(3075000, 7)"
            ]
          },
          "metadata": {},
          "execution_count": 7
        }
      ]
    },
    {
      "cell_type": "code",
      "metadata": {
        "id": "hC5NcbdUgWrx"
      },
      "source": [
        "# X_train = df_train.iloc[:,:-1]\n",
        "# y_train = df_train.iloc[:,-1:]"
      ],
      "execution_count": null,
      "outputs": []
    },
    {
      "cell_type": "markdown",
      "metadata": {
        "id": "H1ZsfJkUQCwU"
      },
      "source": [
        "### Load the test data"
      ]
    },
    {
      "cell_type": "code",
      "metadata": {
        "colab": {
          "base_uri": "https://localhost:8080/",
          "height": 312
        },
        "id": "Iu_vhmhjQG7A",
        "outputId": "3983a7d3-de95-48a1-a200-824cc6a7b3d4"
      },
      "source": [
        "df_test = pd.read_csv(filepath_test, header = None)\n",
        "df_test = df_test.rename(columns=df_test.iloc[0]).drop(df_test.index[0])\n",
        "df_test = df_test.iloc[:, 1:]\n",
        "df_test[\"Label\"] = pd.to_numeric(df_test[\"Label\"])\n",
        "df_test.head()"
      ],
      "execution_count": null,
      "outputs": [
        {
          "output_type": "execute_result",
          "data": {
            "text/html": [
              "<div>\n",
              "<style scoped>\n",
              "    .dataframe tbody tr th:only-of-type {\n",
              "        vertical-align: middle;\n",
              "    }\n",
              "\n",
              "    .dataframe tbody tr th {\n",
              "        vertical-align: top;\n",
              "    }\n",
              "\n",
              "    .dataframe thead th {\n",
              "        text-align: right;\n",
              "    }\n",
              "</style>\n",
              "<table border=\"1\" class=\"dataframe\">\n",
              "  <thead>\n",
              "    <tr style=\"text-align: right;\">\n",
              "      <th></th>\n",
              "      <th>AccX</th>\n",
              "      <th>AccY</th>\n",
              "      <th>AccZ</th>\n",
              "      <th>GyrX</th>\n",
              "      <th>GyrY</th>\n",
              "      <th>GyrZ</th>\n",
              "      <th>Altitude</th>\n",
              "      <th>Cmd1</th>\n",
              "      <th>Cmd2</th>\n",
              "      <th>Cmd3</th>\n",
              "      <th>Cmd4</th>\n",
              "      <th>Roll</th>\n",
              "      <th>Pitch</th>\n",
              "      <th>Yaw</th>\n",
              "      <th>ThurstRefOut1</th>\n",
              "      <th>ThurstRefOut2</th>\n",
              "      <th>ThurstRefOut3</th>\n",
              "      <th>ThurstRefOut4</th>\n",
              "      <th>Label</th>\n",
              "    </tr>\n",
              "  </thead>\n",
              "  <tbody>\n",
              "    <tr>\n",
              "      <th>1</th>\n",
              "      <td>0.03380774</td>\n",
              "      <td>-0.11192460000000001</td>\n",
              "      <td>-9.492839</td>\n",
              "      <td>-0.0098925</td>\n",
              "      <td>-0.007933972</td>\n",
              "      <td>0.00108462</td>\n",
              "      <td>0.44</td>\n",
              "      <td>342.9332</td>\n",
              "      <td>-342.9577</td>\n",
              "      <td>342.8969</td>\n",
              "      <td>-342.9631</td>\n",
              "      <td>-1.965233e-06</td>\n",
              "      <td>-2.155978e-06</td>\n",
              "      <td>-5.859605e-07</td>\n",
              "      <td>-0.22403289999999998</td>\n",
              "      <td>-0.2240489</td>\n",
              "      <td>-0.22400920000000002</td>\n",
              "      <td>-0.22405239999999998</td>\n",
              "      <td>0</td>\n",
              "    </tr>\n",
              "    <tr>\n",
              "      <th>2</th>\n",
              "      <td>-0.116923</td>\n",
              "      <td>-0.2512355</td>\n",
              "      <td>-14.08014</td>\n",
              "      <td>-0.01084344</td>\n",
              "      <td>-0.009036063</td>\n",
              "      <td>-2.253169e-05</td>\n",
              "      <td>0.44</td>\n",
              "      <td>343.0175</td>\n",
              "      <td>-342.912</td>\n",
              "      <td>342.8928</td>\n",
              "      <td>-342.9287</td>\n",
              "      <td>-4.02452e-06</td>\n",
              "      <td>-4.6669999999999995e-06</td>\n",
              "      <td>-7.215308e-08</td>\n",
              "      <td>-0.224088</td>\n",
              "      <td>-0.224019</td>\n",
              "      <td>-0.2240065</td>\n",
              "      <td>-0.22403</td>\n",
              "      <td>0</td>\n",
              "    </tr>\n",
              "    <tr>\n",
              "      <th>3</th>\n",
              "      <td>0.22785189999999997</td>\n",
              "      <td>0.06732436</td>\n",
              "      <td>-13.62979</td>\n",
              "      <td>-0.008328836</td>\n",
              "      <td>-0.006301623</td>\n",
              "      <td>0.0025199379999999998</td>\n",
              "      <td>0.44</td>\n",
              "      <td>342.9608</td>\n",
              "      <td>-342.8717</td>\n",
              "      <td>343.0659</td>\n",
              "      <td>-342.8525</td>\n",
              "      <td>6.818334e-06</td>\n",
              "      <td>7.100436999999999e-06</td>\n",
              "      <td>5.960543e-07</td>\n",
              "      <td>-0.2240509</td>\n",
              "      <td>-0.2239928</td>\n",
              "      <td>-0.2241196</td>\n",
              "      <td>-0.22398020000000002</td>\n",
              "      <td>0</td>\n",
              "    </tr>\n",
              "    <tr>\n",
              "      <th>4</th>\n",
              "      <td>-0.01241245</td>\n",
              "      <td>-0.1545401</td>\n",
              "      <td>-13.94356</td>\n",
              "      <td>-0.01056849</td>\n",
              "      <td>-0.008493732</td>\n",
              "      <td>0.0007364108</td>\n",
              "      <td>0.44</td>\n",
              "      <td>342.8445</td>\n",
              "      <td>-343.066</td>\n",
              "      <td>342.7531</td>\n",
              "      <td>-343.0873</td>\n",
              "      <td>-3.975494e-06</td>\n",
              "      <td>-3.691068e-06</td>\n",
              "      <td>1.940148e-06</td>\n",
              "      <td>-0.223975</td>\n",
              "      <td>-0.2241197</td>\n",
              "      <td>-0.22391529999999998</td>\n",
              "      <td>-0.22413360000000002</td>\n",
              "      <td>0</td>\n",
              "    </tr>\n",
              "    <tr>\n",
              "      <th>5</th>\n",
              "      <td>0.21535289999999999</td>\n",
              "      <td>0.05578018</td>\n",
              "      <td>-13.64611</td>\n",
              "      <td>-0.008419157</td>\n",
              "      <td>-0.006429253</td>\n",
              "      <td>0.00240215</td>\n",
              "      <td>0.44</td>\n",
              "      <td>343.4182</td>\n",
              "      <td>-342.416</td>\n",
              "      <td>343.5187</td>\n",
              "      <td>-342.3979</td>\n",
              "      <td>1.696333e-05</td>\n",
              "      <td>1.88649e-05</td>\n",
              "      <td>1.3310810000000002e-05</td>\n",
              "      <td>-0.22434980000000002</td>\n",
              "      <td>-0.2236951</td>\n",
              "      <td>-0.2244154</td>\n",
              "      <td>-0.2236833</td>\n",
              "      <td>0</td>\n",
              "    </tr>\n",
              "  </tbody>\n",
              "</table>\n",
              "</div>"
            ],
            "text/plain": [
              "                  AccX                  AccY  ...         ThurstRefOut4 Label\n",
              "1           0.03380774  -0.11192460000000001  ...  -0.22405239999999998     0\n",
              "2            -0.116923            -0.2512355  ...              -0.22403     0\n",
              "3  0.22785189999999997            0.06732436  ...  -0.22398020000000002     0\n",
              "4          -0.01241245            -0.1545401  ...  -0.22413360000000002     0\n",
              "5  0.21535289999999999            0.05578018  ...            -0.2236833     0\n",
              "\n",
              "[5 rows x 19 columns]"
            ]
          },
          "metadata": {},
          "execution_count": 9
        }
      ]
    },
    {
      "cell_type": "code",
      "metadata": {
        "id": "imlNgdxWU5sF"
      },
      "source": [
        "drop_cols = ['Altitude','Cmd1','Cmd2','Cmd3','Cmd4','Roll','Pitch','Yaw','ThurstRefOut1','ThurstRefOut2','ThurstRefOut3','ThurstRefOut4']\n",
        "df_test= df_test.drop(drop_cols,axis=1)\n"
      ],
      "execution_count": null,
      "outputs": []
    },
    {
      "cell_type": "markdown",
      "metadata": {
        "id": "P6Wv-pfQ7T_Y"
      },
      "source": [
        "### Data Pre-processing"
      ]
    },
    {
      "cell_type": "code",
      "metadata": {
        "id": "jbuLnkJ6zlvi"
      },
      "source": [
        "# Convert data type to Numeric\n",
        "df_train = df_train.apply(pd.to_numeric)\n",
        "df_test = df_test.apply(pd.to_numeric)\n"
      ],
      "execution_count": null,
      "outputs": []
    },
    {
      "cell_type": "code",
      "metadata": {
        "colab": {
          "base_uri": "https://localhost:8080/"
        },
        "id": "yvNHZw78FQjo",
        "outputId": "79ed50f1-4d7c-4429-d208-ca93fb05319f"
      },
      "source": [
        "df_train.info()"
      ],
      "execution_count": null,
      "outputs": [
        {
          "output_type": "stream",
          "text": [
            "<class 'pandas.core.frame.DataFrame'>\n",
            "Int64Index: 3075000 entries, 1 to 3075000\n",
            "Data columns (total 7 columns):\n",
            " #   Column  Dtype  \n",
            "---  ------  -----  \n",
            " 0   AccX    float64\n",
            " 1   AccY    float64\n",
            " 2   AccZ    float64\n",
            " 3   GyrX    float64\n",
            " 4   GyrY    float64\n",
            " 5   GyrZ    float64\n",
            " 6   Label   int64  \n",
            "dtypes: float64(6), int64(1)\n",
            "memory usage: 187.7 MB\n"
          ],
          "name": "stdout"
        }
      ]
    },
    {
      "cell_type": "code",
      "metadata": {
        "colab": {
          "base_uri": "https://localhost:8080/"
        },
        "id": "wHuQtxgbFTFS",
        "outputId": "760e94d9-3f2e-4ff0-ee75-adfe84eba280"
      },
      "source": [
        "df_test.info()"
      ],
      "execution_count": null,
      "outputs": [
        {
          "output_type": "stream",
          "text": [
            "<class 'pandas.core.frame.DataFrame'>\n",
            "Int64Index: 462500 entries, 1 to 462500\n",
            "Data columns (total 7 columns):\n",
            " #   Column  Non-Null Count   Dtype  \n",
            "---  ------  --------------   -----  \n",
            " 0   AccX    462500 non-null  float64\n",
            " 1   AccY    462500 non-null  float64\n",
            " 2   AccZ    462500 non-null  float64\n",
            " 3   GyrX    462500 non-null  float64\n",
            " 4   GyrY    462500 non-null  float64\n",
            " 5   GyrZ    462500 non-null  float64\n",
            " 6   Label   462500 non-null  int64  \n",
            "dtypes: float64(6), int64(1)\n",
            "memory usage: 28.2 MB\n"
          ],
          "name": "stdout"
        }
      ]
    },
    {
      "cell_type": "markdown",
      "metadata": {
        "id": "BFPPvJfUzfTP"
      },
      "source": [
        "#### Create Sliding Windows and Apply Feature Engineering to every windows"
      ]
    },
    {
      "cell_type": "markdown",
      "metadata": {
        "id": "J7kVYPJx665z"
      },
      "source": [
        "Training Data"
      ]
    },
    {
      "cell_type": "code",
      "metadata": {
        "id": "0Rq3KvkkAz7W"
      },
      "source": [
        ""
      ],
      "execution_count": null,
      "outputs": []
    },
    {
      "cell_type": "code",
      "metadata": {
        "id": "RAs7F_kCzejg"
      },
      "source": [
        "x_list_acc = []\n",
        "y_list_acc = []\n",
        "z_list_acc = []\n",
        "x_list_gyr = []\n",
        "y_list_gyr = []\n",
        "z_list_gyr = []\n",
        "train_labels = []\n",
        "\n",
        "window_size = 64\n",
        "step_size = 40\n",
        "\n",
        "# creating overlaping windows of size window-size 100\n",
        "for i in range(0, df_train.shape[0] - window_size, step_size):\n",
        "    accx = df_train['AccX'].values[i: i + window_size]\n",
        "    accy = df_train['AccY'].values[i: i + window_size]\n",
        "    accz = df_train['AccY'].values[i: i + window_size]\n",
        "    gyrx = df_train['GyrX'].values[i: i + window_size]\n",
        "    gyry = df_train['GyrY'].values[i: i + window_size]\n",
        "    gyrz = df_train['GyrZ'].values[i: i + window_size]\n",
        "    label = stats.mode(df_train['Label'][i: i + 100])[0][0]\n",
        "\n",
        "    x_list_acc.append(accx)\n",
        "    y_list_acc.append(accy)\n",
        "    z_list_acc.append(accz)\n",
        "    x_list_gyr.append(gyrx)\n",
        "    y_list_gyr.append(gyry)\n",
        "    z_list_gyr.append(gyrz)\n",
        "    train_labels.append(label)\n",
        "\n",
        "# Statistical Features on raw x, y and z in time domain\n",
        "X_train = pd.DataFrame()\n",
        "\n",
        "# mean\n",
        "X_train['x_mean_acc'] = pd.Series(x_list_acc).apply(lambda x: x.mean())\n",
        "X_train['y_mean_acc'] = pd.Series(y_list_acc).apply(lambda x: x.mean())\n",
        "X_train['z_mean_acc'] = pd.Series(z_list_acc).apply(lambda x: x.mean())\n",
        "X_train['x_mean_gyr'] = pd.Series(x_list_gyr).apply(lambda x: x.mean())\n",
        "X_train['y_mean_gyr'] = pd.Series(y_list_gyr).apply(lambda x: x.mean())\n",
        "X_train['z_mean_gyr'] = pd.Series(z_list_gyr).apply(lambda x: x.mean())\n",
        "\n",
        "# std dev\n",
        "X_train['x_std_acc'] = pd.Series(x_list_acc).apply(lambda x: x.std())\n",
        "X_train['y_std_acc'] = pd.Series(y_list_acc).apply(lambda x: x.std())\n",
        "X_train['z_std_acc'] = pd.Series(z_list_acc).apply(lambda x: x.std())\n",
        "X_train['x_std_gyr'] = pd.Series(x_list_gyr).apply(lambda x: x.std())\n",
        "X_train['y_std_gyr'] = pd.Series(y_list_gyr).apply(lambda x: x.std())\n",
        "X_train['z_std_gyr'] = pd.Series(z_list_gyr).apply(lambda x: x.std())\n",
        "\n",
        "# avg absolute diff\n",
        "X_train['x_aad_acc'] = pd.Series(x_list_acc).apply(lambda x: np.mean(np.absolute(x - np.mean(x))))\n",
        "X_train['y_aad_acc'] = pd.Series(y_list_acc).apply(lambda x: np.mean(np.absolute(x - np.mean(x))))\n",
        "X_train['z_aad_acc'] = pd.Series(z_list_acc).apply(lambda x: np.mean(np.absolute(x - np.mean(x))))\n",
        "X_train['x_aad_gyr'] = pd.Series(x_list_gyr).apply(lambda x: np.mean(np.absolute(x - np.mean(x))))\n",
        "X_train['y_aad_gyr'] = pd.Series(y_list_gyr).apply(lambda x: np.mean(np.absolute(x - np.mean(x))))\n",
        "X_train['z_aad_gyr'] = pd.Series(z_list_gyr).apply(lambda x: np.mean(np.absolute(x - np.mean(x))))\n",
        "\n",
        "# min\n",
        "X_train['x_min_acc'] = pd.Series(x_list_acc).apply(lambda x: x.min())\n",
        "X_train['y_min_acc'] = pd.Series(y_list_acc).apply(lambda x: x.min())\n",
        "X_train['z_min_acc'] = pd.Series(z_list_acc).apply(lambda x: x.min())\n",
        "X_train['x_min_gyr'] = pd.Series(x_list_gyr).apply(lambda x: x.min())\n",
        "X_train['y_min_gyr'] = pd.Series(y_list_gyr).apply(lambda x: x.min())\n",
        "X_train['z_min_gyr'] = pd.Series(z_list_gyr).apply(lambda x: x.min())\n",
        "\n",
        "\n",
        "# max\n",
        "X_train['x_max_acc'] = pd.Series(x_list_acc).apply(lambda x: x.max())\n",
        "X_train['y_max_acc'] = pd.Series(y_list_acc).apply(lambda x: x.max())\n",
        "X_train['z_max_acc'] = pd.Series(z_list_acc).apply(lambda x: x.max())\n",
        "X_train['x_max_gyr'] = pd.Series(x_list_gyr).apply(lambda x: x.max())\n",
        "X_train['y_max_gyr'] = pd.Series(y_list_gyr).apply(lambda x: x.max())\n",
        "X_train['z_max_gyr'] = pd.Series(z_list_gyr).apply(lambda x: x.max())\n",
        "\n",
        "# max-min diff\n",
        "X_train['x_maxmin_diff_acc'] = X_train['x_max_acc'] - X_train['x_min_acc']\n",
        "X_train['y_maxmin_diff_acc'] = X_train['y_max_acc'] - X_train['y_min_acc']\n",
        "X_train['z_maxmin_diff_acc'] = X_train['z_max_acc'] - X_train['z_min_acc']\n",
        "X_train['x_maxmin_diff_gyr'] = X_train['x_max_gyr'] - X_train['x_min_gyr']\n",
        "X_train['y_maxmin_diff_gyr'] = X_train['y_max_gyr'] - X_train['y_min_gyr']\n",
        "X_train['z_maxmin_diff_gyr'] = X_train['z_max_gyr'] - X_train['z_min_gyr']\n",
        "\n",
        "# median\n",
        "X_train['x_median_acc'] = pd.Series(x_list_acc).apply(lambda x: np.median(x))\n",
        "X_train['y_median_acc'] = pd.Series(y_list_acc).apply(lambda x: np.median(x))\n",
        "X_train['z_median_acc'] = pd.Series(z_list_acc).apply(lambda x: np.median(x))\n",
        "X_train['x_median_gyr'] = pd.Series(x_list_gyr).apply(lambda x: np.median(x))\n",
        "X_train['y_median_gyr'] = pd.Series(y_list_gyr).apply(lambda x: np.median(x))\n",
        "X_train['z_median_gyr'] = pd.Series(z_list_gyr).apply(lambda x: np.median(x))\n",
        "\n",
        "# median abs dev \n",
        "X_train['x_mad_acc'] = pd.Series(x_list_acc).apply(lambda x: np.median(np.absolute(x - np.median(x))))\n",
        "X_train['y_mad_acc'] = pd.Series(y_list_acc).apply(lambda x: np.median(np.absolute(x - np.median(x))))\n",
        "X_train['z_mad_acc'] = pd.Series(z_list_acc).apply(lambda x: np.median(np.absolute(x - np.median(x))))\n",
        "\n",
        "X_train['x_mad_gyr'] = pd.Series(x_list_gyr).apply(lambda x: np.median(np.absolute(x - np.median(x))))\n",
        "X_train['y_mad_gyr'] = pd.Series(y_list_gyr).apply(lambda x: np.median(np.absolute(x - np.median(x))))\n",
        "X_train['z_mad_gyr'] = pd.Series(z_list_gyr).apply(lambda x: np.median(np.absolute(x - np.median(x))))\n",
        "\n",
        "# interquartile range\n",
        "X_train['x_IQR_acc'] = pd.Series(x_list_acc).apply(lambda x: np.percentile(x, 75) - np.percentile(x, 25))\n",
        "X_train['y_IQR_acc'] = pd.Series(y_list_acc).apply(lambda x: np.percentile(x, 75) - np.percentile(x, 25))\n",
        "X_train['z_IQR_acc'] = pd.Series(z_list_acc).apply(lambda x: np.percentile(x, 75) - np.percentile(x, 25))\n",
        "\n",
        "X_train['x_IQR_gyr'] = pd.Series(x_list_gyr).apply(lambda x: np.percentile(x, 75) - np.percentile(x, 25))\n",
        "X_train['y_IQR_gyr'] = pd.Series(y_list_gyr).apply(lambda x: np.percentile(x, 75) - np.percentile(x, 25))\n",
        "X_train['z_IQR_gyr'] = pd.Series(z_list_gyr).apply(lambda x: np.percentile(x, 75) - np.percentile(x, 25))\n",
        "\n",
        "# negtive count\n",
        "X_train['x_neg_count_acc'] = pd.Series(x_list_acc).apply(lambda x: np.sum(x < 0))\n",
        "X_train['y_neg_count_acc'] = pd.Series(y_list_acc).apply(lambda x: np.sum(x < 0))\n",
        "X_train['z_neg_count_acc'] = pd.Series(z_list_acc).apply(lambda x: np.sum(x < 0))\n",
        "\n",
        "X_train['x_neg_count_gyr'] = pd.Series(x_list_gyr).apply(lambda x: np.sum(x < 0))\n",
        "X_train['y_neg_count_gyr'] = pd.Series(y_list_gyr).apply(lambda x: np.sum(x < 0))\n",
        "X_train['z_neg_count_gyr'] = pd.Series(z_list_gyr).apply(lambda x: np.sum(x < 0))\n",
        "\n",
        "# positive count\n",
        "X_train['x_pos_count_acc'] = pd.Series(x_list_acc).apply(lambda x: np.sum(x > 0))\n",
        "X_train['y_pos_count_acc'] = pd.Series(y_list_acc).apply(lambda x: np.sum(x > 0))\n",
        "X_train['z_pos_count_acc'] = pd.Series(z_list_acc).apply(lambda x: np.sum(x > 0))\n",
        "\n",
        "X_train['x_pos_count_gyr'] = pd.Series(x_list_gyr).apply(lambda x: np.sum(x > 0))\n",
        "X_train['y_pos_count_gyr'] = pd.Series(y_list_gyr).apply(lambda x: np.sum(x > 0))\n",
        "X_train['z_pos_count_gyr'] = pd.Series(z_list_gyr).apply(lambda x: np.sum(x > 0))\n",
        "\n",
        "# values above mean\n",
        "X_train['x_above_mean_acc'] = pd.Series(x_list_acc).apply(lambda x: np.sum(x > x.mean()))\n",
        "X_train['y_above_mean_acc'] = pd.Series(y_list_acc).apply(lambda x: np.sum(x > x.mean()))\n",
        "X_train['z_above_mean_acc'] = pd.Series(z_list_acc).apply(lambda x: np.sum(x > x.mean()))\n",
        "\n",
        "X_train['x_above_mean_gyr'] = pd.Series(x_list_gyr).apply(lambda x: np.sum(x > x.mean()))\n",
        "X_train['y_above_mean_gyr'] = pd.Series(y_list_gyr).apply(lambda x: np.sum(x > x.mean()))\n",
        "X_train['z_above_mean_gyr'] = pd.Series(z_list_gyr).apply(lambda x: np.sum(x > x.mean()))\n",
        "\n",
        "# number of peaks\n",
        "X_train['x_peak_count_acc'] = pd.Series(x_list_acc).apply(lambda x: len(find_peaks(x)[0]))\n",
        "X_train['y_peak_count_acc'] = pd.Series(y_list_acc).apply(lambda x: len(find_peaks(x)[0]))\n",
        "X_train['z_peak_count_acc'] = pd.Series(z_list_acc).apply(lambda x: len(find_peaks(x)[0]))\n",
        "\n",
        "X_train['x_peak_count_gyr'] = pd.Series(x_list_gyr).apply(lambda x: len(find_peaks(x)[0]))\n",
        "X_train['y_peak_count_gyr'] = pd.Series(y_list_gyr).apply(lambda x: len(find_peaks(x)[0]))\n",
        "X_train['z_peak_count_gyr'] = pd.Series(z_list_gyr).apply(lambda x: len(find_peaks(x)[0]))\n",
        "\n",
        "# skewness\n",
        "X_train['x_skewness_acc'] = pd.Series(x_list_acc).apply(lambda x: stats.skew(x))\n",
        "X_train['y_skewness_acc'] = pd.Series(y_list_acc).apply(lambda x: stats.skew(x))\n",
        "X_train['z_skewness_acc'] = pd.Series(z_list_acc).apply(lambda x: stats.skew(x))\n",
        "\n",
        "X_train['x_skewness_gyr'] = pd.Series(x_list_gyr).apply(lambda x: stats.skew(x))\n",
        "X_train['y_skewness_gyr'] = pd.Series(y_list_gyr).apply(lambda x: stats.skew(x))\n",
        "X_train['z_skewness_gyr'] = pd.Series(z_list_gyr).apply(lambda x: stats.skew(x))\n",
        "\n",
        "# kurtosis\n",
        "X_train['x_kurtosis_acc'] = pd.Series(x_list_acc).apply(lambda x: stats.kurtosis(x))\n",
        "X_train['y_kurtosis_acc'] = pd.Series(y_list_acc).apply(lambda x: stats.kurtosis(x))\n",
        "X_train['z_kurtosis_acc'] = pd.Series(z_list_acc).apply(lambda x: stats.kurtosis(x))\n",
        "\n",
        "X_train['x_kurtosis_gyr'] = pd.Series(x_list_gyr).apply(lambda x: stats.kurtosis(x))\n",
        "X_train['y_kurtosis_gyr'] = pd.Series(y_list_gyr).apply(lambda x: stats.kurtosis(x))\n",
        "X_train['z_kurtosis_gyr'] = pd.Series(z_list_gyr).apply(lambda x: stats.kurtosis(x))\n",
        "\n",
        "# energy\n",
        "X_train['x_energy_acc'] = pd.Series(x_list_acc).apply(lambda x: np.sum(x**2)/100)\n",
        "X_train['y_energy_acc'] = pd.Series(y_list_acc).apply(lambda x: np.sum(x**2)/100)\n",
        "X_train['z_energy_acc'] = pd.Series(z_list_acc).apply(lambda x: np.sum(x**2/100))\n",
        "\n",
        "X_train['x_energy_gyr'] = pd.Series(x_list_gyr).apply(lambda x: np.sum(x**2)/100)\n",
        "X_train['y_energy_gyr'] = pd.Series(y_list_gyr).apply(lambda x: np.sum(x**2)/100)\n",
        "X_train['z_energy_gyr'] = pd.Series(z_list_gyr).apply(lambda x: np.sum(x**2/100))\n",
        "\n",
        "# avg resultant\n",
        "X_train['avg_result_acc'] = [i.mean() for i in ((pd.Series(x_list_acc)**2 + pd.Series(y_list_acc)**2 + pd.Series(z_list_acc)**2)**0.5)]\n",
        "X_train['avg_result_gyr'] = [i.mean() for i in ((pd.Series(x_list_gyr)**2 + pd.Series(y_list_gyr)**2 + pd.Series(z_list_gyr)**2)**0.5)]\n",
        "\n",
        "\n",
        "\n",
        "# signal magnitude area\n",
        "X_train['sma_acc'] =    pd.Series(x_list_acc).apply(lambda x: np.sum(abs(x)/100)) + pd.Series(y_list_acc).apply(lambda x: np.sum(abs(x)/100)) \\\n",
        "                  + pd.Series(z_list_acc).apply(lambda x: np.sum(abs(x)/100))\n",
        "\n",
        "X_train['sma_gyr'] =    pd.Series(x_list_gyr).apply(lambda x: np.sum(abs(x)/100)) + pd.Series(y_list_gyr).apply(lambda x: np.sum(abs(x)/100)) \\\n",
        "                  + pd.Series(z_list_gyr).apply(lambda x: np.sum(abs(x)/100))\n",
        "\n",
        "\n",
        "y_train = np.array(train_labels)\n"
      ],
      "execution_count": null,
      "outputs": []
    },
    {
      "cell_type": "markdown",
      "metadata": {
        "id": "LxKALh-j7D0K"
      },
      "source": [
        "Test Data"
      ]
    },
    {
      "cell_type": "code",
      "metadata": {
        "id": "uv0pUkgn6dxS"
      },
      "source": [
        "x_list_acc = []\n",
        "y_list_acc = []\n",
        "z_list_acc = []\n",
        "x_list_gyr = []\n",
        "y_list_gyr = []\n",
        "z_list_gyr = []\n",
        "test_labels = []\n",
        "\n",
        "# window_size = 100\n",
        "# step_size = 50\n",
        "\n",
        "# creating overlaping windows of size window-size 100\n",
        "for i in range(0, df_test.shape[0] - window_size, step_size):\n",
        "    accx = df_test['AccX'].values[i: i + window_size]\n",
        "    accy = df_test['AccY'].values[i: i + window_size]\n",
        "    accz = df_test['AccY'].values[i: i + window_size]\n",
        "    gyrx = df_test['GyrX'].values[i: i + window_size]\n",
        "    gyry = df_test['GyrY'].values[i: i + window_size]\n",
        "    gyrz = df_test['GyrZ'].values[i: i + window_size]\n",
        "    label = stats.mode(df_test['Label'][i: i + 100])[0][0]\n",
        "\n",
        "    x_list_acc.append(accx)\n",
        "    y_list_acc.append(accy)\n",
        "    z_list_acc.append(accz)\n",
        "    x_list_gyr.append(gyrx)\n",
        "    y_list_gyr.append(gyry)\n",
        "    z_list_gyr.append(gyrz)\n",
        "    test_labels.append(label)\n",
        "\n",
        "# Statistical Features on raw x, y and z in time domain\n",
        "X_test = pd.DataFrame()\n",
        "\n",
        "# mean\n",
        "X_test['x_mean_acc'] = pd.Series(x_list_acc).apply(lambda x: x.mean())\n",
        "X_test['y_mean_acc'] = pd.Series(y_list_acc).apply(lambda x: x.mean())\n",
        "X_test['z_mean_acc'] = pd.Series(z_list_acc).apply(lambda x: x.mean())\n",
        "X_test['x_mean_gyr'] = pd.Series(x_list_gyr).apply(lambda x: x.mean())\n",
        "X_test['y_mean_gyr'] = pd.Series(y_list_gyr).apply(lambda x: x.mean())\n",
        "X_test['z_mean_gyr'] = pd.Series(z_list_gyr).apply(lambda x: x.mean())\n",
        "\n",
        "# std dev\n",
        "X_test['x_std_acc'] = pd.Series(x_list_acc).apply(lambda x: x.std())\n",
        "X_test['y_std_acc'] = pd.Series(y_list_acc).apply(lambda x: x.std())\n",
        "X_test['z_std_acc'] = pd.Series(z_list_acc).apply(lambda x: x.std())\n",
        "X_test['x_std_gyr'] = pd.Series(x_list_gyr).apply(lambda x: x.std())\n",
        "X_test['y_std_gyr'] = pd.Series(y_list_gyr).apply(lambda x: x.std())\n",
        "X_test['z_std_gyr'] = pd.Series(z_list_gyr).apply(lambda x: x.std())\n",
        "\n",
        "# avg absolute diff\n",
        "X_test['x_aad_acc'] = pd.Series(x_list_acc).apply(lambda x: np.mean(np.absolute(x - np.mean(x))))\n",
        "X_test['y_aad_acc'] = pd.Series(y_list_acc).apply(lambda x: np.mean(np.absolute(x - np.mean(x))))\n",
        "X_test['z_aad_acc'] = pd.Series(z_list_acc).apply(lambda x: np.mean(np.absolute(x - np.mean(x))))\n",
        "X_test['x_aad_gyr'] = pd.Series(x_list_gyr).apply(lambda x: np.mean(np.absolute(x - np.mean(x))))\n",
        "X_test['y_aad_gyr'] = pd.Series(y_list_gyr).apply(lambda x: np.mean(np.absolute(x - np.mean(x))))\n",
        "X_test['z_aad_gyr'] = pd.Series(z_list_gyr).apply(lambda x: np.mean(np.absolute(x - np.mean(x))))\n",
        "\n",
        "# min\n",
        "X_test['x_min_acc'] = pd.Series(x_list_acc).apply(lambda x: x.min())\n",
        "X_test['y_min_acc'] = pd.Series(y_list_acc).apply(lambda x: x.min())\n",
        "X_test['z_min_acc'] = pd.Series(z_list_acc).apply(lambda x: x.min())\n",
        "X_test['x_min_gyr'] = pd.Series(x_list_gyr).apply(lambda x: x.min())\n",
        "X_test['y_min_gyr'] = pd.Series(y_list_gyr).apply(lambda x: x.min())\n",
        "X_test['z_min_gyr'] = pd.Series(z_list_gyr).apply(lambda x: x.min())\n",
        "\n",
        "\n",
        "# max\n",
        "X_test['x_max_acc'] = pd.Series(x_list_acc).apply(lambda x: x.max())\n",
        "X_test['y_max_acc'] = pd.Series(y_list_acc).apply(lambda x: x.max())\n",
        "X_test['z_max_acc'] = pd.Series(z_list_acc).apply(lambda x: x.max())\n",
        "X_test['x_max_gyr'] = pd.Series(x_list_gyr).apply(lambda x: x.max())\n",
        "X_test['y_max_gyr'] = pd.Series(y_list_gyr).apply(lambda x: x.max())\n",
        "X_test['z_max_gyr'] = pd.Series(z_list_gyr).apply(lambda x: x.max())\n",
        "\n",
        "# max-min diff\n",
        "X_test['x_maxmin_diff_acc'] = X_test['x_max_acc'] - X_test['x_min_acc']\n",
        "X_test['y_maxmin_diff_acc'] = X_test['y_max_acc'] - X_test['y_min_acc']\n",
        "X_test['z_maxmin_diff_acc'] = X_test['z_max_acc'] - X_test['z_min_acc']\n",
        "X_test['x_maxmin_diff_gyr'] = X_test['x_max_gyr'] - X_test['x_min_gyr']\n",
        "X_test['y_maxmin_diff_gyr'] = X_test['y_max_gyr'] - X_test['y_min_gyr']\n",
        "X_test['z_maxmin_diff_gyr'] = X_test['z_max_gyr'] - X_test['z_min_gyr']\n",
        "\n",
        "# median\n",
        "X_test['x_median_acc'] = pd.Series(x_list_acc).apply(lambda x: np.median(x))\n",
        "X_test['y_median_acc'] = pd.Series(y_list_acc).apply(lambda x: np.median(x))\n",
        "X_test['z_median_acc'] = pd.Series(z_list_acc).apply(lambda x: np.median(x))\n",
        "X_test['x_median_gyr'] = pd.Series(x_list_gyr).apply(lambda x: np.median(x))\n",
        "X_test['y_median_gyr'] = pd.Series(y_list_gyr).apply(lambda x: np.median(x))\n",
        "X_test['z_median_gyr'] = pd.Series(z_list_gyr).apply(lambda x: np.median(x))\n",
        "\n",
        "# median abs dev \n",
        "X_test['x_mad_acc'] = pd.Series(x_list_acc).apply(lambda x: np.median(np.absolute(x - np.median(x))))\n",
        "X_test['y_mad_acc'] = pd.Series(y_list_acc).apply(lambda x: np.median(np.absolute(x - np.median(x))))\n",
        "X_test['z_mad_acc'] = pd.Series(z_list_acc).apply(lambda x: np.median(np.absolute(x - np.median(x))))\n",
        "\n",
        "X_test['x_mad_gyr'] = pd.Series(x_list_gyr).apply(lambda x: np.median(np.absolute(x - np.median(x))))\n",
        "X_test['y_mad_gyr'] = pd.Series(y_list_gyr).apply(lambda x: np.median(np.absolute(x - np.median(x))))\n",
        "X_test['z_mad_gyr'] = pd.Series(z_list_gyr).apply(lambda x: np.median(np.absolute(x - np.median(x))))\n",
        "\n",
        "# interquartile range\n",
        "X_test['x_IQR_acc'] = pd.Series(x_list_acc).apply(lambda x: np.percentile(x, 75) - np.percentile(x, 25))\n",
        "X_test['y_IQR_acc'] = pd.Series(y_list_acc).apply(lambda x: np.percentile(x, 75) - np.percentile(x, 25))\n",
        "X_test['z_IQR_acc'] = pd.Series(z_list_acc).apply(lambda x: np.percentile(x, 75) - np.percentile(x, 25))\n",
        "\n",
        "X_test['x_IQR_gyr'] = pd.Series(x_list_gyr).apply(lambda x: np.percentile(x, 75) - np.percentile(x, 25))\n",
        "X_test['y_IQR_gyr'] = pd.Series(y_list_gyr).apply(lambda x: np.percentile(x, 75) - np.percentile(x, 25))\n",
        "X_test['z_IQR_gyr'] = pd.Series(z_list_gyr).apply(lambda x: np.percentile(x, 75) - np.percentile(x, 25))\n",
        "\n",
        "# negtive count\n",
        "X_test['x_neg_count_acc'] = pd.Series(x_list_acc).apply(lambda x: np.sum(x < 0))\n",
        "X_test['y_neg_count_acc'] = pd.Series(y_list_acc).apply(lambda x: np.sum(x < 0))\n",
        "X_test['z_neg_count_acc'] = pd.Series(z_list_acc).apply(lambda x: np.sum(x < 0))\n",
        "\n",
        "X_test['x_neg_count_gyr'] = pd.Series(x_list_gyr).apply(lambda x: np.sum(x < 0))\n",
        "X_test['y_neg_count_gyr'] = pd.Series(y_list_gyr).apply(lambda x: np.sum(x < 0))\n",
        "X_test['z_neg_count_gyr'] = pd.Series(z_list_gyr).apply(lambda x: np.sum(x < 0))\n",
        "\n",
        "# positive count\n",
        "X_test['x_pos_count_acc'] = pd.Series(x_list_acc).apply(lambda x: np.sum(x > 0))\n",
        "X_test['y_pos_count_acc'] = pd.Series(y_list_acc).apply(lambda x: np.sum(x > 0))\n",
        "X_test['z_pos_count_acc'] = pd.Series(z_list_acc).apply(lambda x: np.sum(x > 0))\n",
        "\n",
        "X_test['x_pos_count_gyr'] = pd.Series(x_list_gyr).apply(lambda x: np.sum(x > 0))\n",
        "X_test['y_pos_count_gyr'] = pd.Series(y_list_gyr).apply(lambda x: np.sum(x > 0))\n",
        "X_test['z_pos_count_gyr'] = pd.Series(z_list_gyr).apply(lambda x: np.sum(x > 0))\n",
        "\n",
        "# values above mean\n",
        "X_test['x_above_mean_acc'] = pd.Series(x_list_acc).apply(lambda x: np.sum(x > x.mean()))\n",
        "X_test['y_above_mean_acc'] = pd.Series(y_list_acc).apply(lambda x: np.sum(x > x.mean()))\n",
        "X_test['z_above_mean_acc'] = pd.Series(z_list_acc).apply(lambda x: np.sum(x > x.mean()))\n",
        "\n",
        "X_test['x_above_mean_gyr'] = pd.Series(x_list_gyr).apply(lambda x: np.sum(x > x.mean()))\n",
        "X_test['y_above_mean_gyr'] = pd.Series(y_list_gyr).apply(lambda x: np.sum(x > x.mean()))\n",
        "X_test['z_above_mean_gyr'] = pd.Series(z_list_gyr).apply(lambda x: np.sum(x > x.mean()))\n",
        "\n",
        "# number of peaks\n",
        "X_test['x_peak_count_acc'] = pd.Series(x_list_acc).apply(lambda x: len(find_peaks(x)[0]))\n",
        "X_test['y_peak_count_acc'] = pd.Series(y_list_acc).apply(lambda x: len(find_peaks(x)[0]))\n",
        "X_test['z_peak_count_acc'] = pd.Series(z_list_acc).apply(lambda x: len(find_peaks(x)[0]))\n",
        "\n",
        "X_test['x_peak_count_gyr'] = pd.Series(x_list_gyr).apply(lambda x: len(find_peaks(x)[0]))\n",
        "X_test['y_peak_count_gyr'] = pd.Series(y_list_gyr).apply(lambda x: len(find_peaks(x)[0]))\n",
        "X_test['z_peak_count_gyr'] = pd.Series(z_list_gyr).apply(lambda x: len(find_peaks(x)[0]))\n",
        "\n",
        "# skewness\n",
        "X_test['x_skewness_acc'] = pd.Series(x_list_acc).apply(lambda x: stats.skew(x))\n",
        "X_test['y_skewness_acc'] = pd.Series(y_list_acc).apply(lambda x: stats.skew(x))\n",
        "X_test['z_skewness_acc'] = pd.Series(z_list_acc).apply(lambda x: stats.skew(x))\n",
        "\n",
        "X_test['x_skewness_gyr'] = pd.Series(x_list_gyr).apply(lambda x: stats.skew(x))\n",
        "X_test['y_skewness_gyr'] = pd.Series(y_list_gyr).apply(lambda x: stats.skew(x))\n",
        "X_test['z_skewness_gyr'] = pd.Series(z_list_gyr).apply(lambda x: stats.skew(x))\n",
        "\n",
        "# kurtosis\n",
        "X_test['x_kurtosis_acc'] = pd.Series(x_list_acc).apply(lambda x: stats.kurtosis(x))\n",
        "X_test['y_kurtosis_acc'] = pd.Series(y_list_acc).apply(lambda x: stats.kurtosis(x))\n",
        "X_test['z_kurtosis_acc'] = pd.Series(z_list_acc).apply(lambda x: stats.kurtosis(x))\n",
        "\n",
        "X_test['x_kurtosis_gyr'] = pd.Series(x_list_gyr).apply(lambda x: stats.kurtosis(x))\n",
        "X_test['y_kurtosis_gyr'] = pd.Series(y_list_gyr).apply(lambda x: stats.kurtosis(x))\n",
        "X_test['z_kurtosis_gyr'] = pd.Series(z_list_gyr).apply(lambda x: stats.kurtosis(x))\n",
        "\n",
        "# energy\n",
        "X_test['x_energy_acc'] = pd.Series(x_list_acc).apply(lambda x: np.sum(x**2)/100)\n",
        "X_test['y_energy_acc'] = pd.Series(y_list_acc).apply(lambda x: np.sum(x**2)/100)\n",
        "X_test['z_energy_acc'] = pd.Series(z_list_acc).apply(lambda x: np.sum(x**2/100))\n",
        "\n",
        "X_test['x_energy_gyr'] = pd.Series(x_list_gyr).apply(lambda x: np.sum(x**2)/100)\n",
        "X_test['y_energy_gyr'] = pd.Series(y_list_gyr).apply(lambda x: np.sum(x**2)/100)\n",
        "X_test['z_energy_gyr'] = pd.Series(z_list_gyr).apply(lambda x: np.sum(x**2/100))\n",
        "\n",
        "# avg resultant\n",
        "X_test['avg_result_acc'] = [i.mean() for i in ((pd.Series(x_list_acc)**2 + pd.Series(y_list_acc)**2 + pd.Series(z_list_acc)**2)**0.5)]\n",
        "X_test['avg_result_gyr'] = [i.mean() for i in ((pd.Series(x_list_gyr)**2 + pd.Series(y_list_gyr)**2 + pd.Series(z_list_gyr)**2)**0.5)]\n",
        "\n",
        "\n",
        "\n",
        "# signal magnitude area\n",
        "X_test['sma_acc'] =    pd.Series(x_list_acc).apply(lambda x: np.sum(abs(x)/100)) + pd.Series(y_list_acc).apply(lambda x: np.sum(abs(x)/100)) \\\n",
        "                  + pd.Series(z_list_acc).apply(lambda x: np.sum(abs(x)/100))\n",
        "\n",
        "X_test['sma_gyr'] =    pd.Series(x_list_gyr).apply(lambda x: np.sum(abs(x)/100)) + pd.Series(y_list_gyr).apply(lambda x: np.sum(abs(x)/100)) \\\n",
        "                  + pd.Series(z_list_gyr).apply(lambda x: np.sum(abs(x)/100))\n",
        "\n",
        "y_test = np.array(test_labels)"
      ],
      "execution_count": null,
      "outputs": []
    },
    {
      "cell_type": "code",
      "metadata": {
        "id": "jHbGr7Ja_ow2"
      },
      "source": [
        "# y_train = np.array(train_labels)\n",
        "# y_test = np.array(test_labels)"
      ],
      "execution_count": null,
      "outputs": []
    },
    {
      "cell_type": "markdown",
      "metadata": {
        "id": "FH-Z5UZx7bKA"
      },
      "source": [
        "#### Data Normalization"
      ]
    },
    {
      "cell_type": "code",
      "metadata": {
        "id": "yj2E8rce_3pb"
      },
      "source": [
        "from sklearn.preprocessing import StandardScaler,MinMaxScaler\n",
        "\n",
        "scaler = MinMaxScaler()\n",
        "scaler.fit(X_train)\n",
        "X_train= scaler.transform(X_train)\n",
        "X_test= scaler.transform(X_test)"
      ],
      "execution_count": null,
      "outputs": []
    },
    {
      "cell_type": "code",
      "metadata": {
        "colab": {
          "base_uri": "https://localhost:8080/"
        },
        "id": "iKQ1COCHEaq_",
        "outputId": "d555fd47-a73e-47e7-a93b-3c5b982eabcb"
      },
      "source": [
        "X_train.shape\n"
      ],
      "execution_count": null,
      "outputs": [
        {
          "output_type": "execute_result",
          "data": {
            "text/plain": [
              "(76874, 100)"
            ]
          },
          "metadata": {},
          "execution_count": 20
        }
      ]
    },
    {
      "cell_type": "code",
      "metadata": {
        "colab": {
          "base_uri": "https://localhost:8080/"
        },
        "id": "9JcdkZx0Eo0K",
        "outputId": "879f19be-2dfd-413a-99d1-d96dad6b7a40"
      },
      "source": [
        "y_train.shape"
      ],
      "execution_count": null,
      "outputs": [
        {
          "output_type": "execute_result",
          "data": {
            "text/plain": [
              "(76874,)"
            ]
          },
          "metadata": {},
          "execution_count": 21
        }
      ]
    },
    {
      "cell_type": "code",
      "metadata": {
        "colab": {
          "base_uri": "https://localhost:8080/"
        },
        "id": "2hbdohYIFwdK",
        "outputId": "66d71f48-ede5-4cbb-ae3d-ece5cbb52c0d"
      },
      "source": [
        "X_test.shape"
      ],
      "execution_count": null,
      "outputs": [
        {
          "output_type": "execute_result",
          "data": {
            "text/plain": [
              "(11561, 100)"
            ]
          },
          "metadata": {},
          "execution_count": 22
        }
      ]
    },
    {
      "cell_type": "code",
      "metadata": {
        "colab": {
          "base_uri": "https://localhost:8080/"
        },
        "id": "VtIMvCNbFyr2",
        "outputId": "04f5fe42-0f05-4d44-b733-e6b557d3fd47"
      },
      "source": [
        "y_test.shape"
      ],
      "execution_count": null,
      "outputs": [
        {
          "output_type": "execute_result",
          "data": {
            "text/plain": [
              "(11561,)"
            ]
          },
          "metadata": {},
          "execution_count": 23
        }
      ]
    },
    {
      "cell_type": "markdown",
      "metadata": {
        "id": "t_0LVtnQmrcw"
      },
      "source": [
        "### Perform 5 Class Classification using Decision Tree"
      ]
    },
    {
      "cell_type": "code",
      "metadata": {
        "colab": {
          "base_uri": "https://localhost:8080/"
        },
        "id": "Dc94gR1Qgdhi",
        "outputId": "2f564835-481b-455e-932a-b3389c6c4ee6"
      },
      "source": [
        "## Decision Tree\n",
        "\n",
        "from sklearn.tree import DecisionTreeClassifier\n",
        "clf = DecisionTreeClassifier().fit(X_train, y_train)\n",
        "print('Accuracy of Decision Tree classifier on training set: {:.2f}'\n",
        "     .format(clf.score(X_train, y_train)))\n",
        "print('Accuracy of Decision Tree classifier on test set: {:.2f}'\n",
        "     .format(clf.score(X_test, y_test)))"
      ],
      "execution_count": null,
      "outputs": [
        {
          "output_type": "stream",
          "text": [
            "Accuracy of Decision Tree classifier on training set: 1.00\n",
            "Accuracy of Decision Tree classifier on test set: 0.95\n"
          ],
          "name": "stdout"
        }
      ]
    },
    {
      "cell_type": "code",
      "metadata": {
        "colab": {
          "base_uri": "https://localhost:8080/"
        },
        "id": "enGXJ4vbBVKz",
        "outputId": "afb27f65-d20f-435c-f280-eb5aa4bc1569"
      },
      "source": [
        "y_test.shape"
      ],
      "execution_count": null,
      "outputs": [
        {
          "output_type": "execute_result",
          "data": {
            "text/plain": [
              "(11561,)"
            ]
          },
          "metadata": {},
          "execution_count": 25
        }
      ]
    },
    {
      "cell_type": "markdown",
      "metadata": {
        "id": "_oMlCqAeA1lW"
      },
      "source": [
        "#### Classfication Matrix for Decision Tree\n"
      ]
    },
    {
      "cell_type": "code",
      "metadata": {
        "colab": {
          "base_uri": "https://localhost:8080/",
          "height": 297
        },
        "id": "WbypwDxwBALv",
        "outputId": "b01576ad-7154-42e4-9e70-0fed97da3b61"
      },
      "source": [
        "from sklearn.metrics import plot_confusion_matrix\n",
        "plot_confusion_matrix(clf, X_test, y_test) "
      ],
      "execution_count": null,
      "outputs": [
        {
          "output_type": "execute_result",
          "data": {
            "text/plain": [
              "<sklearn.metrics._plot.confusion_matrix.ConfusionMatrixDisplay at 0x7f679043f190>"
            ]
          },
          "metadata": {},
          "execution_count": 26
        },
        {
          "output_type": "display_data",
          "data": {
            "image/png": "[encoded data removed]",
            "text/plain": [
              "<Figure size 432x288 with 2 Axes>"
            ]
          },
          "metadata": {
            "needs_background": "light"
          }
        }
      ]
    },
    {
      "cell_type": "code",
      "metadata": {
        "id": "Z_a-L57gBsIZ"
      },
      "source": [
        "y_pred = clf.predict(X_test)"
      ],
      "execution_count": null,
      "outputs": []
    },
    {
      "cell_type": "code",
      "metadata": {
        "colab": {
          "base_uri": "https://localhost:8080/"
        },
        "id": "r1-rXU9fBibC",
        "outputId": "98dc512b-9279-44e2-e08a-a4bf3d8855cc"
      },
      "source": [
        "from sklearn.metrics import classification_report\n",
        "print(classification_report(y_test, y_pred))"
      ],
      "execution_count": null,
      "outputs": [
        {
          "output_type": "stream",
          "text": [
            "              precision    recall  f1-score   support\n",
            "\n",
            "           0       0.96      0.96      0.96      7065\n",
            "           1       0.91      0.90      0.91      1087\n",
            "           2       0.93      0.94      0.93      1120\n",
            "           3       0.93      0.93      0.93      1164\n",
            "           4       0.99      1.00      0.99      1125\n",
            "\n",
            "    accuracy                           0.95     11561\n",
            "   macro avg       0.94      0.95      0.94     11561\n",
            "weighted avg       0.95      0.95      0.95     11561\n",
            "\n"
          ],
          "name": "stdout"
        }
      ]
    },
    {
      "cell_type": "markdown",
      "metadata": {
        "id": "Fxa6wN0h7rOm"
      },
      "source": [
        "### Perform 5 Class Classification using Random Forest "
      ]
    },
    {
      "cell_type": "code",
      "metadata": {
        "id": "mIcP_maRghzW",
        "colab": {
          "base_uri": "https://localhost:8080/"
        },
        "outputId": "d415d4dc-2de9-4c8f-aab6-1f2e9b1028cc"
      },
      "source": [
        "## Random Forest Clasifier\n",
        "\n",
        "from sklearn.ensemble import RandomForestClassifier\n",
        "rf = RandomForestClassifier() # n_estimator = 100,150,200,250, criteria = 'gini','entropy', bootstrap = True\n",
        "rf.fit(X_train, y_train)\n",
        "print('Accuracy of Random Forest classifier on training set: {:.2f}'\n",
        "     .format(rf.score(X_train, y_train)))\n",
        "print('Accuracy of Random Forest classifier on test set: {:.2f}'\n",
        "     .format(rf.score(X_test, y_test)))"
      ],
      "execution_count": null,
      "outputs": [
        {
          "output_type": "stream",
          "text": [
            "Accuracy of Random Forest classifier on training set: 1.00\n",
            "Accuracy of Random Forest classifier on test set: 0.97\n"
          ],
          "name": "stdout"
        }
      ]
    },
    {
      "cell_type": "markdown",
      "metadata": {
        "id": "nO2ARqzh7-r6"
      },
      "source": [
        "#### Save the model"
      ]
    },
    {
      "cell_type": "code",
      "metadata": {
        "colab": {
          "base_uri": "https://localhost:8080/"
        },
        "id": "M0mHB2jrWej5",
        "outputId": "8d297e8c-e631-449d-f72e-51b583fe88bc"
      },
      "source": [
        "import joblib\n",
        "joblib.dump(rf, \"ML/gyrModel.joblib\")\n",
        "\n",
        "# with open('ML/gyrModel.pkl', 'wb') as f:\n",
        "#     cPickle.dump(rf, f)"
      ],
      "execution_count": null,
      "outputs": [
        {
          "output_type": "execute_result",
          "data": {
            "text/plain": [
              "['ML/gyrModel.joblib']"
            ]
          },
          "metadata": {},
          "execution_count": 40
        }
      ]
    },
    {
      "cell_type": "markdown",
      "metadata": {
        "id": "c1mhzAVW8CyU"
      },
      "source": [
        "#### Metrics for Random Forest Algorithm"
      ]
    },
    {
      "cell_type": "code",
      "metadata": {
        "id": "3mkiwQyqutrz"
      },
      "source": [
        "y_pred = rf.predict(X_test)"
      ],
      "execution_count": null,
      "outputs": []
    },
    {
      "cell_type": "code",
      "metadata": {
        "colab": {
          "base_uri": "https://localhost:8080/"
        },
        "id": "wMrt3PwyuxY5",
        "outputId": "f85f84df-47df-4299-ada5-a1b9388a4ffa"
      },
      "source": [
        "from sklearn.metrics import classification_report\n",
        "print(classification_report(y_test, y_pred))"
      ],
      "execution_count": null,
      "outputs": [
        {
          "output_type": "stream",
          "text": [
            "              precision    recall  f1-score   support\n",
            "\n",
            "           0       0.97      0.98      0.98      7065\n",
            "           1       0.97      0.90      0.94      1087\n",
            "           2       0.97      0.94      0.95      1120\n",
            "           3       0.96      0.96      0.96      1164\n",
            "           4       0.99      0.99      0.99      1125\n",
            "\n",
            "    accuracy                           0.97     11561\n",
            "   macro avg       0.97      0.96      0.96     11561\n",
            "weighted avg       0.97      0.97      0.97     11561\n",
            "\n"
          ],
          "name": "stdout"
        }
      ]
    },
    {
      "cell_type": "code",
      "metadata": {
        "colab": {
          "base_uri": "https://localhost:8080/",
          "height": 297
        },
        "id": "h0NEJ5c6u2kV",
        "outputId": "acbf66f9-a923-450e-92eb-af2d9d139b0f"
      },
      "source": [
        "from sklearn.metrics import plot_confusion_matrix\n",
        "plot_confusion_matrix(clf, X_test, y_test) "
      ],
      "execution_count": null,
      "outputs": [
        {
          "output_type": "execute_result",
          "data": {
            "text/plain": [
              "<sklearn.metrics._plot.confusion_matrix.ConfusionMatrixDisplay at 0x7f6790ccd810>"
            ]
          },
          "metadata": {},
          "execution_count": 36
        },
        {
          "output_type": "display_data",
          "data": {
            "image/png": "[encoded data removed]",
            "text/plain": [
              "<Figure size 432x288 with 2 Axes>"
            ]
          },
          "metadata": {
            "needs_background": "light"
          }
        }
      ]
    },
    {
      "cell_type": "code",
      "metadata": {
        "id": "GI8HkLzHWM9M"
      },
      "source": [
        "from sklearn.metrics import confusion_matrix\n",
        "\n",
        "cf_matrix= confusion_matrix(y_test, y_pred)\n"
      ],
      "execution_count": null,
      "outputs": []
    },
    {
      "cell_type": "code",
      "metadata": {
        "colab": {
          "base_uri": "https://localhost:8080/",
          "height": 330
        },
        "id": "TVkWc5LJV9IR",
        "outputId": "b015ceb0-9a72-4cd8-decc-c767c264338a"
      },
      "source": [
        "import seaborn as sns\n",
        "import matplotlib.pyplot as plt     \n",
        "\n",
        "ax= plt.subplot()\n",
        "sns.heatmap(cf_matrix, annot=True, fmt='g', ax=ax,cmap=\"Blues\");  #annot=True to annotate cells, ftm='g' to disable scientific notation\n",
        "\n",
        "# labels, title and ticks\n",
        "ax.set_xlabel('Predicted labels');ax.set_ylabel('True labels'); \n",
        "ax.set_title('Confusion Matrix'); \n",
        "ax.xaxis.set_ticklabels(['Fault-free', 'Bias','Stuckat','Noise','Pack.Drop'],rotation=45); \n",
        "ax.yaxis.set_ticklabels(['Fault-free', 'Bias','Stuckat','Noise','Pack.Drop'],rotation=45);\n",
        "ax.xaxis.tick_top()\n"
      ],
      "execution_count": null,
      "outputs": [
        {
          "output_type": "display_data",
          "data": {
            "image/png": "[encoded data removed]",
            "text/plain": [
              "<Figure size 432x288 with 2 Axes>"
            ]
          },
          "metadata": {
            "needs_background": "light"
          }
        }
      ]
    },
    {
      "cell_type": "code",
      "metadata": {
        "id": "7OduKcfut3TF"
      },
      "source": [
        "# ## Support Vector Machine (SVM)\n",
        "\n",
        "# from sklearn.svm import SVC\n",
        "# svm = SVC()\n",
        "# svm.fit(X_train, y_train.values.ravel())\n",
        "# print('Accuracy of SVM classifier on training set: {:.2f}'\n",
        "#      .format(svm.score(X_train, y_train)))\n",
        "# print('Accuracy of SVM classifier on test set: {:.2f}'\n",
        "#      .format(svm.score(X_test, y_test)))"
      ],
      "execution_count": null,
      "outputs": []
    }
  ]
}