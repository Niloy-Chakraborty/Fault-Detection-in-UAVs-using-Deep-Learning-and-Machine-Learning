{
  "nbformat": 4,
  "nbformat_minor": 0,
  "metadata": {
    "accelerator": "GPU",
    "colab": {
      "name": "Gyr_Feature_Engineering_CNN_LSTM_5_Class_Seq2Label.ipynb",
      "provenance": [],
      "collapsed_sections": [],
      "machine_shape": "hm"
    },
    "kernelspec": {
      "display_name": "Python 3",
      "language": "python",
      "name": "python3"
    },
    "language_info": {
      "codemirror_mode": {
        "name": "ipython",
        "version": 3
      },
      "file_extension": ".py",
      "mimetype": "text/x-python",
      "name": "python",
      "nbconvert_exporter": "python",
      "pygments_lexer": "ipython3",
      "version": "3.7.6"
    }
  },
  "cells": [
    {
      "cell_type": "markdown",
      "metadata": {
        "id": "Qzb1cp78-lji"
      },
      "source": [
        "### Training Script for Gyroscope Dataset using Feature Engineering and Hybrid CNN-LSTM Architecture \n",
        "\n",
        "@ Author : Niloy Chakraborty\n",
        "\n",
        "@ Author Contact: chakrabortyniloy2018@gmail.com"
      ]
    },
    {
      "cell_type": "code",
      "metadata": {
        "colab": {
          "base_uri": "https://localhost:8080/"
        },
        "id": "EGsE8YI5-usc",
        "outputId": "d44a9a7f-905f-4a5a-c114-376c4c08bc61"
      },
      "source": [
        "# Connect to Google Colab.  If using Jupyter, then comment this part\n",
        "from google.colab import drive\n",
        "drive.mount('/gdrive')\n",
        "%cd /gdrive/MyDrive/THESIS/"
      ],
      "execution_count": null,
      "outputs": [
        {
          "name": "stdout",
          "output_type": "stream",
          "text": [
            "Drive already mounted at /gdrive; to attempt to forcibly remount, call drive.mount(\"/gdrive\", force_remount=True).\n",
            "/gdrive/MyDrive/THESIS\n"
          ]
        }
      ]
    },
    {
      "cell_type": "markdown",
      "metadata": {
        "id": "DyZtcnIU23qv"
      },
      "source": [
        "#### Load the Libraries"
      ]
    },
    {
      "cell_type": "code",
      "metadata": {
        "id": "wdHJiHE7-ljl"
      },
      "source": [
        "import h5py\n",
        "import numpy as np\n",
        "import pandas as pd\n",
        "import matplotlib.pyplot as plt\n",
        "from os import listdir\n",
        "from os.path import isfile, join\n",
        "# import tensorflow_addons as tfa\n",
        "from scipy import stats\n",
        "from scipy.signal import find_peaks\n"
      ],
      "execution_count": null,
      "outputs": []
    },
    {
      "cell_type": "code",
      "metadata": {
        "id": "9Jmy2PiCc7jX"
      },
      "source": [
        "import os\n",
        "import yaml\n",
        "\n",
        "import tensorflow as tf\n",
        "\n",
        "from tensorflow.keras.models import Model,Sequential\n",
        "from tensorflow.keras.layers import LSTM, Dropout,Dense,RepeatVector,TimeDistributed,Input,BatchNormalization\n",
        "from tensorflow.keras.layers import Conv1D\n",
        "from tensorflow.keras.layers import MaxPooling1D\n",
        "from tensorflow.keras.layers import Flatten\n",
        "\n",
        "from tensorflow.keras.callbacks import TensorBoard\n",
        "from tensorflow.keras.callbacks import ModelCheckpoint\n",
        "from tensorflow.keras.callbacks import LearningRateScheduler\n",
        "from tensorflow.keras.optimizers import Adam as adam\n",
        "\n",
        "from sklearn.model_selection import train_test_split\n",
        "from sklearn.metrics import classification_report\n",
        "\n",
        "from tensorflow.keras.models import load_model"
      ],
      "execution_count": null,
      "outputs": []
    },
    {
      "cell_type": "markdown",
      "metadata": {
        "id": "eXaYljAl3Byn"
      },
      "source": [
        "#### Load the Training Data and Explore"
      ]
    },
    {
      "cell_type": "code",
      "metadata": {
        "id": "0Vzjw_qNPF2r"
      },
      "source": [
        "Category = \"Gyr_FeatureEngg_CNN_LSTM_5_Class\""
      ],
      "execution_count": null,
      "outputs": []
    },
    {
      "cell_type": "code",
      "metadata": {
        "id": "TzetVnbSiKjb"
      },
      "source": [
        "# Change data path here\n",
        "filepath = 'Gyr_25_secs_final_combined_faulty_data_train.csv'"
      ],
      "execution_count": null,
      "outputs": []
    },
    {
      "cell_type": "code",
      "metadata": {
        "id": "julalftVgSAm"
      },
      "source": [
        "header = ['AccX','AccY','AccZ','GyrX','GyrY','GyrZ','Altitude','Cmd1','Cmd2','Cmd3','Cmd4','Roll','Pitch','Yaw','ThurstRefOut1','ThurstRefOut2','ThurstRefOut3','ThurstRefOut4','Label']"
      ],
      "execution_count": null,
      "outputs": []
    },
    {
      "cell_type": "code",
      "metadata": {
        "colab": {
          "base_uri": "https://localhost:8080/",
          "height": 348
        },
        "id": "3tDfdbhDgCgl",
        "outputId": "2df37221-b50a-4370-d56f-7e02d6fe5c77"
      },
      "source": [
        "df = pd.read_csv(filepath, header = None)\n",
        "df = df.rename(columns=df.iloc[0]).drop(df.index[0])\n",
        "df = df.iloc[:, 1:]\n",
        "df[\"Label\"] = pd.to_numeric(df[\"Label\"])\n",
        "df.head()"
      ],
      "execution_count": null,
      "outputs": [
        {
          "name": "stderr",
          "output_type": "stream",
          "text": [
            "/usr/local/lib/python3.7/dist-packages/IPython/core/interactiveshell.py:2718: DtypeWarning: Columns (1,2,3,4,5,6,7,8,9,10,11,12,13,14,15,16,17,18,19) have mixed types.Specify dtype option on import or set low_memory=False.\n",
            "  interactivity=interactivity, compiler=compiler, result=result)\n"
          ]
        },
        {
          "data": {
            "text/html": [
              "<div>\n",
              "<style scoped>\n",
              "    .dataframe tbody tr th:only-of-type {\n",
              "        vertical-align: middle;\n",
              "    }\n",
              "\n",
              "    .dataframe tbody tr th {\n",
              "        vertical-align: top;\n",
              "    }\n",
              "\n",
              "    .dataframe thead th {\n",
              "        text-align: right;\n",
              "    }\n",
              "</style>\n",
              "<table border=\"1\" class=\"dataframe\">\n",
              "  <thead>\n",
              "    <tr style=\"text-align: right;\">\n",
              "      <th></th>\n",
              "      <th>AccX</th>\n",
              "      <th>AccY</th>\n",
              "      <th>AccZ</th>\n",
              "      <th>GyrX</th>\n",
              "      <th>GyrY</th>\n",
              "      <th>GyrZ</th>\n",
              "      <th>Altitude</th>\n",
              "      <th>Cmd1</th>\n",
              "      <th>Cmd2</th>\n",
              "      <th>Cmd3</th>\n",
              "      <th>Cmd4</th>\n",
              "      <th>Roll</th>\n",
              "      <th>Pitch</th>\n",
              "      <th>Yaw</th>\n",
              "      <th>ThurstRefOut1</th>\n",
              "      <th>ThurstRefOut2</th>\n",
              "      <th>ThurstRefOut3</th>\n",
              "      <th>ThurstRefOut4</th>\n",
              "      <th>Label</th>\n",
              "    </tr>\n",
              "  </thead>\n",
              "  <tbody>\n",
              "    <tr>\n",
              "      <th>1</th>\n",
              "      <td>0.03380774</td>\n",
              "      <td>-0.11192460000000001</td>\n",
              "      <td>-9.492839</td>\n",
              "      <td>-0.0098925</td>\n",
              "      <td>-0.007933972</td>\n",
              "      <td>0.00108462</td>\n",
              "      <td>0.44</td>\n",
              "      <td>342.9332</td>\n",
              "      <td>-342.9577</td>\n",
              "      <td>342.8969</td>\n",
              "      <td>-342.9631</td>\n",
              "      <td>-1.965233e-06</td>\n",
              "      <td>-2.155978e-06</td>\n",
              "      <td>-5.859605e-07</td>\n",
              "      <td>-0.22403289999999998</td>\n",
              "      <td>-0.2240489</td>\n",
              "      <td>-0.22400920000000002</td>\n",
              "      <td>-0.22405239999999998</td>\n",
              "      <td>0</td>\n",
              "    </tr>\n",
              "    <tr>\n",
              "      <th>2</th>\n",
              "      <td>-0.116923</td>\n",
              "      <td>-0.2512355</td>\n",
              "      <td>-14.08014</td>\n",
              "      <td>-0.01084344</td>\n",
              "      <td>-0.009036063</td>\n",
              "      <td>-2.253169e-05</td>\n",
              "      <td>0.44</td>\n",
              "      <td>343.0175</td>\n",
              "      <td>-342.912</td>\n",
              "      <td>342.8928</td>\n",
              "      <td>-342.9287</td>\n",
              "      <td>-4.02452e-06</td>\n",
              "      <td>-4.6669999999999995e-06</td>\n",
              "      <td>-7.215308e-08</td>\n",
              "      <td>-0.224088</td>\n",
              "      <td>-0.224019</td>\n",
              "      <td>-0.2240065</td>\n",
              "      <td>-0.22403</td>\n",
              "      <td>0</td>\n",
              "    </tr>\n",
              "    <tr>\n",
              "      <th>3</th>\n",
              "      <td>0.22785189999999997</td>\n",
              "      <td>0.06732436</td>\n",
              "      <td>-13.62979</td>\n",
              "      <td>-0.008328836</td>\n",
              "      <td>-0.006301623</td>\n",
              "      <td>0.0025199379999999998</td>\n",
              "      <td>0.44</td>\n",
              "      <td>342.9608</td>\n",
              "      <td>-342.8717</td>\n",
              "      <td>343.0659</td>\n",
              "      <td>-342.8525</td>\n",
              "      <td>6.818334e-06</td>\n",
              "      <td>7.100436999999999e-06</td>\n",
              "      <td>5.960543e-07</td>\n",
              "      <td>-0.2240509</td>\n",
              "      <td>-0.2239928</td>\n",
              "      <td>-0.2241196</td>\n",
              "      <td>-0.22398020000000002</td>\n",
              "      <td>0</td>\n",
              "    </tr>\n",
              "    <tr>\n",
              "      <th>4</th>\n",
              "      <td>-0.01241245</td>\n",
              "      <td>-0.1545401</td>\n",
              "      <td>-13.94356</td>\n",
              "      <td>-0.01056849</td>\n",
              "      <td>-0.008493732</td>\n",
              "      <td>0.0007364108</td>\n",
              "      <td>0.44</td>\n",
              "      <td>342.8445</td>\n",
              "      <td>-343.066</td>\n",
              "      <td>342.7531</td>\n",
              "      <td>-343.0873</td>\n",
              "      <td>-3.975494e-06</td>\n",
              "      <td>-3.691068e-06</td>\n",
              "      <td>1.940148e-06</td>\n",
              "      <td>-0.223975</td>\n",
              "      <td>-0.2241197</td>\n",
              "      <td>-0.22391529999999998</td>\n",
              "      <td>-0.22413360000000002</td>\n",
              "      <td>0</td>\n",
              "    </tr>\n",
              "    <tr>\n",
              "      <th>5</th>\n",
              "      <td>0.21535289999999999</td>\n",
              "      <td>0.05578018</td>\n",
              "      <td>-13.64611</td>\n",
              "      <td>-0.008419157</td>\n",
              "      <td>-0.006429253</td>\n",
              "      <td>0.00240215</td>\n",
              "      <td>0.44</td>\n",
              "      <td>343.4182</td>\n",
              "      <td>-342.416</td>\n",
              "      <td>343.5187</td>\n",
              "      <td>-342.3979</td>\n",
              "      <td>1.696333e-05</td>\n",
              "      <td>1.88649e-05</td>\n",
              "      <td>1.3310810000000002e-05</td>\n",
              "      <td>-0.22434980000000002</td>\n",
              "      <td>-0.2236951</td>\n",
              "      <td>-0.2244154</td>\n",
              "      <td>-0.2236833</td>\n",
              "      <td>0</td>\n",
              "    </tr>\n",
              "  </tbody>\n",
              "</table>\n",
              "</div>"
            ],
            "text/plain": [
              "                  AccX                  AccY  ...         ThurstRefOut4 Label\n",
              "1           0.03380774  -0.11192460000000001  ...  -0.22405239999999998     0\n",
              "2            -0.116923            -0.2512355  ...              -0.22403     0\n",
              "3  0.22785189999999997            0.06732436  ...  -0.22398020000000002     0\n",
              "4          -0.01241245            -0.1545401  ...  -0.22413360000000002     0\n",
              "5  0.21535289999999999            0.05578018  ...            -0.2236833     0\n",
              "\n",
              "[5 rows x 19 columns]"
            ]
          },
          "execution_count": 11,
          "metadata": {},
          "output_type": "execute_result"
        }
      ]
    },
    {
      "cell_type": "code",
      "metadata": {
        "id": "HO-yptsebTNW"
      },
      "source": [
        ""
      ],
      "execution_count": null,
      "outputs": []
    },
    {
      "cell_type": "code",
      "metadata": {
        "colab": {
          "base_uri": "https://localhost:8080/"
        },
        "id": "lkQnPhOnvdOP",
        "outputId": "18b27ee2-2947-476a-9afc-d6187749a921"
      },
      "source": [
        "df.columns"
      ],
      "execution_count": null,
      "outputs": [
        {
          "data": {
            "text/plain": [
              "Index(['AccX', 'AccY', 'AccZ', 'GyrX', 'GyrY', 'GyrZ', 'Altitude', 'Cmd1',\n",
              "       'Cmd2', 'Cmd3', 'Cmd4', 'Roll', 'Pitch', 'Yaw', 'ThurstRefOut1',\n",
              "       'ThurstRefOut2', 'ThurstRefOut3', 'ThurstRefOut4', 'Label'],\n",
              "      dtype='object')"
            ]
          },
          "execution_count": 12,
          "metadata": {},
          "output_type": "execute_result"
        }
      ]
    },
    {
      "cell_type": "code",
      "metadata": {
        "colab": {
          "base_uri": "https://localhost:8080/"
        },
        "id": "UwNzFwPqlV9J",
        "outputId": "a162cf97-9c44-405b-acd5-aadaf4126afc"
      },
      "source": [
        "df.shape"
      ],
      "execution_count": null,
      "outputs": [
        {
          "data": {
            "text/plain": [
              "(3075000, 19)"
            ]
          },
          "execution_count": 13,
          "metadata": {},
          "output_type": "execute_result"
        }
      ]
    },
    {
      "cell_type": "code",
      "metadata": {
        "colab": {
          "base_uri": "https://localhost:8080/"
        },
        "id": "PObIjejqdlPq",
        "outputId": "f1a47694-9b24-4400-de0a-92654b9a0fe6"
      },
      "source": [
        "df.info()"
      ],
      "execution_count": null,
      "outputs": [
        {
          "name": "stdout",
          "output_type": "stream",
          "text": [
            "<class 'pandas.core.frame.DataFrame'>\n",
            "Int64Index: 3075000 entries, 1 to 3075000\n",
            "Data columns (total 19 columns):\n",
            " #   Column         Dtype \n",
            "---  ------         ----- \n",
            " 0   AccX           object\n",
            " 1   AccY           object\n",
            " 2   AccZ           object\n",
            " 3   GyrX           object\n",
            " 4   GyrY           object\n",
            " 5   GyrZ           object\n",
            " 6   Altitude       object\n",
            " 7   Cmd1           object\n",
            " 8   Cmd2           object\n",
            " 9   Cmd3           object\n",
            " 10  Cmd4           object\n",
            " 11  Roll           object\n",
            " 12  Pitch          object\n",
            " 13  Yaw            object\n",
            " 14  ThurstRefOut1  object\n",
            " 15  ThurstRefOut2  object\n",
            " 16  ThurstRefOut3  object\n",
            " 17  ThurstRefOut4  object\n",
            " 18  Label          int64 \n",
            "dtypes: int64(1), object(18)\n",
            "memory usage: 469.2+ MB\n"
          ]
        }
      ]
    },
    {
      "cell_type": "code",
      "metadata": {
        "colab": {
          "base_uri": "https://localhost:8080/"
        },
        "id": "AJ5hCnQScwzT",
        "outputId": "66a5d275-42b5-4737-9900-d1f88df9e230"
      },
      "source": [
        "df[\"Label\"].unique()"
      ],
      "execution_count": null,
      "outputs": [
        {
          "data": {
            "text/plain": [
              "array([0, 1, 2, 3, 4])"
            ]
          },
          "execution_count": 15,
          "metadata": {},
          "output_type": "execute_result"
        }
      ]
    },
    {
      "cell_type": "code",
      "metadata": {
        "id": "_KQ3fpfMdqtZ"
      },
      "source": [
        "# Change data type to numeric\n",
        "df = df.apply(pd.to_numeric)\n"
      ],
      "execution_count": null,
      "outputs": []
    },
    {
      "cell_type": "code",
      "metadata": {
        "colab": {
          "base_uri": "https://localhost:8080/"
        },
        "id": "JDjFCktue1rR",
        "outputId": "8d4aa8e3-3858-4fcc-df5c-cf58d738190e"
      },
      "source": [
        "df.info()"
      ],
      "execution_count": null,
      "outputs": [
        {
          "name": "stdout",
          "output_type": "stream",
          "text": [
            "<class 'pandas.core.frame.DataFrame'>\n",
            "Int64Index: 3075000 entries, 1 to 3075000\n",
            "Data columns (total 19 columns):\n",
            " #   Column         Dtype  \n",
            "---  ------         -----  \n",
            " 0   AccX           float64\n",
            " 1   AccY           float64\n",
            " 2   AccZ           float64\n",
            " 3   GyrX           float64\n",
            " 4   GyrY           float64\n",
            " 5   GyrZ           float64\n",
            " 6   Altitude       float64\n",
            " 7   Cmd1           float64\n",
            " 8   Cmd2           float64\n",
            " 9   Cmd3           float64\n",
            " 10  Cmd4           float64\n",
            " 11  Roll           float64\n",
            " 12  Pitch          float64\n",
            " 13  Yaw            float64\n",
            " 14  ThurstRefOut1  float64\n",
            " 15  ThurstRefOut2  float64\n",
            " 16  ThurstRefOut3  float64\n",
            " 17  ThurstRefOut4  float64\n",
            " 18  Label          int64  \n",
            "dtypes: float64(18), int64(1)\n",
            "memory usage: 469.2 MB\n"
          ]
        }
      ]
    },
    {
      "cell_type": "code",
      "metadata": {
        "colab": {
          "base_uri": "https://localhost:8080/"
        },
        "id": "aDnXapJ9rKs6",
        "outputId": "bf78bb7d-5899-480a-a4fd-ee92c97ba379"
      },
      "source": [
        "df[\"Label\"].unique()"
      ],
      "execution_count": null,
      "outputs": [
        {
          "data": {
            "text/plain": [
              "array([0, 1, 2, 3, 4])"
            ]
          },
          "execution_count": 18,
          "metadata": {},
          "output_type": "execute_result"
        }
      ]
    },
    {
      "cell_type": "markdown",
      "metadata": {
        "id": "jzMYa-vc3QOc"
      },
      "source": [
        "### Data Pre-processing"
      ]
    },
    {
      "cell_type": "markdown",
      "metadata": {
        "id": "QcfL-r9_3Vqu"
      },
      "source": [
        "### Feature Engineering"
      ]
    },
    {
      "cell_type": "code",
      "metadata": {
        "colab": {
          "base_uri": "https://localhost:8080/",
          "height": 332
        },
        "id": "ilA4S4u1gDWn",
        "outputId": "497d1d22-04a3-402f-f20a-14528ac6f97f"
      },
      "source": [
        "import seaborn as sns\n",
        "\n",
        "sns.heatmap(df.corr())\n",
        "plt.show()"
      ],
      "execution_count": null,
      "outputs": [
        {
          "data": {
            "image/png": "[encoded data removed]",
            "text/plain": [
              "<Figure size 432x288 with 2 Axes>"
            ]
          },
          "metadata": {},
          "output_type": "display_data"
        }
      ]
    },
    {
      "cell_type": "code",
      "metadata": {
        "id": "SBKcAWizgySy"
      },
      "source": [
        "new_cols = [\"AccX\",\"AccY\",\"AccZ\",\"GyrX\",\"GyrY\",\"GyrZ\",\"Cmd4\",\"Cmd3\",\"Label\"]"
      ],
      "execution_count": null,
      "outputs": []
    },
    {
      "cell_type": "code",
      "metadata": {
        "id": "gkYzlpvpgvnW"
      },
      "source": [
        "df = df[new_cols]"
      ],
      "execution_count": null,
      "outputs": []
    },
    {
      "cell_type": "code",
      "metadata": {
        "colab": {
          "base_uri": "https://localhost:8080/"
        },
        "id": "egMpq0VChLaP",
        "outputId": "099d3a5a-999e-4ae0-a55b-90c1b69f674d"
      },
      "source": [
        "df.shape"
      ],
      "execution_count": null,
      "outputs": [
        {
          "data": {
            "text/plain": [
              "(3075000, 9)"
            ]
          },
          "execution_count": 22,
          "metadata": {},
          "output_type": "execute_result"
        }
      ]
    },
    {
      "cell_type": "code",
      "metadata": {
        "colab": {
          "base_uri": "https://localhost:8080/"
        },
        "id": "VUqmAc3PXqBL",
        "outputId": "acf4905d-9919-4cc6-d2d4-40aa33f83d71"
      },
      "source": [
        "df[\"Label\"].value_counts()"
      ],
      "execution_count": null,
      "outputs": [
        {
          "data": {
            "text/plain": [
              "0    1885107\n",
              "3     306630\n",
              "4     300858\n",
              "1     297929\n",
              "2     284476\n",
              "Name: Label, dtype: int64"
            ]
          },
          "execution_count": 23,
          "metadata": {},
          "output_type": "execute_result"
        }
      ]
    },
    {
      "cell_type": "code",
      "metadata": {
        "colab": {
          "base_uri": "https://localhost:8080/"
        },
        "id": "wp7m7ypqypXB",
        "outputId": "9046fd33-07a7-4458-b252-0f3e7cc5c8c1"
      },
      "source": [
        "df[\"Label\"].unique()"
      ],
      "execution_count": null,
      "outputs": [
        {
          "data": {
            "text/plain": [
              "array([0, 1, 2, 3, 4])"
            ]
          },
          "execution_count": 24,
          "metadata": {},
          "output_type": "execute_result"
        }
      ]
    },
    {
      "cell_type": "markdown",
      "metadata": {
        "id": "yPxvHSQccs14"
      },
      "source": [
        "#### Creating Sliding Windows and Perform Feature for every Windows "
      ]
    },
    {
      "cell_type": "code",
      "metadata": {
        "id": "FCTC5hfixY2t"
      },
      "source": [
        "df_train = df"
      ],
      "execution_count": null,
      "outputs": []
    },
    {
      "cell_type": "code",
      "metadata": {
        "id": "73dh9J3zv3aW"
      },
      "source": [
        "x_list_acc = []\n",
        "y_list_acc = []\n",
        "z_list_acc = []\n",
        "x_list_gyr = []\n",
        "y_list_gyr = []\n",
        "z_list_gyr = []\n",
        "Cmd4 = []\n",
        "Cmd3 = []\n",
        "train_labels = []\n",
        "\n",
        "window_size = 64\n",
        "step_size = 40\n",
        "\n",
        "# creating overlaping windows of size window-size 100\n",
        "for i in range(0, df_train.shape[0] - window_size, step_size):\n",
        "    accx = df_train['AccX'].values[i: i + window_size]\n",
        "    accy = df_train['AccY'].values[i: i + window_size]\n",
        "    accz = df_train['AccY'].values[i: i + window_size]\n",
        "    gyrx = df_train['GyrX'].values[i: i + window_size]\n",
        "    gyry = df_train['GyrY'].values[i: i + window_size]\n",
        "    gyrz = df_train['GyrZ'].values[i: i + window_size]\n",
        "    Cmd31 = df_train['Cmd3'].values[i: i + window_size]\n",
        "    Cmd41 = df_train['Cmd4'].values[i: i + window_size]\n",
        "\n",
        "    label = stats.mode(df_train['Label'][i: i + window_size])[0][0]\n",
        "\n",
        "    x_list_acc.append(accx)\n",
        "    y_list_acc.append(accy)\n",
        "    z_list_acc.append(accz)\n",
        "    x_list_gyr.append(gyrx)\n",
        "    y_list_gyr.append(gyry)\n",
        "    z_list_gyr.append(gyrz)\n",
        "    Cmd3.append(Cmd31)\n",
        "    Cmd4.append(Cmd41)\n",
        "\n",
        "    train_labels.append(label)\n",
        "\n",
        "# Statistical Features on raw x, y and z in time domain\n",
        "X_train = pd.DataFrame()\n",
        "\n",
        "# mean\n",
        "X_train['x_mean_acc'] = pd.Series(x_list_acc).apply(lambda x: x.mean())\n",
        "X_train['y_mean_acc'] = pd.Series(y_list_acc).apply(lambda x: x.mean())\n",
        "X_train['z_mean_acc'] = pd.Series(z_list_acc).apply(lambda x: x.mean())\n",
        "X_train['x_mean_gyr'] = pd.Series(x_list_gyr).apply(lambda x: x.mean())\n",
        "X_train['y_mean_gyr'] = pd.Series(y_list_gyr).apply(lambda x: x.mean())\n",
        "X_train['z_mean_gyr'] = pd.Series(z_list_gyr).apply(lambda x: x.mean())\n",
        "X_train['mean_Cmd3'] = pd.Series(Cmd3).apply(lambda x: x.mean())\n",
        "X_train['mean_Cmd4'] = pd.Series(Cmd4).apply(lambda x: x.mean())\n",
        "\n",
        "\n",
        "# std dev\n",
        "X_train['x_std_acc'] = pd.Series(x_list_acc).apply(lambda x: x.std())\n",
        "X_train['y_std_acc'] = pd.Series(y_list_acc).apply(lambda x: x.std())\n",
        "X_train['z_std_acc'] = pd.Series(z_list_acc).apply(lambda x: x.std())\n",
        "X_train['x_std_gyr'] = pd.Series(x_list_gyr).apply(lambda x: x.std())\n",
        "X_train['std_Cmd3'] = pd.Series(Cmd3).apply(lambda x: x.std())\n",
        "X_train['std_Cmd4'] = pd.Series(Cmd4).apply(lambda x: x.std())\n",
        "\n",
        "# avg absolute diff\n",
        "X_train['x_aad_acc'] = pd.Series(x_list_acc).apply(lambda x: np.mean(np.absolute(x - np.mean(x))))\n",
        "X_train['y_aad_acc'] = pd.Series(y_list_acc).apply(lambda x: np.mean(np.absolute(x - np.mean(x))))\n",
        "X_train['z_aad_acc'] = pd.Series(z_list_acc).apply(lambda x: np.mean(np.absolute(x - np.mean(x))))\n",
        "X_train['x_aad_gyr'] = pd.Series(x_list_gyr).apply(lambda x: np.mean(np.absolute(x - np.mean(x))))\n",
        "X_train['y_aad_gyr'] = pd.Series(y_list_gyr).apply(lambda x: np.mean(np.absolute(x - np.mean(x))))\n",
        "X_train['z_aad_gyr'] = pd.Series(z_list_gyr).apply(lambda x: np.mean(np.absolute(x - np.mean(x))))\n",
        "X_train['aad_Cmd3'] = pd.Series(Cmd3).apply(lambda x: np.mean(np.absolute(x - np.mean(x))))\n",
        "X_train['aad_Cmd4'] = pd.Series(Cmd4).apply(lambda x: np.mean(np.absolute(x - np.mean(x))))\n",
        "\n",
        "# min\n",
        "X_train['x_min_acc'] = pd.Series(x_list_acc).apply(lambda x: x.min())\n",
        "X_train['y_min_acc'] = pd.Series(y_list_acc).apply(lambda x: x.min())\n",
        "X_train['z_min_acc'] = pd.Series(z_list_acc).apply(lambda x: x.min())\n",
        "X_train['x_min_gyr'] = pd.Series(x_list_gyr).apply(lambda x: x.min())\n",
        "X_train['y_min_gyr'] = pd.Series(y_list_gyr).apply(lambda x: x.min())\n",
        "X_train['z_min_gyr'] = pd.Series(z_list_gyr).apply(lambda x: x.min())\n",
        "X_train['min_Cmd3'] = pd.Series(Cmd3).apply(lambda x: x.min())\n",
        "X_train['min_Cmd4'] = pd.Series(Cmd4).apply(lambda x: x.min())\n",
        "\n",
        "\n",
        "# max\n",
        "X_train['x_max_acc'] = pd.Series(x_list_acc).apply(lambda x: x.max())\n",
        "X_train['y_max_acc'] = pd.Series(y_list_acc).apply(lambda x: x.max())\n",
        "X_train['z_max_acc'] = pd.Series(z_list_acc).apply(lambda x: x.max())\n",
        "X_train['x_max_gyr'] = pd.Series(x_list_gyr).apply(lambda x: x.max())\n",
        "X_train['y_max_gyr'] = pd.Series(y_list_gyr).apply(lambda x: x.max())\n",
        "X_train['z_max_gyr'] = pd.Series(z_list_gyr).apply(lambda x: x.max())\n",
        "X_train['max_Cmd3'] = pd.Series(Cmd3).apply(lambda x: x.max())\n",
        "X_train['max_Cmd4'] = pd.Series(Cmd4).apply(lambda x: x.max())\n",
        "\n",
        "# max-min diff\n",
        "X_train['x_maxmin_diff_acc'] = X_train['x_max_acc'] - X_train['x_min_acc']\n",
        "X_train['y_maxmin_diff_acc'] = X_train['y_max_acc'] - X_train['y_min_acc']\n",
        "X_train['z_maxmin_diff_acc'] = X_train['z_max_acc'] - X_train['z_min_acc']\n",
        "X_train['x_maxmin_diff_gyr'] = X_train['x_max_gyr'] - X_train['x_min_gyr']\n",
        "X_train['y_maxmin_diff_gyr'] = X_train['y_max_gyr'] - X_train['y_min_gyr']\n",
        "X_train['z_maxmin_diff_gyr'] = X_train['z_max_gyr'] - X_train['z_min_gyr']\n",
        "X_train['maxmin_diff_Cmd3'] = X_train['max_Cmd3'] - X_train['min_Cmd3']\n",
        "X_train['maxmin_diff_Cmd4'] = X_train['max_Cmd4'] - X_train['max_Cmd4']\n",
        "\n",
        "# median\n",
        "X_train['x_median_acc'] = pd.Series(x_list_acc).apply(lambda x: np.median(x))\n",
        "X_train['y_median_acc'] = pd.Series(y_list_acc).apply(lambda x: np.median(x))\n",
        "X_train['z_median_acc'] = pd.Series(z_list_acc).apply(lambda x: np.median(x))\n",
        "X_train['x_median_gyr'] = pd.Series(x_list_gyr).apply(lambda x: np.median(x))\n",
        "X_train['y_median_gyr'] = pd.Series(y_list_gyr).apply(lambda x: np.median(x))\n",
        "X_train['z_median_gyr'] = pd.Series(z_list_gyr).apply(lambda x: np.median(x))\n",
        "X_train['median_Cmd3'] = pd.Series(Cmd3).apply(lambda x: np.median(x))\n",
        "X_train['median_Cmd3'] = pd.Series(Cmd4).apply(lambda x: np.median(x))\n",
        "\n",
        "# median abs dev \n",
        "X_train['x_mad_acc'] = pd.Series(x_list_acc).apply(lambda x: np.median(np.absolute(x - np.median(x))))\n",
        "X_train['y_mad_acc'] = pd.Series(y_list_acc).apply(lambda x: np.median(np.absolute(x - np.median(x))))\n",
        "X_train['z_mad_acc'] = pd.Series(z_list_acc).apply(lambda x: np.median(np.absolute(x - np.median(x))))\n",
        "\n",
        "X_train['x_mad_gyr'] = pd.Series(x_list_gyr).apply(lambda x: np.median(np.absolute(x - np.median(x))))\n",
        "X_train['y_mad_gyr'] = pd.Series(y_list_gyr).apply(lambda x: np.median(np.absolute(x - np.median(x))))\n",
        "X_train['z_mad_gyr'] = pd.Series(z_list_gyr).apply(lambda x: np.median(np.absolute(x - np.median(x))))\n",
        "X_train['mad_Cmd3'] = pd.Series(Cmd3).apply(lambda x: np.median(np.absolute(x - np.median(x))))\n",
        "X_train['mad_Cmd4'] = pd.Series(Cmd4).apply(lambda x: np.median(np.absolute(x - np.median(x))))\n",
        "\n",
        "# interquartile range\n",
        "X_train['x_IQR_acc'] = pd.Series(x_list_acc).apply(lambda x: np.percentile(x, 75) - np.percentile(x, 25))\n",
        "X_train['y_IQR_acc'] = pd.Series(y_list_acc).apply(lambda x: np.percentile(x, 75) - np.percentile(x, 25))\n",
        "X_train['z_IQR_acc'] = pd.Series(z_list_acc).apply(lambda x: np.percentile(x, 75) - np.percentile(x, 25))\n",
        "\n",
        "X_train['x_IQR_gyr'] = pd.Series(x_list_gyr).apply(lambda x: np.percentile(x, 75) - np.percentile(x, 25))\n",
        "X_train['y_IQR_gyr'] = pd.Series(y_list_gyr).apply(lambda x: np.percentile(x, 75) - np.percentile(x, 25))\n",
        "X_train['z_IQR_gyr'] = pd.Series(z_list_gyr).apply(lambda x: np.percentile(x, 75) - np.percentile(x, 25))\n",
        "X_train['IQR_Cmd3'] = pd.Series(Cmd3).apply(lambda x: np.percentile(x, 75) - np.percentile(x, 25))\n",
        "X_train['IQR_Cmd4'] = pd.Series(Cmd4).apply(lambda x: np.percentile(x, 75) - np.percentile(x, 25))\n",
        "\n",
        "# negtive count\n",
        "X_train['x_neg_count_acc'] = pd.Series(x_list_acc).apply(lambda x: np.sum(x < 0))\n",
        "X_train['y_neg_count_acc'] = pd.Series(y_list_acc).apply(lambda x: np.sum(x < 0))\n",
        "X_train['z_neg_count_acc'] = pd.Series(z_list_acc).apply(lambda x: np.sum(x < 0))\n",
        "\n",
        "X_train['x_neg_count_gyr'] = pd.Series(x_list_gyr).apply(lambda x: np.sum(x < 0))\n",
        "X_train['y_neg_count_gyr'] = pd.Series(y_list_gyr).apply(lambda x: np.sum(x < 0))\n",
        "X_train['z_neg_count_gyr'] = pd.Series(z_list_gyr).apply(lambda x: np.sum(x < 0))\n",
        "X_train['neg_count_Cmd3'] = pd.Series(Cmd4).apply(lambda x: np.sum(x < 0))\n",
        "X_train['neg_count_Cmd4'] = pd.Series(Cmd4).apply(lambda x: np.sum(x < 0))\n",
        "\n",
        "# positive count\n",
        "X_train['x_pos_count_acc'] = pd.Series(x_list_acc).apply(lambda x: np.sum(x > 0))\n",
        "X_train['y_pos_count_acc'] = pd.Series(y_list_acc).apply(lambda x: np.sum(x > 0))\n",
        "X_train['z_pos_count_acc'] = pd.Series(z_list_acc).apply(lambda x: np.sum(x > 0))\n",
        "\n",
        "X_train['x_pos_count_gyr'] = pd.Series(x_list_gyr).apply(lambda x: np.sum(x > 0))\n",
        "X_train['y_pos_count_gyr'] = pd.Series(y_list_gyr).apply(lambda x: np.sum(x > 0))\n",
        "X_train['z_pos_count_gyr'] = pd.Series(z_list_gyr).apply(lambda x: np.sum(x > 0))\n",
        "X_train['pos_count_Cmd3'] = pd.Series(Cmd3).apply(lambda x: np.sum(x > 0))\n",
        "X_train['pos_count_Cmd4'] = pd.Series(Cmd4).apply(lambda x: np.sum(x > 0))\n",
        "\n",
        "# values above mean\n",
        "X_train['x_above_mean_acc'] = pd.Series(x_list_acc).apply(lambda x: np.sum(x > x.mean()))\n",
        "X_train['y_above_mean_acc'] = pd.Series(y_list_acc).apply(lambda x: np.sum(x > x.mean()))\n",
        "X_train['z_above_mean_acc'] = pd.Series(z_list_acc).apply(lambda x: np.sum(x > x.mean()))\n",
        "\n",
        "X_train['x_above_mean_gyr'] = pd.Series(x_list_gyr).apply(lambda x: np.sum(x > x.mean()))\n",
        "X_train['y_above_mean_gyr'] = pd.Series(y_list_gyr).apply(lambda x: np.sum(x > x.mean()))\n",
        "X_train['z_above_mean_gyr'] = pd.Series(z_list_gyr).apply(lambda x: np.sum(x > x.mean()))\n",
        "X_train['above_mean_Cmd3'] = pd.Series(Cmd3).apply(lambda x: np.sum(x > x.mean()))\n",
        "X_train['above_mean_Cmd4'] = pd.Series(Cmd4).apply(lambda x: np.sum(x > x.mean()))\n",
        "\n",
        "# number of peaks\n",
        "X_train['x_peak_count_acc'] = pd.Series(x_list_acc).apply(lambda x: len(find_peaks(x)[0]))\n",
        "X_train['y_peak_count_acc'] = pd.Series(y_list_acc).apply(lambda x: len(find_peaks(x)[0]))\n",
        "X_train['z_peak_count_acc'] = pd.Series(z_list_acc).apply(lambda x: len(find_peaks(x)[0]))\n",
        "\n",
        "X_train['x_peak_count_gyr'] = pd.Series(x_list_gyr).apply(lambda x: len(find_peaks(x)[0]))\n",
        "X_train['y_peak_count_gyr'] = pd.Series(y_list_gyr).apply(lambda x: len(find_peaks(x)[0]))\n",
        "X_train['z_peak_count_gyr'] = pd.Series(z_list_gyr).apply(lambda x: len(find_peaks(x)[0]))\n",
        "X_train['peak_count_Cmd3'] = pd.Series(Cmd3).apply(lambda x: len(find_peaks(x)[0]))\n",
        "X_train['peak_count_Cmd4'] = pd.Series(Cmd4).apply(lambda x: len(find_peaks(x)[0]))\n",
        "\n",
        "# skewness\n",
        "X_train['x_skewness_acc'] = pd.Series(x_list_acc).apply(lambda x: stats.skew(x))\n",
        "X_train['y_skewness_acc'] = pd.Series(y_list_acc).apply(lambda x: stats.skew(x))\n",
        "X_train['z_skewness_acc'] = pd.Series(z_list_acc).apply(lambda x: stats.skew(x))\n",
        "\n",
        "X_train['x_skewness_gyr'] = pd.Series(x_list_gyr).apply(lambda x: stats.skew(x))\n",
        "X_train['y_skewness_gyr'] = pd.Series(y_list_gyr).apply(lambda x: stats.skew(x))\n",
        "X_train['z_skewness_gyr'] = pd.Series(z_list_gyr).apply(lambda x: stats.skew(x))\n",
        "X_train['skewness_Cmd3'] = pd.Series(Cmd3).apply(lambda x: stats.skew(x))\n",
        "X_train['skewness_Cmd4'] = pd.Series(Cmd4).apply(lambda x: stats.skew(x))\n",
        "\n",
        "# kurtosis\n",
        "X_train['x_kurtosis_acc'] = pd.Series(x_list_acc).apply(lambda x: stats.kurtosis(x))\n",
        "X_train['y_kurtosis_acc'] = pd.Series(y_list_acc).apply(lambda x: stats.kurtosis(x))\n",
        "X_train['z_kurtosis_acc'] = pd.Series(z_list_acc).apply(lambda x: stats.kurtosis(x))\n",
        "\n",
        "X_train['x_kurtosis_gyr'] = pd.Series(x_list_gyr).apply(lambda x: stats.kurtosis(x))\n",
        "X_train['y_kurtosis_gyr'] = pd.Series(y_list_gyr).apply(lambda x: stats.kurtosis(x))\n",
        "X_train['z_kurtosis_gyr'] = pd.Series(z_list_gyr).apply(lambda x: stats.kurtosis(x))\n",
        "X_train['kurtosis_Cmd3'] = pd.Series(Cmd3).apply(lambda x: stats.kurtosis(x))\n",
        "X_train['kurtosis_Cmd4'] = pd.Series(Cmd4).apply(lambda x: stats.kurtosis(x))\n",
        "\n",
        "# energy\n",
        "X_train['x_energy_acc'] = pd.Series(x_list_acc).apply(lambda x: np.sum(x**2)/100)\n",
        "X_train['y_energy_acc'] = pd.Series(y_list_acc).apply(lambda x: np.sum(x**2)/100)\n",
        "X_train['z_energy_acc'] = pd.Series(z_list_acc).apply(lambda x: np.sum(x**2/100))\n",
        "\n",
        "X_train['x_energy_gyr'] = pd.Series(x_list_gyr).apply(lambda x: np.sum(x**2)/100)\n",
        "X_train['y_energy_gyr'] = pd.Series(y_list_gyr).apply(lambda x: np.sum(x**2)/100)\n",
        "X_train['z_energy_gyr'] = pd.Series(z_list_gyr).apply(lambda x: np.sum(x**2/100))\n",
        "X_train['energy_Cmd3'] = pd.Series(Cmd3).apply(lambda x: np.sum(x**2/100))\n",
        "X_train['energy_Cmd4'] = pd.Series(Cmd4).apply(lambda x: np.sum(x**2/100))\n",
        "\n",
        "# avg resultant\n",
        "X_train['avg_result_acc'] = [i.mean() for i in ((pd.Series(x_list_acc)**2 + pd.Series(y_list_acc)**2 + pd.Series(z_list_acc)**2)**0.5)]\n",
        "X_train['avg_result_gyr'] = [i.mean() for i in ((pd.Series(x_list_gyr)**2 + pd.Series(y_list_gyr)**2 + pd.Series(z_list_gyr)**2)**0.5)]\n",
        "\n",
        "\n",
        "\n",
        "# signal magnitude area\n",
        "X_train['sma_acc'] =    pd.Series(x_list_acc).apply(lambda x: np.sum(abs(x)/100)) + pd.Series(y_list_acc).apply(lambda x: np.sum(abs(x)/100)) \\\n",
        "                  + pd.Series(z_list_acc).apply(lambda x: np.sum(abs(x)/100))\n",
        "\n",
        "X_train['sma_gyr'] =    pd.Series(x_list_gyr).apply(lambda x: np.sum(abs(x)/100)) + pd.Series(y_list_gyr).apply(lambda x: np.sum(abs(x)/100)) \\\n",
        "                  + pd.Series(z_list_gyr).apply(lambda x: np.sum(abs(x)/100))\n",
        "\n",
        "\n",
        "y_train = np.array(train_labels)\n"
      ],
      "execution_count": null,
      "outputs": []
    },
    {
      "cell_type": "markdown",
      "metadata": {
        "id": "DWnpgv6R3qyg"
      },
      "source": [
        "#### Data Normalization"
      ]
    },
    {
      "cell_type": "code",
      "metadata": {
        "id": "U78U9kb5y6ZY"
      },
      "source": [
        "from sklearn.preprocessing import MinMaxScaler\n",
        "\n",
        "scaler = MinMaxScaler()\n",
        "scaler.fit(X_train)\n",
        "X_train= scaler.transform(X_train)\n"
      ],
      "execution_count": null,
      "outputs": []
    },
    {
      "cell_type": "code",
      "metadata": {
        "colab": {
          "base_uri": "https://localhost:8080/"
        },
        "id": "6I4DwuZMyCE-",
        "outputId": "75799b8d-222d-4706-9415-3cd4ea41a5d5"
      },
      "source": [
        "X_train.shape"
      ],
      "execution_count": null,
      "outputs": [
        {
          "data": {
            "text/plain": [
              "(76874, 129)"
            ]
          },
          "execution_count": 32,
          "metadata": {},
          "output_type": "execute_result"
        }
      ]
    },
    {
      "cell_type": "code",
      "metadata": {
        "id": "HcIOEsclyME6"
      },
      "source": [
        "n_features = X_train.shape[1]\n",
        "TIME_STEPS= 64"
      ],
      "execution_count": null,
      "outputs": []
    },
    {
      "cell_type": "code",
      "metadata": {
        "id": "hma4603MXZJ0"
      },
      "source": [
        "# Reshape data to feed into the Network\n",
        "X_train = X_train.reshape(X_train.shape[0],1,n_features)"
      ],
      "execution_count": null,
      "outputs": []
    },
    {
      "cell_type": "code",
      "metadata": {
        "colab": {
          "base_uri": "https://localhost:8080/"
        },
        "id": "FThHScpGp5q5",
        "outputId": "e2fcdbe6-b9f4-4a99-96f8-3413a8300050"
      },
      "source": [
        "print(X_train.shape, y_train.shape)\n"
      ],
      "execution_count": null,
      "outputs": [
        {
          "name": "stdout",
          "output_type": "stream",
          "text": [
            "(76874, 1, 129) (76874,)\n"
          ]
        }
      ]
    },
    {
      "cell_type": "code",
      "metadata": {
        "colab": {
          "base_uri": "https://localhost:8080/"
        },
        "id": "YSSfyXXEqiad",
        "outputId": "5e42fe92-c81a-4ef6-a9d5-c652413cd571"
      },
      "source": [
        "type(y_train)"
      ],
      "execution_count": null,
      "outputs": [
        {
          "data": {
            "text/plain": [
              "numpy.ndarray"
            ]
          },
          "execution_count": 36,
          "metadata": {},
          "output_type": "execute_result"
        }
      ]
    },
    {
      "cell_type": "code",
      "metadata": {
        "colab": {
          "base_uri": "https://localhost:8080/"
        },
        "id": "pzDwDD3Er-zV",
        "outputId": "52e47de2-547c-424c-e26a-fe687fcaccd6"
      },
      "source": [
        "unique, counts = np.unique(y_train, return_counts=True)\n",
        "\n",
        "print(np.asarray((unique, counts)).T)"
      ],
      "execution_count": null,
      "outputs": [
        {
          "name": "stdout",
          "output_type": "stream",
          "text": [
            "[[    0 47410]\n",
            " [    1  7363]\n",
            " [    2  7045]\n",
            " [    3  7603]\n",
            " [    4  7453]]\n"
          ]
        }
      ]
    },
    {
      "cell_type": "code",
      "metadata": {
        "id": "yrKSyDFh7uO0"
      },
      "source": [
        "y_train= y_train.reshape(-1, 1)"
      ],
      "execution_count": null,
      "outputs": []
    },
    {
      "cell_type": "markdown",
      "metadata": {
        "id": "5VbB3_k230ji"
      },
      "source": [
        "#### Label Encoding"
      ]
    },
    {
      "cell_type": "code",
      "metadata": {
        "id": "JsEFUUKJp8un"
      },
      "source": [
        "from sklearn.preprocessing import OneHotEncoder\n",
        "\n",
        "enc = OneHotEncoder(handle_unknown='ignore', sparse=False)\n",
        "\n",
        "enc = enc.fit(y_train)\n",
        "\n",
        "y_train = enc.transform(y_train)\n",
        "# y_test = enc.transform(y_test)"
      ],
      "execution_count": null,
      "outputs": []
    },
    {
      "cell_type": "code",
      "metadata": {
        "colab": {
          "base_uri": "https://localhost:8080/"
        },
        "id": "sIIpTsZHqMS4",
        "outputId": "00d5e505-0acc-4b7c-9621-e6f3863dd7ba"
      },
      "source": [
        "print(X_train.shape, y_train.shape)\n"
      ],
      "execution_count": null,
      "outputs": [
        {
          "name": "stdout",
          "output_type": "stream",
          "text": [
            "(76874, 1, 129) (76874, 5)\n"
          ]
        }
      ]
    },
    {
      "cell_type": "markdown",
      "metadata": {
        "id": "Uoh1-23WgAPy"
      },
      "source": [
        "### Create the Hybrid CNN LSTM Architecture"
      ]
    },
    {
      "cell_type": "code",
      "metadata": {
        "colab": {
          "base_uri": "https://localhost:8080/"
        },
        "id": "dq48N9rDgELO",
        "outputId": "0d093944-9005-46e9-88d0-4b62888396c8"
      },
      "source": [
        "model = Sequential()\n",
        "\n",
        "model.add(Conv1D(filters=64, kernel_size=1, activation='relu', input_shape=(X_train.shape[1],X_train.shape[2])))\n",
        "# model.add(Dropout(0.3))\n",
        "model.add(Conv1D(filters=32, kernel_size=1, activation='relu'))\n",
        "model.add(Dropout(0.3))\n",
        "\n",
        "model.add(TimeDistributed(Flatten()))\n",
        "\n",
        "model.add(LSTM(128,activation='tanh', return_sequences=False))\n",
        "model.add(Dropout(0.4))\n",
        "\n",
        "model.add(Dense(30, activation='relu'))\n",
        "model.add(Dense(5,activation='softmax'))\n",
        "\n",
        "model.summary()"
      ],
      "execution_count": null,
      "outputs": [
        {
          "name": "stdout",
          "output_type": "stream",
          "text": [
            "Model: \"sequential_7\"\n",
            "_________________________________________________________________\n",
            "Layer (type)                 Output Shape              Param #   \n",
            "=================================================================\n",
            "conv1d_13 (Conv1D)           (None, 1, 64)             8320      \n",
            "_________________________________________________________________\n",
            "conv1d_14 (Conv1D)           (None, 1, 32)             2080      \n",
            "_________________________________________________________________\n",
            "dropout_14 (Dropout)         (None, 1, 32)             0         \n",
            "_________________________________________________________________\n",
            "time_distributed_7 (TimeDist (None, 1, 32)             0         \n",
            "_________________________________________________________________\n",
            "lstm_7 (LSTM)                (None, 128)               82432     \n",
            "_________________________________________________________________\n",
            "dropout_15 (Dropout)         (None, 128)               0         \n",
            "_________________________________________________________________\n",
            "dense_14 (Dense)             (None, 30)                3870      \n",
            "_________________________________________________________________\n",
            "dense_15 (Dense)             (None, 5)                 155       \n",
            "=================================================================\n",
            "Total params: 96,857\n",
            "Trainable params: 96,857\n",
            "Non-trainable params: 0\n",
            "_________________________________________________________________\n"
          ]
        }
      ]
    },
    {
      "cell_type": "markdown",
      "metadata": {
        "id": "7MRR0hAbgOOv"
      },
      "source": [
        "\n",
        "### Train the Model"
      ]
    },
    {
      "cell_type": "code",
      "metadata": {
        "id": "9k7B8VL-Z7zb"
      },
      "source": [
        "# Function to Plot Training Accuracy and Loss\n",
        "def plot_training(history):\n",
        "    print(history.history.keys())\n",
        "\n",
        "    #  \"Accuracy\"\n",
        "    plt.plot(history.history['accuracy'])\n",
        "    plt.plot(history.history['val_accuracy'])\n",
        "    plt.title('model accuracy')\n",
        "    plt.ylabel('accuracy')\n",
        "    plt.xlabel('epoch')\n",
        "    plt.legend(['train', 'validation'], loc='upper left')\n",
        "    plt.show()\n",
        "    \n",
        "    # \"Loss\"\n",
        "    plt.plot(history.history['loss'])\n",
        "    plt.plot(history.history['val_loss'])\n",
        "    plt.title('model loss')\n",
        "    plt.ylabel('loss')\n",
        "    plt.xlabel('epoch')\n",
        "    plt.legend(['train', 'validation'], loc='upper left')\n",
        "    plt.show()"
      ],
      "execution_count": null,
      "outputs": []
    },
    {
      "cell_type": "code",
      "metadata": {
        "colab": {
          "background_save": true,
          "base_uri": "https://localhost:8080/"
        },
        "id": "WMg7mXZmgJuG",
        "outputId": "536aaf3d-20e6-4066-d87f-c17e7a71e7b5"
      },
      "source": [
        "def training(model, X_train, y_train):\n",
        "    # Another control put in place to handle overfitting\n",
        "    early_stopping = tf.keras.callbacks.EarlyStopping(monitor='val_loss',verbose=1,patience=20,mode='min',restore_best_weights=True)\n",
        "\n",
        "    opt = tf.keras.optimizers.Adam(learning_rate=0.0001)\n",
        "    # opt = tfa.optimizers.SWA(tf.keras.optimizers.SGD(), 100, 10)\n",
        "    \n",
        "    # compile the model and Train\n",
        "    model.compile(optimizer = opt, loss = 'categorical_crossentropy', metrics = ['accuracy']) \n",
        "\n",
        "    history = model.fit(X_train, y_train,epochs=200,batch_size=16,validation_split=0.23,shuffle=True,callbacks=[early_stopping])\n",
        "    print(history.history.keys())\n",
        "    # plot training performance over the epochs\n",
        "    plot_training(history)\n",
        "    return history\n",
        "\n",
        "history= training(model, X_train, y_train)"
      ],
      "execution_count": null,
      "outputs": [
        {
          "name": "stdout",
          "output_type": "stream",
          "text": [
            "Epoch 1/200\n",
            "3700/3700 [==============================] - 22s 5ms/step - loss: 0.8521 - accuracy: 0.6513 - val_loss: 1.5368 - val_accuracy: 0.5014\n",
            "Epoch 2/200\n",
            "3700/3700 [==============================] - 19s 5ms/step - loss: 0.5428 - accuracy: 0.7759 - val_loss: 0.8807 - val_accuracy: 0.5456\n",
            "Epoch 3/200\n",
            "3700/3700 [==============================] - 19s 5ms/step - loss: 0.4510 - accuracy: 0.8186 - val_loss: 0.5876 - val_accuracy: 0.7983\n",
            "Epoch 4/200\n",
            "3700/3700 [==============================] - 19s 5ms/step - loss: 0.4023 - accuracy: 0.8386 - val_loss: 0.3808 - val_accuracy: 0.8621\n",
            "Epoch 5/200\n",
            "3700/3700 [==============================] - 19s 5ms/step - loss: 0.3631 - accuracy: 0.8517 - val_loss: 0.2951 - val_accuracy: 0.8978\n",
            "Epoch 6/200\n",
            "3700/3700 [==============================] - 19s 5ms/step - loss: 0.3405 - accuracy: 0.8623 - val_loss: 0.2812 - val_accuracy: 0.9009\n",
            "Epoch 7/200\n",
            "3700/3700 [==============================] - 19s 5ms/step - loss: 0.3194 - accuracy: 0.8694 - val_loss: 0.2243 - val_accuracy: 0.9207\n",
            "Epoch 8/200\n",
            "3700/3700 [==============================] - 19s 5ms/step - loss: 0.3025 - accuracy: 0.8775 - val_loss: 0.2333 - val_accuracy: 0.9140\n",
            "Epoch 9/200\n",
            "3700/3700 [==============================] - 19s 5ms/step - loss: 0.2905 - accuracy: 0.8821 - val_loss: 0.1927 - val_accuracy: 0.9275\n",
            "Epoch 10/200\n",
            "3700/3700 [==============================] - 19s 5ms/step - loss: 0.2808 - accuracy: 0.8871 - val_loss: 0.2083 - val_accuracy: 0.9178\n",
            "Epoch 11/200\n",
            "3700/3700 [==============================] - 19s 5ms/step - loss: 0.2680 - accuracy: 0.8920 - val_loss: 0.2077 - val_accuracy: 0.9106\n",
            "Epoch 12/200\n",
            "3700/3700 [==============================] - 19s 5ms/step - loss: 0.2598 - accuracy: 0.8958 - val_loss: 0.1892 - val_accuracy: 0.9287\n",
            "Epoch 13/200\n",
            "3700/3700 [==============================] - 19s 5ms/step - loss: 0.2493 - accuracy: 0.9008 - val_loss: 0.1888 - val_accuracy: 0.9247\n",
            "Epoch 14/200\n",
            "3700/3700 [==============================] - 19s 5ms/step - loss: 0.2429 - accuracy: 0.9043 - val_loss: 0.1870 - val_accuracy: 0.9230\n",
            "Epoch 15/200\n",
            "3700/3700 [==============================] - 19s 5ms/step - loss: 0.2371 - accuracy: 0.9071 - val_loss: 0.1626 - val_accuracy: 0.9352\n",
            "Epoch 16/200\n",
            "3700/3700 [==============================] - 19s 5ms/step - loss: 0.2303 - accuracy: 0.9095 - val_loss: 0.1576 - val_accuracy: 0.9390\n",
            "Epoch 17/200\n",
            "3700/3700 [==============================] - 19s 5ms/step - loss: 0.2250 - accuracy: 0.9121 - val_loss: 0.1465 - val_accuracy: 0.9392\n",
            "Epoch 18/200\n",
            "3700/3700 [==============================] - 19s 5ms/step - loss: 0.2215 - accuracy: 0.9130 - val_loss: 0.1609 - val_accuracy: 0.9409\n",
            "Epoch 19/200\n",
            "3700/3700 [==============================] - 19s 5ms/step - loss: 0.2168 - accuracy: 0.9155 - val_loss: 0.1397 - val_accuracy: 0.9469\n",
            "Epoch 20/200\n",
            "3700/3700 [==============================] - 19s 5ms/step - loss: 0.2138 - accuracy: 0.9164 - val_loss: 0.1446 - val_accuracy: 0.9423\n",
            "Epoch 21/200\n",
            "3700/3700 [==============================] - 19s 5ms/step - loss: 0.2092 - accuracy: 0.9172 - val_loss: 0.1498 - val_accuracy: 0.9368\n",
            "Epoch 22/200\n",
            "3700/3700 [==============================] - 19s 5ms/step - loss: 0.2067 - accuracy: 0.9195 - val_loss: 0.1107 - val_accuracy: 0.9605\n",
            "Epoch 23/200\n",
            "3700/3700 [==============================] - 19s 5ms/step - loss: 0.2012 - accuracy: 0.9222 - val_loss: 0.1255 - val_accuracy: 0.9557\n",
            "Epoch 24/200\n",
            "3700/3700 [==============================] - 19s 5ms/step - loss: 0.2011 - accuracy: 0.9225 - val_loss: 0.1474 - val_accuracy: 0.9463\n",
            "Epoch 25/200\n",
            "3700/3700 [==============================] - 19s 5ms/step - loss: 0.1979 - accuracy: 0.9235 - val_loss: 0.1387 - val_accuracy: 0.9514\n",
            "Epoch 26/200\n",
            "3700/3700 [==============================] - 19s 5ms/step - loss: 0.1929 - accuracy: 0.9259 - val_loss: 0.1393 - val_accuracy: 0.9503\n",
            "Epoch 27/200\n",
            "3700/3700 [==============================] - 19s 5ms/step - loss: 0.1925 - accuracy: 0.9260 - val_loss: 0.1043 - val_accuracy: 0.9623\n",
            "Epoch 28/200\n",
            "3700/3700 [==============================] - 19s 5ms/step - loss: 0.1875 - accuracy: 0.9282 - val_loss: 0.1308 - val_accuracy: 0.9494\n",
            "Epoch 29/200\n",
            "3700/3700 [==============================] - 19s 5ms/step - loss: 0.1880 - accuracy: 0.9287 - val_loss: 0.1244 - val_accuracy: 0.9561\n",
            "Epoch 30/200\n",
            "3700/3700 [==============================] - 19s 5ms/step - loss: 0.1846 - accuracy: 0.9291 - val_loss: 0.1318 - val_accuracy: 0.9554\n",
            "Epoch 31/200\n",
            "3700/3700 [==============================] - 19s 5ms/step - loss: 0.1851 - accuracy: 0.9301 - val_loss: 0.1086 - val_accuracy: 0.9650\n",
            "Epoch 32/200\n",
            "3700/3700 [==============================] - 19s 5ms/step - loss: 0.1811 - accuracy: 0.9300 - val_loss: 0.1069 - val_accuracy: 0.9644\n",
            "Epoch 33/200\n",
            "3700/3700 [==============================] - 19s 5ms/step - loss: 0.1802 - accuracy: 0.9312 - val_loss: 0.1208 - val_accuracy: 0.9569\n",
            "Epoch 34/200\n",
            "3700/3700 [==============================] - 19s 5ms/step - loss: 0.1775 - accuracy: 0.9325 - val_loss: 0.0941 - val_accuracy: 0.9714\n",
            "Epoch 35/200\n",
            "3700/3700 [==============================] - 19s 5ms/step - loss: 0.1763 - accuracy: 0.9329 - val_loss: 0.1227 - val_accuracy: 0.9598\n",
            "Epoch 36/200\n",
            "3700/3700 [==============================] - 19s 5ms/step - loss: 0.1745 - accuracy: 0.9351 - val_loss: 0.1155 - val_accuracy: 0.9624\n",
            "Epoch 37/200\n",
            "3700/3700 [==============================] - 19s 5ms/step - loss: 0.1742 - accuracy: 0.9339 - val_loss: 0.1166 - val_accuracy: 0.9604\n",
            "Epoch 38/200\n",
            "3700/3700 [==============================] - 19s 5ms/step - loss: 0.1706 - accuracy: 0.9365 - val_loss: 0.0903 - val_accuracy: 0.9729\n",
            "Epoch 39/200\n",
            "3700/3700 [==============================] - 19s 5ms/step - loss: 0.1681 - accuracy: 0.9360 - val_loss: 0.0770 - val_accuracy: 0.9765\n",
            "Epoch 40/200\n",
            "3700/3700 [==============================] - 19s 5ms/step - loss: 0.1682 - accuracy: 0.9368 - val_loss: 0.0860 - val_accuracy: 0.9719\n",
            "Epoch 41/200\n",
            "3700/3700 [==============================] - 19s 5ms/step - loss: 0.1665 - accuracy: 0.9368 - val_loss: 0.0960 - val_accuracy: 0.9716\n",
            "Epoch 42/200\n",
            "3700/3700 [==============================] - 19s 5ms/step - loss: 0.1651 - accuracy: 0.9380 - val_loss: 0.0919 - val_accuracy: 0.9710\n",
            "Epoch 43/200\n",
            "3700/3700 [==============================] - 19s 5ms/step - loss: 0.1640 - accuracy: 0.9389 - val_loss: 0.0904 - val_accuracy: 0.9709\n",
            "Epoch 44/200\n",
            "3700/3700 [==============================] - 19s 5ms/step - loss: 0.1616 - accuracy: 0.9399 - val_loss: 0.0733 - val_accuracy: 0.9763\n",
            "Epoch 45/200\n",
            "3700/3700 [==============================] - 19s 5ms/step - loss: 0.1620 - accuracy: 0.9393 - val_loss: 0.0795 - val_accuracy: 0.9760\n",
            "Epoch 46/200\n",
            "3700/3700 [==============================] - 19s 5ms/step - loss: 0.1602 - accuracy: 0.9397 - val_loss: 0.0731 - val_accuracy: 0.9783\n",
            "Epoch 47/200\n",
            "3700/3700 [==============================] - 19s 5ms/step - loss: 0.1582 - accuracy: 0.9405 - val_loss: 0.0916 - val_accuracy: 0.9712\n",
            "Epoch 48/200\n",
            "3700/3700 [==============================] - 19s 5ms/step - loss: 0.1581 - accuracy: 0.9404 - val_loss: 0.0848 - val_accuracy: 0.9729\n",
            "Epoch 49/200\n",
            "3700/3700 [==============================] - 19s 5ms/step - loss: 0.1571 - accuracy: 0.9405 - val_loss: 0.0781 - val_accuracy: 0.9770\n",
            "Epoch 50/200\n",
            "3700/3700 [==============================] - 19s 5ms/step - loss: 0.1571 - accuracy: 0.9412 - val_loss: 0.0791 - val_accuracy: 0.9746\n",
            "Epoch 51/200\n",
            "3700/3700 [==============================] - 19s 5ms/step - loss: 0.1539 - accuracy: 0.9421 - val_loss: 0.0952 - val_accuracy: 0.9684\n",
            "Epoch 52/200\n",
            "3700/3700 [==============================] - 19s 5ms/step - loss: 0.1537 - accuracy: 0.9421 - val_loss: 0.1048 - val_accuracy: 0.9670\n",
            "Epoch 53/200\n",
            "3700/3700 [==============================] - 19s 5ms/step - loss: 0.1540 - accuracy: 0.9424 - val_loss: 0.1045 - val_accuracy: 0.9666\n",
            "Epoch 54/200\n",
            "3700/3700 [==============================] - 19s 5ms/step - loss: 0.1532 - accuracy: 0.9418 - val_loss: 0.0747 - val_accuracy: 0.9775\n",
            "Epoch 55/200\n",
            "3700/3700 [==============================] - 19s 5ms/step - loss: 0.1503 - accuracy: 0.9442 - val_loss: 0.0694 - val_accuracy: 0.9797\n",
            "Epoch 56/200\n",
            "3700/3700 [==============================] - 19s 5ms/step - loss: 0.1500 - accuracy: 0.9436 - val_loss: 0.0829 - val_accuracy: 0.9736\n",
            "Epoch 57/200\n",
            "3700/3700 [==============================] - 19s 5ms/step - loss: 0.1499 - accuracy: 0.9446 - val_loss: 0.0742 - val_accuracy: 0.9788\n",
            "Epoch 58/200\n",
            "3700/3700 [==============================] - 19s 5ms/step - loss: 0.1468 - accuracy: 0.9453 - val_loss: 0.0988 - val_accuracy: 0.9693\n",
            "Epoch 59/200\n",
            "3700/3700 [==============================] - 19s 5ms/step - loss: 0.1458 - accuracy: 0.9463 - val_loss: 0.0848 - val_accuracy: 0.9738\n",
            "Epoch 60/200\n",
            "3700/3700 [==============================] - 19s 5ms/step - loss: 0.1482 - accuracy: 0.9455 - val_loss: 0.0672 - val_accuracy: 0.9800\n",
            "Epoch 61/200\n",
            "3700/3700 [==============================] - 19s 5ms/step - loss: 0.1458 - accuracy: 0.9460 - val_loss: 0.0757 - val_accuracy: 0.9790\n",
            "Epoch 62/200\n",
            "3700/3700 [==============================] - 19s 5ms/step - loss: 0.1443 - accuracy: 0.9468 - val_loss: 0.0708 - val_accuracy: 0.9803\n",
            "Epoch 63/200\n",
            "3700/3700 [==============================] - 19s 5ms/step - loss: 0.1421 - accuracy: 0.9473 - val_loss: 0.0722 - val_accuracy: 0.9783\n",
            "Epoch 64/200\n",
            "3700/3700 [==============================] - 19s 5ms/step - loss: 0.1431 - accuracy: 0.9470 - val_loss: 0.0665 - val_accuracy: 0.9809\n",
            "Epoch 65/200\n",
            "3700/3700 [==============================] - 19s 5ms/step - loss: 0.1419 - accuracy: 0.9477 - val_loss: 0.0830 - val_accuracy: 0.9757\n",
            "Epoch 66/200\n",
            "3700/3700 [==============================] - 19s 5ms/step - loss: 0.1416 - accuracy: 0.9478 - val_loss: 0.0806 - val_accuracy: 0.9764\n",
            "Epoch 67/200\n",
            "3700/3700 [==============================] - 19s 5ms/step - loss: 0.1400 - accuracy: 0.9478 - val_loss: 0.0857 - val_accuracy: 0.9742\n",
            "Epoch 68/200\n",
            "3700/3700 [==============================] - 19s 5ms/step - loss: 0.1399 - accuracy: 0.9480 - val_loss: 0.0744 - val_accuracy: 0.9769\n",
            "Epoch 69/200\n",
            "3700/3700 [==============================] - 19s 5ms/step - loss: 0.1404 - accuracy: 0.9489 - val_loss: 0.0745 - val_accuracy: 0.9782\n",
            "Epoch 70/200\n",
            "3700/3700 [==============================] - 19s 5ms/step - loss: 0.1384 - accuracy: 0.9489 - val_loss: 0.0768 - val_accuracy: 0.9791\n",
            "Epoch 71/200\n",
            "3700/3700 [==============================] - 19s 5ms/step - loss: 0.1373 - accuracy: 0.9497 - val_loss: 0.0711 - val_accuracy: 0.9801\n",
            "Epoch 72/200\n",
            "3700/3700 [==============================] - 19s 5ms/step - loss: 0.1370 - accuracy: 0.9492 - val_loss: 0.0585 - val_accuracy: 0.9838\n",
            "Epoch 73/200\n",
            "3700/3700 [==============================] - 19s 5ms/step - loss: 0.1376 - accuracy: 0.9502 - val_loss: 0.0812 - val_accuracy: 0.9771\n",
            "Epoch 74/200\n",
            "3700/3700 [==============================] - 19s 5ms/step - loss: 0.1367 - accuracy: 0.9494 - val_loss: 0.0658 - val_accuracy: 0.9798\n",
            "Epoch 75/200\n",
            "3700/3700 [==============================] - 19s 5ms/step - loss: 0.1342 - accuracy: 0.9502 - val_loss: 0.0611 - val_accuracy: 0.9834\n",
            "Epoch 76/200\n",
            "3700/3700 [==============================] - 19s 5ms/step - loss: 0.1349 - accuracy: 0.9512 - val_loss: 0.0687 - val_accuracy: 0.9801\n",
            "Epoch 77/200\n",
            "3700/3700 [==============================] - 19s 5ms/step - loss: 0.1322 - accuracy: 0.9522 - val_loss: 0.0825 - val_accuracy: 0.9772\n",
            "Epoch 78/200\n",
            "3700/3700 [==============================] - 19s 5ms/step - loss: 0.1354 - accuracy: 0.9504 - val_loss: 0.0643 - val_accuracy: 0.9818\n",
            "Epoch 79/200\n",
            "3700/3700 [==============================] - 19s 5ms/step - loss: 0.1332 - accuracy: 0.9507 - val_loss: 0.0703 - val_accuracy: 0.9801\n",
            "Epoch 80/200\n",
            "3700/3700 [==============================] - 19s 5ms/step - loss: 0.1334 - accuracy: 0.9511 - val_loss: 0.0733 - val_accuracy: 0.9796\n",
            "Epoch 81/200\n",
            "3700/3700 [==============================] - 19s 5ms/step - loss: 0.1312 - accuracy: 0.9514 - val_loss: 0.0698 - val_accuracy: 0.9808\n",
            "Epoch 82/200\n",
            "3700/3700 [==============================] - 19s 5ms/step - loss: 0.1319 - accuracy: 0.9521 - val_loss: 0.0727 - val_accuracy: 0.9790\n",
            "Epoch 83/200\n",
            "3700/3700 [==============================] - 19s 5ms/step - loss: 0.1311 - accuracy: 0.9531 - val_loss: 0.0654 - val_accuracy: 0.9820\n",
            "Epoch 84/200\n",
            "3700/3700 [==============================] - 19s 5ms/step - loss: 0.1304 - accuracy: 0.9519 - val_loss: 0.0790 - val_accuracy: 0.9775\n",
            "Epoch 85/200\n",
            "3700/3700 [==============================] - 19s 5ms/step - loss: 0.1319 - accuracy: 0.9514 - val_loss: 0.0761 - val_accuracy: 0.9782\n",
            "Epoch 86/200\n",
            "3700/3700 [==============================] - 19s 5ms/step - loss: 0.1290 - accuracy: 0.9533 - val_loss: 0.0649 - val_accuracy: 0.9805\n",
            "Epoch 87/200\n",
            "3700/3700 [==============================] - 19s 5ms/step - loss: 0.1302 - accuracy: 0.9518 - val_loss: 0.0658 - val_accuracy: 0.9817\n",
            "Epoch 88/200\n",
            "3700/3700 [==============================] - 18s 5ms/step - loss: 0.1273 - accuracy: 0.9533 - val_loss: 0.0630 - val_accuracy: 0.9832\n",
            "Epoch 89/200\n",
            "3700/3700 [==============================] - 19s 5ms/step - loss: 0.1278 - accuracy: 0.9530 - val_loss: 0.0854 - val_accuracy: 0.9772\n",
            "Epoch 90/200\n",
            "3700/3700 [==============================] - 19s 5ms/step - loss: 0.1271 - accuracy: 0.9533 - val_loss: 0.0664 - val_accuracy: 0.9825\n",
            "Epoch 91/200\n",
            "3700/3700 [==============================] - 19s 5ms/step - loss: 0.1273 - accuracy: 0.9536 - val_loss: 0.0986 - val_accuracy: 0.9687\n",
            "Epoch 92/200\n",
            "3700/3700 [==============================] - 19s 5ms/step - loss: 0.1267 - accuracy: 0.9543 - val_loss: 0.0751 - val_accuracy: 0.9795\n",
            "Restoring model weights from the end of the best epoch.\n",
            "Epoch 00092: early stopping\n",
            "dict_keys(['loss', 'accuracy', 'val_loss', 'val_accuracy'])\n",
            "dict_keys(['loss', 'accuracy', 'val_loss', 'val_accuracy'])\n"
          ]
        },
        {
          "data": {
            "image/png": "[encoded data removed]",
            "text/plain": [
              "<Figure size 432x288 with 1 Axes>"
            ]
          },
          "metadata": {},
          "output_type": "display_data"
        },
        {
          "data": {
            "image/png": "[encoded data removed]",
            "text/plain": [
              "<Figure size 432x288 with 1 Axes>"
            ]
          },
          "metadata": {},
          "output_type": "display_data"
        }
      ]
    },
    {
      "cell_type": "markdown",
      "metadata": {
        "id": "GB2_52XeUXyL"
      },
      "source": [
        "### Save the Model"
      ]
    },
    {
      "cell_type": "code",
      "metadata": {
        "colab": {
          "background_save": true
        },
        "id": "orBzCwqUUSzs"
      },
      "source": [
        "import datetime\n",
        "model.save(\"Gyr_Models/\"+Category+\"_\"+str(TIME_STEPS)+\"_\"+f'{datetime.datetime.today().strftime(\"%d-%m-%Y:%H\")}.h5')"
      ],
      "execution_count": null,
      "outputs": []
    }
  ]
}